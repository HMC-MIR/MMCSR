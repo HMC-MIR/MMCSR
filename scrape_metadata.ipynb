{
 "cells": [
  {
   "cell_type": "markdown",
   "id": "35458592",
   "metadata": {},
   "source": [
    "This notebook scrapes the metadata given a piece url."
   ]
  },
  {
   "cell_type": "code",
   "execution_count": 1,
   "id": "fafc3095",
   "metadata": {},
   "outputs": [],
   "source": [
    "import requests\n",
    "import numpy as np\n",
    "import os\n",
    "from bs4 import BeautifulSoup\n",
    "import re\n",
    "import pandas as pd\n",
    "import zipfile\n",
    "import pickle\n",
    "import subprocess"
   ]
  },
  {
   "cell_type": "code",
   "execution_count": null,
   "id": "b70da192",
   "metadata": {},
   "outputs": [],
   "source": [
    "# get the list of ids from 9_way_dataset.zip\n",
    "\n",
    "with zipfile.ZipFile('9_way_dataset.zip', 'r') as zip_file:\n",
    "    # Assuming there's only one file inside the ZIP\n",
    "    filename = zip_file.namelist()[0]\n",
    "    # Open the file inside the ZIP\n",
    "    with zip_file.open(filename) as f:\n",
    "        # Load the pickled object\n",
    "        data_9 = pickle.load(f)"
   ]
  },
  {
   "cell_type": "code",
   "execution_count": 2,
   "id": "9a18d1a4",
   "metadata": {},
   "outputs": [],
   "source": [
    "# get the list of ids from 100_way_dataset.zip\n",
    "\n",
    "with zipfile.ZipFile('100_way_dataset.zip', 'r') as zip_file:\n",
    "    # Assuming there's only one file inside the ZIP\n",
    "    filename = zip_file.namelist()[0]\n",
    "    # Open the file inside the ZIP\n",
    "    with zip_file.open(filename) as f:\n",
    "        # Load the pickled object\n",
    "        data_100 = pickle.load(f)"
   ]
  },
  {
   "cell_type": "code",
   "execution_count": null,
   "id": "b8e319cc",
   "metadata": {},
   "outputs": [],
   "source": [
    "# get the list of ids from 9_way_dataset\n",
    "ids_9 = []\n",
    "for i in range(6,9):\n",
    "    for data in data_9[i]:\n",
    "        ids_9.append(data[0])\n",
    "\n",
    "ids_9 = list(set(ids_9))\n",
    "print(len(ids_9))"
   ]
  },
  {
   "cell_type": "code",
   "execution_count": 3,
   "id": "a82054a3",
   "metadata": {},
   "outputs": [
    {
     "name": "stdout",
     "output_type": "stream",
     "text": [
      "4930\n"
     ]
    }
   ],
   "source": [
    "# get the list of ids from 100_way_dataset\n",
    "ids_100 = []\n",
    "for i in range(6,9):\n",
    "    for data in data_100[i]:\n",
    "        ids_100.append(data[0])\n",
    "\n",
    "ids_100 = list(set(ids_100))\n",
    "print(len(ids_100))"
   ]
  },
  {
   "cell_type": "code",
   "execution_count": null,
   "id": "9a0b5b36",
   "metadata": {},
   "outputs": [],
   "source": [
    "# get pickle file\n",
    "with open('9_way_pdf_dict.pkl', 'rb') as f:\n",
    "    dict_ids_9 = pickle.load(f)\n",
    "    \n",
    "url_dict_9={}\n",
    "not_valid_ids_9 = []\n",
    "for i in ids_9:\n",
    "    try:\n",
    "        url_dict_9[i]=dict_ids_9[i]\n",
    "    except:\n",
    "        not_valid_ids_9.append(i)\n",
    "        continue\n",
    "print(len(ids_9))\n",
    "print(len(url_dict_9))\n",
    "print(len(not_valid_ids_9))"
   ]
  },
  {
   "cell_type": "code",
   "execution_count": 4,
   "id": "0dfa47aa",
   "metadata": {},
   "outputs": [
    {
     "name": "stdout",
     "output_type": "stream",
     "text": [
      "4930\n",
      "4094\n",
      "836\n"
     ]
    }
   ],
   "source": [
    "# get pickle file\n",
    "with open('100_way_pdf_dict.pkl', 'rb') as f:\n",
    "    dict_ids_100 = pickle.load(f)\n",
    "    \n",
    "url_dict_100={}\n",
    "not_valid_ids_100 = []\n",
    "for i in ids_100:\n",
    "    try:\n",
    "        url_dict_100[i]=dict_ids_100[i]\n",
    "    except:\n",
    "        not_valid_ids_100.append(i)\n",
    "        continue\n",
    "print(len(ids_100))\n",
    "print(len(url_dict_100))\n",
    "print(len(not_valid_ids_100))"
   ]
  },
  {
   "cell_type": "code",
   "execution_count": 7,
   "id": "2a841293",
   "metadata": {},
   "outputs": [
    {
     "name": "stdout",
     "output_type": "stream",
     "text": [
      "{'314718': ['./Merkel,_Gustav_Adolf/Fantasie_No.5,_Op.176_/314718.pdf'], '95236': ['./Chavagnat,_Edouard/Aubade,_Op.176_/95236.pdf'], '32805': ['./Wolff,_%C3%89douard/Nocturne_et_romanesca,_Op.109_/32805.pdf'], '380849': ['./Maylath,_Henry/Petite_Histoirette,_Op.168_/380849.pdf'], '54638': ['./Smith,_Sydney/Grande_Fantaisie_on_%27Guillaume_Tell%27,_Op.61_/54638.pdf'], '13265': ['./Hummel,_Johann_Nepomuk/An_Alexis_/13265.pdf'], '251028': ['./Wallace,_William_Vincent/Fantasie_brillante_sur_%22La_traviata%22_/251028.pdf'], '08725': ['./Dubois,_Th%C3%A9odore/12_Pi%C3%A8ces_Nouvelles_pour_Orgue_/08725.pdf', './Gouin,_Pierre/12_Pi%C3%A8ces_Nouvelles_pour_Orgue_/08725.pdf'], '409526': ['./Lamothe,_Georges/Chant_des_Alpes_/409526.pdf'], '54650': ['./Smith,_Sydney/Rossini%27s_Stabat_Mater,_Paraphrase,_Op.89_/54650.pdf'], '367416': ['./Merkel,_Gustav_Adolf/Lenz_und_Lied,_Op.120_/367416.pdf'], '516214': ['./Battmann,_Jacques-Louis/Anna-polka_/516214.pdf'], '209523': ['./Oesten,_Theodore/Fleurs_de_salon,_Op.38_/209523.pdf'], '381552': ['./Maylath,_Henry/Marche_des_Amazones_/381552.pdf'], '97205': ['./Chavagnat,_Edouard/Valse-ballet,_Op.165_/97205.pdf'], '381597': ['./Maylath,_Henry/Sounds_from_Home_/381597.pdf'], '32804': ['./Wolff,_%C3%89douard/2_Morceaux_de_salon,_Op.95_/32804.pdf'], '522433': ['./Battmann,_Jacques-Louis/Nid_d%27alouette_/522433.pdf'], '307200': ['./Battmann,_Jacques-Louis/Petite_fantaisie_sur_%27Jean_de_Nivelle%27,_Op.424_/307200.pdf'], '381581': ['./Maylath,_Henry/Pure_as_Gold_/381581.pdf'], '248753': ['./Merkel,_Gustav_Adolf/Organ_Trio_in_D_major_/248753.pdf'], '409021': ['./Lamothe,_Georges/Le_premier_baiser,_Op.68_/409021.pdf'], '522424': ['./Battmann,_Jacques-Louis/Les_oiseaux_de_l%27orpheline_/522424.pdf'], '411625': ['./Gonz%C3%A1lez_del_Valle,_Anselmo/Zapateo_cubano_/411625.pdf'], '521585': ['./Battmann,_Jacques-Louis/Marine,_Op.324_/521585.pdf'], '80113': ['./Alb%C3%A9niz,_Isaac/Estudio_impromptu,_Op.56_/80113.pdf'], '381653': ['./Maylath,_Henry/Yacht_Vigilant_/381653.pdf'], '292384': ['./Mullen,_Alfred_Frederic/Spring_Tales_/292384.pdf'], '54659': ['./Smith,_Sydney/Paraphrase_No.1_on_Mendelssohn%27s_Hymn_of_Praise,_Op.81_/54659.pdf'], '516338': ['./Battmann,_Jacques-Louis/La_Maconnaise_/516338.pdf'], '417643': ['./Bertini,_Henri/12_Short_Pieces_/417643.pdf'], '380872': ['./Maylath,_Henry/Beside_the_Sea_/380872.pdf'], '458389': ['./Mullen,_Alfred_Frederic/In_Arcady_/458389.pdf'], '481782': ['./Kuhlau,_Friedrich/Piano_Sonatina_in_C_major,_Op.20_No.1_/481782.pdf'], '38960': ['./Battmann,_Jacques-Louis/72_Pieces_for_Organ,_Op.60_/38960.pdf'], '97121': ['./Chavagnat,_Edouard/Les_Pr%C3%A9sentations,_Op.156_/97121.pdf'], '331031': ['./Marmontel,_Antoine_Fran%C3%A7ois/La_m%C3%A9canisme_du_piano_/331031.pdf'], '110474': ['./Oesten,_Theodore/Fantaisie_%C3%A9l%C3%A9gante_sur_%27Mignon%27,_Op.400_/110474.pdf'], '468613': ['./Wolff,_%C3%89douard/Dernier_soupir,_Op.325_/468613.pdf'], '521556': ['./Battmann,_Jacques-Louis/Barberine_/521556.pdf'], '59982': ['./Smith,_Sydney/Mendelssohn%27s_Concerto_in_G_minor,_Reminiscence,_Op.109b_/59982.pdf'], '97123': ['./Chavagnat,_Edouard/Les_Elfes,_Op.203_/97123.pdf'], '303930': ['./Mullen,_Alfred_Frederic/Winter_Suite_/303930.pdf'], '381580': ['./Maylath,_Henry/Pure_as_an_Angel_/381580.pdf'], '394689': ['./Mullen,_Alfred_Frederic/3_Romantic_Idylls_/394689.pdf'], '522431': ['./Battmann,_Jacques-Louis/Fruits_d%27automne_/522431.pdf'], '380835': ['./Maylath,_Henry/Night_Song,_Op.122_/380835.pdf'], '55428': ['./Lamothe,_Georges/Brune_et_blonde,_Op.220_/55428.pdf'], '322251': ['./Mullen,_Alfred_Frederic/Shadow_Pictures_/322251.pdf'], '520688': ['./Battmann,_Jacques-Louis/Blanche_/520688.pdf'], '98657': ['./Smith,_Sydney/The_Hardy_Norseman,_Op.5_/98657.pdf'], '520699': ['./Battmann,_Jacques-Louis/Jeanne_/520699.pdf'], '44894': ['./Smith,_Sydney/The_Last_Rose_of_Summer,_Op.173_/44894.pdf'], '381651': ['./Maylath,_Henry/Who_Are_You%3F_/381651.pdf'], '516772': ['./Battmann,_Jacques-Louis/Polka_militaire_/516772.pdf'], '437470': ['./Kuhlau,_Friedrich/3_Leichte_Rondos_%C3%BCber_beliebte_Opern_Melodien,_Op.31_/437470.pdf'], '437267': ['./Kuhlau,_Friedrich/Variations_on_%27Willkommen_Purpurschale,_du!%27,_Op.18_/437267.pdf'], '380861': ['./Maylath,_Henry/Mon_Bijou,_Op.375_/380861.pdf'], '106712': ['./Morandi,_Giovanni/Nuova_Pastorale_pel_SS._Natale_/106712.pdf'], '381652': ['./Maylath,_Henry/With_the_Tide_/381652.pdf'], '380869': ['./Maylath,_Henry/Beauties_Power_/380869.pdf'], '469128': ['./Bertini,_Henri/Th%C3%A8mes_vari%C3%A9s,_Op.64_/469128.pdf'], '381628': ['./Maylath,_Henry/The_Men_of_Concord_/381628.pdf'], '380891': ['./Maylath,_Henry/Engleside_/380891.pdf'], '409415': ['./Lamothe,_Georges/Billet_doux,_Op.177_/409415.pdf'], '54670': ['./Smith,_Sydney/Bolero,_Op.107_/54670.pdf'], '292551': ['./Mullen,_Alfred_Frederic/Fireside_Dreams_/292551.pdf'], '54652': ['./Smith,_Sydney/Fantaisie_brillante_sur_l%27op%C3%A9ra_%27La_sonnambula%27,_Op.96_/54652.pdf'], '81661': ['./Maylath,_Henry/Sweet_Memories_of_Childhood_/81661.pdf'], '184290': ['./Wolff,_%C3%89douard/La_bacchante,_Op.152_/184290.pdf'], '403626': ['./Mullen,_Alfred_Frederic/In_an_Old_World_City_/403626.pdf'], '281950': ['./Merkel,_Gustav_Adolf/8_Orgelst%C3%BCcke,_Op.21_/281950.pdf'], '10367': ['./Maylath,_Henry/Elegie_sur_le_Mort_de_Gottschalk_/10367.pdf'], '521584': ['./Battmann,_Jacques-Louis/La_Macarena,_Op.454_/521584.pdf'], '497440': ['./Chavagnat,_Edouard/Le_repos_du_dimanche_/497440.pdf'], '381593': ['./Maylath,_Henry/Sounds_from_Abroad_/381593.pdf'], '241688': ['./Merkel,_Gustav_Adolf/12_Orgelst%C3%BCcke,_Op.102_/241688.pdf'], '409401': ['./Lamothe,_Georges/La_malle_des_Indes,_Op.161_/409401.pdf'], '432575': ['./Rubinstein,_Anton/Les_gloires_du_piano_/432575.pdf'], '95851': ['./Chavagnat,_Edouard/Arpa,_Op.138_/95851.pdf'], '437995': ['./Kuhlau,_Friedrich/March_in_E-flat_major,_WoO_209_/437995.pdf'], '523054': ['./Battmann,_Jacques-Louis/Transcription_sur_%27Othello%27,_Op.349_/523054.pdf'], '68362': ['./Mullen,_Alfred_Frederic/Visions_of_an_Unknown_Land_/68362.pdf'], '181170': ['./Kuhlau,_Friedrich/Piano_Sonata_in_B-flat_major_/181170.pdf'], '103595': ['./Wallace,_William_Vincent/Roslyn_Castle_/103595.pdf'], '380799': ['./Maylath,_Henry/The_March_of_the_Pilgrims,_Op.25_/380799.pdf'], '184294': ['./Wolff,_%C3%89douard/S%C3%A9r%C3%A9nade_de_concert,_Op.257_/184294.pdf'], '249966': ['./Wallace,_William_Vincent/Fantasie_de_salon_sur_l%27opera_Maritana_/249966.pdf'], '519284': ['./Battmann,_Jacques-Louis/2_Fantaisies_faciles_sur_%27Joconde%27,_Op.445_/519284.pdf'], '251155': ['./Wallace,_William_Vincent/Alpine_Melody_/251155.pdf'], '409024': ['./Lamothe,_Georges/La_charmeuse,_Op.70_/409024.pdf'], '54635': ['./Smith,_Sydney/Fantaisie_Brillante_on_%27Orph%C3%A9e_aux_Enfers%27_No.1,_Op.64_/54635.pdf'], '362319': ['./Dubois,_Th%C3%A9odore/12_Petites_pi%C3%A8ces_/362319.pdf'], '36104': ['./Smith,_Sydney/Victoire,_Op.177_/36104.pdf'], '397932': ['./Wallace,_William_Vincent/Galop_brillant_de_salon_/397932.pdf'], '98682': ['./Smith,_Sydney/Une_perle_de_Varsovie,_Op.27_/98682.pdf'], '409031': ['./Lamothe,_Georges/Les_saisons,_Op.75_/409031.pdf'], '498064': ['./Chavagnat,_Edouard/Les_noces_de_Pierrot_/498064.pdf'], '01163': ['./Alb%C3%A9niz,_Isaac/Piano_Sonata_No.5,_Op.82_/01163.pdf'], '305426': ['./Morandi,_Giovanni/Gran_raccolta_di_sonate_per_organi_di_una_difficolta_progressiva_No.2_/305426.pdf'], '411605': ['./Gonz%C3%A1lez_del_Valle,_Anselmo/5_Elegische_Mazurken,_Op.2_/411605.pdf'], '54693': ['./Smith,_Sydney/Adieu!,_Op.114_/54693.pdf'], '234833': ['./Alb%C3%A9niz,_Isaac/Yvonne_en_visite!_/234833.pdf'], '180077': ['./Merkel,_Gustav_Adolf/Organ_Sonata_No.4,_Op.115_/180077.pdf'], '261805': ['./Chaminade,_C%C3%A9cile/Interlude,_Op.152_/261805.pdf'], '54616': ['./Smith,_Sydney/Arlequin_and_Colombine,_Op.238_/54616.pdf'], '41425': ['./Merkel,_Gustav_Adolf/2_Andantes_for_Organ,_Op.122_/41425.pdf'], '402952': ['./Battmann,_Jacques-Louis/Petite_fleur_des_bois,_Op.373_/402952.pdf'], '381629': ['./Maylath,_Henry/The_Pirates_/381629.pdf'], '521456': ['./Battmann,_Jacques-Louis/La_gerbe_d%27or,_Op.368_/521456.pdf'], '381531': ['./Maylath,_Henry/Jolly_Fiddler%27s_Galop_/381531.pdf'], '100891': ['./Wallace,_William_Vincent/Grande_Polka_de_Concert_No.3,_Op.72_/100891.pdf'], '381557': ['./Maylath,_Henry/Mignonette_/381557.pdf'], '97180': ['./Chavagnat,_Edouard/Valse_des_follets_/97180.pdf'], '95908': ['./Chavagnat,_Edouard/Capricietto,_Op.175_/95908.pdf'], '367415': ['./Merkel,_Gustav_Adolf/3_Tonbilder,_Op.95_/367415.pdf'], '82020': ['./Maylath,_Henry/New_Graded_Piano_Method_/82020.pdf'], '54636': ['./Smith,_Sydney/Fantaisie_Brillante_on_%27Orph%C3%A9e_aux_Enfers%27_No.2,_Op.90_/54636.pdf'], '299397': ['./Mullen,_Alfred_Frederic/Danish_Suite_/299397.pdf'], '437518': ['./Kuhlau,_Friedrich/Introduction_and_Rondo,_Op.98b_/437518.pdf'], '95006': ['./Chavagnat,_Edouard/Graziosa,_Op.151_/95006.pdf'], '79154': ['./Maylath,_Henry/The_Little_Artist_/79154.pdf'], '521935': ['./Battmann,_Jacques-Louis/Petite_fantaisie_sur_%27Sylvana%27,_Op.320_/521935.pdf'], '522429': ['./Battmann,_Jacques-Louis/Souvenir_de_France_/522429.pdf'], '54694': ['./Smith,_Sydney/Air_Irlandaise_Vari%C3%A9,_Op.128_/54694.pdf'], '36749': ['./Dubois,_Th%C3%A9odore/Po%C3%A8mes_Sylvestres_/36749.pdf'], '499547': ['./Chavagnat,_Edouard/Nuit_de_Mai,_Op.143_/499547.pdf'], '54112': ['./Smith,_Sydney/Chanson_Cr%C3%A9ole,_Op.105_/54112.pdf'], '32784': ['./Wolff,_%C3%89douard/3_Romances,_Op.11_/32784.pdf'], '412331': ['./Mullen,_Alfred_Frederic/A_Dream_Garden_/412331.pdf'], '203664': ['./Wallace,_William_Vincent/Impromptu_Robin_Adair_/203664.pdf'], '476050': ['./Chavagnat,_Edouard/Fantaisie_orientale,_Op.150_/476050.pdf'], '409504': ['./Lamothe,_Georges/Varsovie,_Op.219_/409504.pdf'], '54146': ['./Smith,_Sydney/Cynthia,_Op.157_/54146.pdf'], '194411': ['./Oesten,_Theodore/12_Kleine_Fantasien_%C3%BCber_beliebte_Volkslieder,_Op.49_/194411.pdf'], '84809': ['./Alb%C3%A9niz,_Isaac/Les_saisons,_Op.201_/84809.pdf'], '409020': ['./Lamothe,_Georges/Triomphe-polka,_Op.67_/409020.pdf'], '54626': ['./Smith,_Sydney/Lucia_di_Lammermoor,_Op.7_/54626.pdf'], '522436': ['./Battmann,_Jacques-Louis/Le_chant_d%27Antonia_/522436.pdf'], '447753': ['./Smith,_Sydney/Fantaisie_Brillante_on_%27La_Traviata%27,_Op.103_/447753.pdf'], '292195': ['./Mullen,_Alfred_Frederic/The_Black_Iris_Suite_/292195.pdf'], '381600': ['./Maylath,_Henry/Telephone_Polka_/381600.pdf'], '482692': ['./Dussek,_Jan_Ladislav/Rondo_on_%27O_Dear_What_Can_the_Matter_Be%27,_C.99_/482692.pdf'], '521145': ['./Battmann,_Jacques-Louis/Les_vacances_du_jeune_pianiste,_Op.420_/521145.pdf'], '106720': ['./Morandi,_Giovanni/Suonate_per_accompagnamento_d%27una_Messa_solenne_/106720.pdf'], '54484': ['./Smith,_Sydney/Grande_Fantaisie_on_%27Don_Giovanni%27,_Op.48_/54484.pdf'], '113423': ['./Mayer,_Charles/Grand_Toccata_in_E_major_/113423.pdf'], '517160': ['./Battmann,_Jacques-Louis/Quadrille_facile_sur_%27L%27oie_du_Caire%27_/517160.pdf'], '112277': ['./Handel,_George_Frideric/8_Great_Suites,_HWV_426-433_/112277.pdf'], '522680': ['./Loeschhorn,_Albert/Tarantelle_/522680.pdf'], '33780': ['./Gouin,_Pierre/Trio_in_G_minor_/33780.pdf', './Rheinberger,_Josef_Gabriel/Trio_in_G_minor_/33780.pdf'], '380850': ['./Maylath,_Henry/My_little_Queen,_Op.169_/380850.pdf'], '111633': ['./Wallace,_William_Vincent/Chant_des_p%C3%A8lerins,_Op.19_/111633.pdf'], '32033': ['./Smith,_Sydney/Le_Jet_d%27Eau,_Op.17_/32033.pdf'], '381602': ['./Maylath,_Henry/The_Comet_/381602.pdf'], '01153': ['./Alb%C3%A9niz,_Isaac/Mallorca,_Op.202_/01153.pdf'], '99215': ['./Smith,_Sydney/Pas_de_sabots,_Op.50_/99215.pdf'], '36681': ['./Smith,_Sydney/Fantaisie_Brillante_on_%27Rigoletto%27,_Op.122_/36681.pdf'], '289785': ['./Merkel,_Gustav_Adolf/20_Preludes,_Op.160_/289785.pdf'], '98685': ['./Smith,_Sydney/Feu_de_joie,_Op.28_/98685.pdf'], '405296': ['./Merkel,_Gustav_Adolf/Pedal_studies,_Op.182_/405296.pdf'], '54712': ['./Smith,_Sydney/Bergerette,_Op.216_/54712.pdf'], '381589': ['./Maylath,_Henry/Siciliana_/381589.pdf'], '54188': ['./Smith,_Sydney/Les_Cloches_de_Corneville,_Op.228_/54188.pdf'], '248737': ['./Merkel,_Gustav_Adolf/Double_Fugue_in_A_minor_/248737.pdf'], '54668': ['./Smith,_Sydney/La_danza,_Tarantella_napolitana_de_Rossini,_Op.104_/54668.pdf'], '481804': ['./Kuhlau,_Friedrich/Piano_Sonatina_in_C_major,_Op.55_No.6_/481804.pdf'], '381544': ['./Maylath,_Henry/Les_Dragons_de_la_Reine_/381544.pdf'], '388956': ['./Smith,_Sydney/The_Fairy_Queen,_Op.42_/388956.pdf'], '210041': ['./Oesten,_Theodore/2_Volksweisen,_Op.329_/210041.pdf'], '522432': ['./Battmann,_Jacques-Louis/Polka_des_confidences_/522432.pdf'], '383671': ['./Alb%C3%A9niz,_Isaac/Recuerdos_de_Viaje,_Op.71_/383671.pdf', './Knuth,_J%C3%BCrgen/Recuerdos_de_Viaje,_Op.71_/383671.pdf'], '497321': ['./Chavagnat,_Edouard/Le_capriciose,_Op.142_/497321.pdf'], '253878': ['./Wallace,_William_Vincent/The_Angler%27s_Polka_/253878.pdf'], '497032': ['./Chavagnat,_Edouard/Caprice-ballet,_Op.137_/497032.pdf'], '409431': ['./Lamothe,_Georges/Flamberge_au_vent,_Op.198_/409431.pdf'], '254840': ['./Dubois,_Th%C3%A9odore/Intermezzo,_Op.20_/254840.pdf'], '380968': ['./Maylath,_Henry/Heart%27s_Delight_/380968.pdf'], '409533': ['./Lamothe,_Georges/Je_vous_aime_/409533.pdf'], '32790': ['./Wolff,_%C3%89douard/Scherzo,_Op.28_/32790.pdf'], '35574': ['./Smith,_Sydney/Fantaisie_elegante_sur_%27La_Dame_Blanche%27,_Op.6_/35574.pdf'], '381601': ['./Maylath,_Henry/The_Belle_of_our_Village_/381601.pdf'], '370912': ['./Battmann,_Jacques-Louis/Roses_d%27hiver,_Op.17_/370912.pdf', './Mariani,_Angelo/Roses_d%27hiver,_Op.17_/370912.pdf'], '411619': ['./Gonz%C3%A1lez_del_Valle,_Anselmo/Par%C3%A1frasis_de_concierto_sobre_%27La_Partida%27,_Op.22_/411619.pdf'], '106710': ['./Morandi,_Giovanni/Raccolta_di_sonate_per_gli_organi_moderni_No.4_/106710.pdf'], '30439': ['./Dubois,_Th%C3%A9odore/Au_jardin_/30439.pdf'], '521363': ['./Battmann,_Jacques-Louis/Reviendront-elles,_Op.138_/521363.pdf'], '111640': ['./Wallace,_William_Vincent/M%C3%A9lodie_irlandaise,_Op.53_/111640.pdf'], '254238': ['./Dubois,_Th%C3%A9odore/Allegro_de_bravoure,_Op.13_/254238.pdf'], '491229': ['./Mullen,_Alfred_Frederic/Scandinavian_Suite_No.2_/491229.pdf'], '01152': ['./Alb%C3%A9niz,_Isaac/La_Vega_/01152.pdf'], '113559': ['./Wallace,_William_Vincent/La_Cracovienne_/113559.pdf'], '409439': ['./Lamothe,_Georges/Toujours_et_encore,_Op.211_/409439.pdf'], '516318': ['./Battmann,_Jacques-Louis/Le_jardin_des_demoiselles,_Op.149_/516318.pdf'], '364326': ['./Mullen,_Alfred_Frederic/Venetian_Suite_/364326.pdf'], '54632': ['./Smith,_Sydney/Norma,_Op.58_/54632.pdf'], '23307': ['./Oesten,_Theodore/Goldperlen,_Op.94_/23307.pdf'], '409423': ['./Lamothe,_Georges/Menuet_du_roi,_Op.181_/409423.pdf'], '409037': ['./Lamothe,_Georges/Fontainebleau,_Op.136_/409037.pdf'], '54113': ['./Smith,_Sydney/Chant_du_Savoyard,_Op.123_/54113.pdf'], '209936': ['./Oesten,_Theodore/Gondellied,_Op.56_/209936.pdf'], '438000': ['./Kuhlau,_Friedrich/Grande_Valse_heroique,_WoO_216_/438000.pdf'], '380950': ['./Maylath,_Henry/Fanfare_/380950.pdf'], '519663': ['./Battmann,_Jacques-Louis/Gai_ramage,_Op.167_/519663.pdf'], '367103': ['./Mullen,_Alfred_Frederic/O%27er_Moorland_and_Mountain_/367103.pdf'], '115301': ['./Wallace,_William_Vincent/Flora_/115301.pdf'], '251582': ['./Wallace,_William_Vincent/Farewell_Schottisch_/251582.pdf'], '381550': ['./Maylath,_Henry/March_of_the_Minute_Men_/381550.pdf'], '54639': ['./Smith,_Sydney/Fantaisie_Brillante_on_%27Fra_Diavolo%27,_Op.67_/54639.pdf'], '380888': ['./Maylath,_Henry/El_Portico_/380888.pdf'], '437999': ['./Kuhlau,_Friedrich/12_Waltzes_for_Piano,_WoO_212_/437999.pdf'], '181687': ['./Merkel,_Gustav_Adolf/Organ_Sonata_No.6,_Op.137_/181687.pdf'], '291799': ['./Mullen,_Alfred_Frederic/The_City_of_Dreams_/291799.pdf'], '41416': ['./Merkel,_Gustav_Adolf/Organ_Sonata_No.2,_Op.42_/41416.pdf'], '521435': ['./Battmann,_Jacques-Louis/Raymonde_/521435.pdf'], '294135': ['./Mullen,_Alfred_Frederic/The_Dragon_Fly_/294135.pdf'], '380882': ['./Maylath,_Henry/Easy_to_Play_/380882.pdf'], '315078': ['./Mullen,_Alfred_Frederic/A_Hunting_Morn_/315078.pdf'], '35577': ['./Smith,_Sydney/Fantaisie_brillante_sur_%27La_favorite%27,_Op.71_/35577.pdf'], '214462': ['./Alb%C3%A9niz,_Isaac/Zortzico_/214462.pdf'], '54649': ['./Smith,_Sydney/Fantaisie_Brillante_on_%27Il_Barbiere_di_Siviglia%27,_Op.87_/54649.pdf'], '519192': ['./Battmann,_Jacques-Louis/6_Morceaux_de_genre,_Op.171_/519192.pdf'], '247523': ['./Wallace,_William_Vincent/Bella_figlia_dell%27amore_/247523.pdf'], '321011': ['./Mullen,_Alfred_Frederic/4_Norwegian_Humoresques_/321011.pdf'], '36127': ['./Wallace,_William_Vincent/Petite_polka_de_concert,_Op.13_/36127.pdf'], '36105': ['./Smith,_Sydney/S%C3%A9r%C3%A9nade_de_Gounod,_Op.118_/36105.pdf'], '330870': ['./Lamothe,_Georges/De_Paris_%C3%A0_Vienne,_Op.172_/330870.pdf'], '291562': ['./Mullen,_Alfred_Frederic/Bygone_Days_/291562.pdf'], '409622': ['./Lamothe,_Georges/Mademoiselle_Clairon_/409622.pdf'], '381603': ['./Maylath,_Henry/The_Crusader%27s_Return_/381603.pdf'], '488675': ['./Wolff,_%C3%89douard/Temp%C3%AAte_sur_mer_/488675.pdf'], '481783': ['./Kuhlau,_Friedrich/Piano_Sonatina_in_G_major,_Op.20_No.2_/481783.pdf'], '400089': ['./Lamothe,_Georges/Souvenir_du_village,_Op.214_/400089.pdf'], '23679': ['./Dubois,_Th%C3%A9odore/Messe_de_mariage_/23679.pdf'], '381598': ['./Maylath,_Henry/Taken_from_Life_/381598.pdf'], '483008': ['./Dubois,_Th%C3%A9odore/12_Etudes_de_concert_/483008.pdf'], '380815': ['./Maylath,_Henry/La_Reine_du_Bal,_Op.60_/380815.pdf'], '246412': ['./Debussy,_Claude/Pr%C3%A9ludes,_Livre_1_/246412.pdf', './Gouin,_Pierre/Pr%C3%A9ludes,_Livre_1_/246412.pdf'], '380859': ['./Maylath,_Henry/From_Flower_to_Flower,_Op.306_/380859.pdf'], '370915': ['./Battmann,_Jacques-Louis/Oiseaux_l%C3%A9gers,_Op.231_/370915.pdf'], '98655': ['./Smith,_Sydney/Pas_redoubl%C3%A9,_Op.35_/98655.pdf'], '521476': ['./Battmann,_Jacques-Louis/Sans_octaves,_Op.378_/521476.pdf'], '249769': ['./Wallace,_William_Vincent/Fantasie_de_salon_sur_%27Lucia_di_Lammermoor%27_/249769.pdf'], '516972': ['./Battmann,_Jacques-Louis/3_Fantaisies,_Opp.56-58_/516972.pdf'], '409534': ['./Lamothe,_Georges/Larmes_d%27amour_/409534.pdf'], '54714': ['./Smith,_Sydney/Bohemian_Girl_-_Second_Fantasia,_Op.241_/54714.pdf'], '437474': ['./Kuhlau,_Friedrich/Piano_Sonata_in_G_major,_Op.34_/437474.pdf'], '54148': ['./Smith,_Sydney/Choeur_de_Chasse,_Op.171_/54148.pdf'], '381548': ['./Maylath,_Henry/Little_Cherry_Blossom_/381548.pdf'], '248764': ['./Merkel,_Gustav_Adolf/10_Vor-_und_Nachspiele,_Op.134_/248764.pdf'], '54187': ['./Smith,_Sydney/Pascal_la_Chatelaine,_Op.231_/54187.pdf'], '54641': ['./Smith,_Sydney/Fantaisie_de_Concert_on_%27Lucrezia_Borgia%27,_Op.69_/54641.pdf'], '380952': ['./Maylath,_Henry/Furious_Torrent_/380952.pdf'], '362887': ['./Lamothe,_Georges/Viennoise-polka_/362887.pdf'], '54637': ['./Smith,_Sydney/Austrian_Hymn_of_Haydn,_Op.51_/54637.pdf'], '281941': ['./Merkel,_Gustav_Adolf/10_Leichte_Fughetten,_Op.37_/281941.pdf'], '521571': ['./Battmann,_Jacques-Louis/Le_dernier_baiser,_Op.295_/521571.pdf'], '381569': ['./Maylath,_Henry/O_Youth!_O_Roseate_Golden_Youth!_/381569.pdf'], '381631': ['./Maylath,_Henry/The_Roller_Skates_Galop_/381631.pdf'], '80114': ['./Alb%C3%A9niz,_Isaac/Piano_Sonata_No.1,_Op.28_/80114.pdf'], '33781': ['./Rheinberger,_Josef_Gabriel/Prelude_in_E_minor_/33781.pdf'], '97250': ['./Chavagnat,_Edouard/Sans_souci_/97250.pdf'], '296486': ['./Mullen,_Alfred_Frederic/Indian_Scenes_/296486.pdf'], '380871': ['./Maylath,_Henry/Belv%C3%A9d%C3%A8re_/380871.pdf'], '41304': ['./Merkel,_Gustav_Adolf/Organ_Sonata_No.7,_Op.140_/41304.pdf'], '380868': ['./Maylath,_Henry/Balloon_Polka_/380868.pdf'], '97115': ['./Chavagnat,_Edouard/Au_Clair_de_la_lune,_Op.102_/97115.pdf'], '437475': ['./Kuhlau,_Friedrich/Variations_on_Danish_National_Song,_Op.35_/437475.pdf'], '409529': ['./Lamothe,_Georges/Exposition-valse_/409529.pdf'], '86509': ['./Debussy,_Claude/Estampes_/86509.pdf'], '367414': ['./Merkel,_Gustav_Adolf/Abendfeier,_Op.84_/367414.pdf'], '319688': ['./Mullen,_Alfred_Frederic/Au_Carnaval_/319688.pdf'], '257097': ['./Widor,_Charles-Marie/12_Feuillets_d%27album,_Op.31_/257097.pdf'], '106713': ['./Morandi,_Giovanni/Pastorale_del_Santissimo_Natale_/106713.pdf'], '409018': ['./Lamothe,_Georges/Pirouette-polka,_Op.64_/409018.pdf'], '330113': ['./Gonz%C3%A1lez_del_Valle,_Anselmo/Rapsodia_asturiana_No.5,_Op.30_/330113.pdf'], '249455': ['./Dussek,_Jan_Ladislav/The_Sufferings_of_the_Queen_of_France,_Op.23_/249455.pdf'], '475664': ['./Chavagnat,_Edouard/Souvenir_d%27Antan,_Op.1_/475664.pdf'], '491232': ['./Mullen,_Alfred_Frederic/On_the_Continent_/491232.pdf'], '381545': ['./Maylath,_Henry/Lily_of_the_Valley_/381545.pdf'], '409015': ['./Lamothe,_Georges/Marche_des_souverains,_Op.60_/409015.pdf'], '367421': ['./Merkel,_Gustav_Adolf/Rondo_in_D_major_/367421.pdf'], '522238': ['./Battmann,_Jacques-Louis/2_Petites_fantaisies_sur_%27Oberon%27,_Op.97_/522238.pdf'], '36110': ['./Smith,_Sydney/Fantaisie_Brillante_on_%27Il_Trovatore%27,_Op.129_/36110.pdf'], '491230': ['./Mullen,_Alfred_Frederic/Brises_d%27%C3%A9t%C3%A9_/491230.pdf'], '29324': ['./Dubois,_Th%C3%A9odore/Valses_intimes_/29324.pdf'], '32812': ['./Wolff,_%C3%89douard/2_Polonaises_caract%C3%A9ristiques,_Op.137_/32812.pdf'], '488333': ['./Wolff,_%C3%89douard/2_Nocturnes,_Op.182_/488333.pdf'], '409014': ['./Lamothe,_Georges/Lisbonne,_Op.58_/409014.pdf'], '381577': ['./Maylath,_Henry/Prayer_of_the_Angels_/381577.pdf'], '95911': ['./Chavagnat,_Edouard/Les_ailes,_Op.166_/95911.pdf'], '380825': ['./Maylath,_Henry/Grande_valse_de_concert,_Op.111_/380825.pdf'], '409438': ['./Lamothe,_Georges/Dora,_Op.209_/409438.pdf'], '91096': ['./Chavagnat,_Edouard/Pupazzi,_Op.168_/91096.pdf'], '54689': ['./Smith,_Sydney/Harmonies_du_Soir,_Op.54_/54689.pdf'], '521432': ['./Battmann,_Jacques-Louis/Messine,_Op.234_/521432.pdf'], '32026': ['./Smith,_Sydney/Chanson_russe,_Op.31_/32026.pdf'], '19111': [], '381549': ['./Maylath,_Henry/Little_Gossips_/381549.pdf'], '380858': ['./Maylath,_Henry/Agreeable_Surprise,_Op.302_/380858.pdf'], '99216': ['./Smith,_Sydney/Sous_la_fen%C3%AAtre,_Op.52_/99216.pdf'], '266464': ['./Battmann,_Jacques-Louis/2_Petites_fantaisies_sur_%27Don_Juan%27,_Op.236_/266464.pdf'], '100909': ['./Wallace,_William_Vincent/6_Etudes_de_Salon,_Op.77_/100909.pdf'], '169102': ['./Scharwenka,_Xaver/L%27elite_/169102.pdf'], '380836': ['./Maylath,_Henry/Les_Marguerites,_Op.166_/380836.pdf'], '380852': ['./Maylath,_Henry/Sweet_Echoes,_Op.172_/380852.pdf'], '38076': ['./Merkel,_Gustav_Adolf/Organ_Sonata_No.9,_Op.183_/38076.pdf'], '380969': ['./Maylath,_Henry/High_School_March_/380969.pdf'], '54135': ['./Smith,_Sydney/Autumnal_Tints,_Op.82_/54135.pdf'], '290436': ['./Merkel,_Gustav_Adolf/Orgelschule,_Op.177_/290436.pdf', './Schneider,_Franz/Orgelschule,_Op.177_/290436.pdf', './Speth,_Johann/Orgelschule,_Op.177_/290436.pdf'], '411607': ['./Gonz%C3%A1lez_del_Valle,_Anselmo/Fest-Gavotte,_Op.13_/411607.pdf'], '380889': ['./Maylath,_Henry/Emma_C._Thursby_Galop_/380889.pdf'], '409041': ['./Lamothe,_Georges/Nuit_et_jour,_Op.155_/409041.pdf'], '251157': ['./Wallace,_William_Vincent/Marche_militaire_/251157.pdf'], '422160': ['./Oesten,_Theodore/Fantasia_from_%27Rigoletto%27_/422160.pdf'], '54497': ['./Smith,_Sydney/Fantaisie_Brillante_on_%27Oberon%27,_Op.56_/54497.pdf'], '411606': ['./Gonz%C3%A1lez_del_Valle,_Anselmo/Primer_%C3%A1lbum_de_Luanco,_Op.11_/411606.pdf'], '112457': ['./Wallace,_William_Vincent/24_Preludes_and_Scales_/112457.pdf'], '289193': ['./Mullen,_Alfred_Frederic/Sunset_Valse_/289193.pdf'], '41541': ['./Merkel,_Gustav_Adolf/Organ_Sonata_No.5,_Op.118_/41541.pdf'], '44890': ['./Smith,_Sydney/Souvenir_de_Spa,_Op.12_/44890.pdf'], '380873': ['./Maylath,_Henry/Bridal_March_/380873.pdf'], '380860': ['./Maylath,_Henry/Queen_of_the_Amazons,_Op.307_/380860.pdf'], '32793': ['./Wolff,_%C3%89douard/Grand_allegro_de_concert,_Op.39_/32793.pdf'], '267813': ['./Bertini,_Henri/M%C3%A9thode_compl%C3%A8te_et_progressive_de_piano_/267813.pdf'], '249968': ['./Wallace,_William_Vincent/Fantasie_de_salon_sur_%27Norma%27_/249968.pdf'], '270470': ['./Maylath,_Henry/Always_Ready_/270470.pdf'], '60113': ['./Smith,_Sydney/Danse_Napolitaine,_Op.33_/60113.pdf'], '10366': ['./Maylath,_Henry/Piano_Sonatinas,_Op.151_/10366.pdf'], '337580': ['./Chavagnat,_Edouard/3_Pi%C3%A8ces_pour_piano_/337580.pdf'], '91094': ['./Chavagnat,_Edouard/Le_bon_vieux_temps,_Op.181_/91094.pdf'], '54690': ['./Smith,_Sydney/L%27Ange_du_Foyer,_Op.57_/54690.pdf'], '34993': ['./Smith,_Sydney/Grande_Fantaisie_de_Concert_on_%27Der_Freischuetz%27,_Op.16_/34993.pdf'], '409016': ['./Lamothe,_Georges/La_danse_des_roses,_Op.62_/409016.pdf'], '481790': ['./Kuhlau,_Friedrich/Piano_Sonatina_in_C_major,_Op.55_No.1_/481790.pdf'], '374618': ['./Mullen,_Alfred_Frederic/R%C3%AAve_de_ma_Vie_/374618.pdf'], '481801': ['./Kuhlau,_Friedrich/Piano_Sonatina_in_D_major,_Op.55_No.5_/481801.pdf'], '98220': ['./Maylath,_Henry/Christmas_Hymn_with_Variation_/98220.pdf'], '01147': ['./Alb%C3%A9niz,_Isaac/Azulejos_/01147.pdf'], '409010': ['./Lamothe,_Georges/Eliane,_Op.50_/409010.pdf'], '380957': ['./Maylath,_Henry/Gr%C3%A2ce_et_coquetterie_/380957.pdf'], '381565': ['./Maylath,_Henry/Musical_Sparks_/381565.pdf'], '521647': ['./Battmann,_Jacques-Louis/Les_violettes,_Op.133_/521647.pdf'], '317078': ['./Merkel,_Gustav_Adolf/4_Albumbl%C3%A4tter,_Op.18_/317078.pdf'], '106169': ['./Maylath,_Henry/La_ci_darem_Varied_/106169.pdf'], '294340': ['./Mullen,_Alfred_Frederic/The_Enchanted_Isle_/294340.pdf'], '515472': ['./Alb%C3%A9niz,_Isaac/Iberia_/515472.pdf'], '58251': ['./Wallace,_William_Vincent/Grande_Polka_de_Concert,_Op.48_/58251.pdf'], '522234': ['./Battmann,_Jacques-Louis/L%27ange_sur_la_terre,_Op.28_/522234.pdf'], '411624': ['./Gonz%C3%A1lez_del_Valle,_Anselmo/20_Melod%C3%ADas_asturianas_/411624.pdf'], '289850': ['./Merkel,_Gustav_Adolf/Andante_in_E-flat_major_/289850.pdf'], '54655': ['./Smith,_Sydney/Paraphrase_No.2_on_Mendelssohn%27s_Hymn_of_Praise,_Op.98_/54655.pdf'], '422242': ['./Merkel,_Gustav_Adolf/Genrebilder,_Op.31_/422242.pdf'], '381632': ['./Maylath,_Henry/The_Russian_Prince_/381632.pdf'], '437258': ['./Kuhlau,_Friedrich/Variations_on_%27Guide_mes_pas_o_providence%27,_Op.12_/437258.pdf'], '251030': ['./Wallace,_William_Vincent/Fantasie_elegante_sur_des_themes_de_%27Don_Pasquale%27_/251030.pdf'], '381533': ['./Maylath,_Henry/Jubilee_/381533.pdf'], '409417': ['./Lamothe,_Georges/Royale-gavotte,_Op.178_/409417.pdf'], '54184': ['./Smith,_Sydney/Chant_des_Forgerons,_Op.204_/54184.pdf'], '305433': ['./Morandi,_Giovanni/Sinfonia_per_Organo_/305433.pdf'], '105396': ['./Wallace,_William_Vincent/Evening_Star_Schottische_/105396.pdf'], '381650': ['./Maylath,_Henry/Vision_of_Paradise_/381650.pdf'], '381592': ['./Maylath,_Henry/The_Skating_Belles_/381592.pdf'], '206959': ['./Rheinberger,_Josef_Gabriel/Piano_Sonata_No.4,_Op.184_/206959.pdf'], '381536': ['./Maylath,_Henry/Just_you_Dare!_/381536.pdf'], '391684': ['./Merkel,_Gustav_Adolf/Polonaise_brillante,_Op.28_/391684.pdf'], '249967': ['./Wallace,_William_Vincent/Fantasie_de_salon_sur_%27Martha%27_/249967.pdf'], '84008': ['./Chavagnat,_Edouard/Avril_/84008.pdf'], '481792': ['./Kuhlau,_Friedrich/Piano_Sonatina_in_C_major,_Op.55_No.3_/481792.pdf'], '402950': ['./Battmann,_Jacques-Louis/La_gavotte_/402950.pdf'], '97212': ['./Chavagnat,_Edouard/Ouistiti,_Op.202_/97212.pdf'], '253877': ['./Wallace,_William_Vincent/Tremolo_Schottisch_/253877.pdf'], '380863': ['./Maylath,_Henry/Seventeen_Seventy_Six_/380863.pdf'], '381579': ['./Maylath,_Henry/Prince_Alexis_March_/381579.pdf'], '380972': ['./Maylath,_Henry/Innocence_/380972.pdf'], '248763': ['./Merkel,_Gustav_Adolf/9_Leichte_Orgelpr%C3%A4ludien,_Op.15_/248763.pdf'], '488671': ['./Wolff,_%C3%89douard/2_Chansons_polonaises,_Opp.219-220_/488671.pdf'], '106716': ['./Morandi,_Giovanni/Raccolta_di_suonate_pei_grand%27_organi_moderni,_Op.21_/106716.pdf'], '56047': ['./Lamothe,_Georges/Italia,_Op.5_/56047.pdf'], '522423': ['./Battmann,_Jacques-Louis/Le_franc-tireur_/522423.pdf'], '216700': ['./Wallace,_William_Vincent/Bohemian_Melody_/216700.pdf'], '209985': ['./Oesten,_Theodore/Illustrations,_Op.99_/209985.pdf'], '521656': ['./Battmann,_Jacques-Louis/Petites_esquisses,_Op.445_/521656.pdf'], '496754': ['./Chavagnat,_Edouard/Petites_Choses,_Op.217_/496754.pdf'], '248736': ['./Merkel,_Gustav_Adolf/12_Fugues,_Op.124_/248736.pdf'], '302681': ['./Mullen,_Alfred_Frederic/Dance_Fancies_/302681.pdf'], '373508': ['./Dubois,_Th%C3%A9odore/Marche_orientale,_Op.8_/373508.pdf'], '437981': ['./Kuhlau,_Friedrich/Rondo,_WoO_203_/437981.pdf'], '306698': ['./Battmann,_Jacques-Louis/Les_succ%C3%A8s_modernes,_Op.419_/306698.pdf'], '292383': ['./Mullen,_Alfred_Frederic/Edda_/292383.pdf'], '96575': ['./Chavagnat,_Edouard/Le_renouveau,_Op.170_/96575.pdf'], '389572': ['./Moszkowski,_Moritz/Conservatoristen-Polka,_Op.1/2_/389572.pdf'], '380866': ['./Maylath,_Henry/Awakening_of_the_Birds_/380866.pdf'], '08222': ['./Alb%C3%A9niz,_Isaac/Suite_Espa%C3%B1ola_No.2,_Op.97_/08222.pdf'], '352315': ['./Merkel,_Gustav_Adolf/Tonbl%C3%BCthen,_Op.82_/352315.pdf'], '207674': ['./Herz,_Henri/Trois_airs_de_ballets_de_La_muette_de_Portici_/207674.pdf'], '381588': ['./Maylath,_Henry/Saratoga_Quick_Step_/381588.pdf'], '330872': ['./Lamothe,_Georges/R%C3%AAves_de_printemps_/330872.pdf'], '290266': ['./Battmann,_Jacques-Louis/Le_torrent,_Op.241_/290266.pdf'], '381543': ['./Maylath,_Henry/Lawn_Tennis_Waltz_/381543.pdf'], '517925': ['./Battmann,_Jacques-Louis/Souvenirs_de_%27S%C3%A9miramis%27,_Op.127_/517925.pdf'], '210837': ['./Rheinberger,_Josef_Gabriel/3_Charakterst%C3%BCcke,_Op.7_/210837.pdf', './Rheinberger,_Josef_Gabriel/Gondoliera_/210837.pdf'], '364318': ['./Mullen,_Alfred_Frederic/Saga_/364318.pdf'], '80112': ['./Alb%C3%A9niz,_Isaac/Angustia_/80112.pdf'], '330104': ['./Gonz%C3%A1lez_del_Valle,_Anselmo/10_Melod%C3%ADas_asturianas_/330104.pdf'], '513019': ['./Handel,_George_Frideric/Pi%C3%A8ces_%C3%A0_un_%26_deux_clavecins_/513019.pdf'], '54715': ['./Smith,_Sydney/A_toi_/54715.pdf'], '209521': ['./Oesten,_Theodore/Le_Carnaval_de_Venise,_Op.37_/209521.pdf'], '27124': ['./Dubois,_Th%C3%A9odore/Scherzo_et_choral,_Op.18_/27124.pdf'], '516776': ['./Battmann,_Jacques-Louis/Le_souvenir_/516776.pdf'], '380884': ['./Maylath,_Henry/Echos_from_Spain_/380884.pdf'], '378721': ['./Berens,_Hermann/Kl%C3%A4nge_aus_Norden_/378721.pdf'], '422241': ['./Merkel,_Gustav_Adolf/Bagatellen,_Op.81_/422241.pdf'], '54108': ['./Smith,_Sydney/Consolation_in_Sorrow,_Op.47_/54108.pdf'], '352063': ['./Merkel,_Gustav_Adolf/Christmas_Pastorale,_Op.56_/352063.pdf'], '381604': ['./Maylath,_Henry/The_Echo_Waltz_/381604.pdf'], '494113': ['./Alb%C3%A9niz,_Isaac/Navarra_/494113.pdf'], '95909': ['./Chavagnat,_Edouard/Canzonetta,_Op.100_/95909.pdf'], '293959': ['./Mullen,_Alfred_Frederic/Sc%C3%A8nes_Pittoresques_/293959.pdf'], '380870': ['./Maylath,_Henry/Bells_of_Corneville_/380870.pdf'], '519308': ['./Gurlitt,_Cornelius/24_Melodische_Et%C3%BCden,_Op.50_/519308.pdf'], '54109': ['./Smith,_Sydney/Coquetterie,_Op.94_/54109.pdf'], '266478': ['./Battmann,_Jacques-Louis/Piano_Sonatine,_Op.142_/266478.pdf'], '209976': ['./Oesten,_Theodore/6_Fantaisies_brillantes,_Op.67_/209976.pdf'], '54697': ['./Smith,_Sydney/Fantaisie_Brillante_on_%27Anna_Bolena%27,_Op.151_/54697.pdf'], '471500': ['./Heller,_Stephen/Toccatina_/471500.pdf'], '411620': ['./Gonz%C3%A1lez_del_Valle,_Anselmo/2_Transcripciones_espa%C3%B1olas,_Op.24_/411620.pdf'], '439026': ['./Schytte,_Ludvig/Musikalske_Illustrationer_/439026.pdf'], '386720': ['./Karg-Elert,_Sigfrid/3_Pastels,_Op.92_/386720.pdf'], '209987': ['./Oesten,_Theodore/Kl%C3%A4nge_der_Liebe,_Op.100_/209987.pdf'], '435142': ['./Jadassohn,_Salomon/Fantasy_on_%27Lohengrin%27_/435142.pdf'], '364321': ['./Mullen,_Alfred_Frederic/The_Sylph_/364321.pdf'], '305425': ['./Morandi,_Giovanni/Gran_raccolta_di_sonate_per_organi_di_una_difficolta_progressiva_No.1_/305425.pdf'], '481793': ['./Kuhlau,_Friedrich/Piano_Sonatina_in_F_major,_Op.55_No.4_/481793.pdf'], '263937': ['./Wallace,_William_Vincent/Ye_Banks_and_Braes_/263937.pdf'], '36103': ['./Smith,_Sydney/Fantaisie_Brillante_on_%27Faust%27,_Op.117_/36103.pdf'], '54702': ['./Smith,_Sydney/Le_Bivoac,_Op.138_/54702.pdf'], '521561': ['./Battmann,_Jacques-Louis/La_Tyrolienne_/521561.pdf'], '519271': ['./Battmann,_Jacques-Louis/Petite_fantaisie_sur_%27La_traviata%27,_Op.426_/519271.pdf'], '32813': ['./Wolff,_%C3%89douard/Tarantelle,_Op.148_/32813.pdf'], '516313': ['./Battmann,_Jacques-Louis/Fioretta_/516313.pdf'], '209983': ['./Oesten,_Theodore/8_Morceaux_de_genre,_Op.92_/209983.pdf'], '380827': ['./Maylath,_Henry/Feu_follet,_Op.112_/380827.pdf'], '253604': ['./Wallace,_William_Vincent/La_belle_anglaise_/253604.pdf'], '15822': ['./Gouin,_Pierre/Suite_Espa%C3%B1ola_No.1,_Op.47_/15822.pdf'], '437480': ['./Kuhlau,_Friedrich/6_Rondos,_Op.40_/437480.pdf'], '380814': ['./Maylath,_Henry/Le_R%C3%A9pertoire_pour_les_petites_mains,_Op.56_/380814.pdf'], '08974': ['./Dubois,_Th%C3%A9odore/12_Pi%C3%A8ces_pour_orgue_/08974.pdf', './Gouin,_Pierre/12_Pi%C3%A8ces_pour_orgue_/08974.pdf'], '293589': ['./Mullen,_Alfred_Frederic/Roses_and_Rue_/293589.pdf'], '292382': ['./Mullen,_Alfred_Frederic/The_Silent_Mere_/292382.pdf'], '248401': ['./Rheinberger,_Josef_Gabriel/12_Organ_Trios,_Op.189_/248401.pdf'], '263106': ['./Herz,_Henri/Taegliche_Studien_bestehend_aus_18_besonderen_Et%C3%BCden_/263106.pdf'], '380960': ['./Maylath,_Henry/Grasshopper_/380960.pdf'], '106711': ['./Morandi,_Giovanni/Raccolta_di_sonate_per_gli_organi_moderni_No.5_/106711.pdf'], '54185': ['./Smith,_Sydney/Carillon_de_Noel,_Op.209_/54185.pdf'], '54645': ['./Smith,_Sydney/Grande_fantaisie_sur_l%27op%C3%A9ra_%27L%27elisir_d%27amore%27,_Op.73_/54645.pdf'], '411616': ['./Gonz%C3%A1lez_del_Valle,_Anselmo/Fantas%C3%ADa_sobre_motivos_de_la_%C3%B3pera_%27Un_ballo_in_maschera%27,_Op.17_/411616.pdf'], '522172': ['./Battmann,_Jacques-Louis/3_Petites_fantaisies,_Op.99_/522172.pdf'], '54698': ['./Smith,_Sydney/Titania,_Op.116_/54698.pdf'], '330111': ['./Gonz%C3%A1lez_del_Valle,_Anselmo/Rapsodia_asturiana_No.3,_Op.28_/330111.pdf'], '295303': ['./Mullen,_Alfred_Frederic/In_Fancy%27s_Realm_/295303.pdf'], '111833': ['./Wallace,_William_Vincent/Impromptu_en_forme_d%27Etude_/111833.pdf'], '381687': ['./Maylath,_Henry/Hungarian_Tunes_/381687.pdf'], '54107': ['./Smith,_Sydney/Home_Sweet_Home,_Op.145_/54107.pdf'], '122442': ['./Smith,_Sydney/La_fileuse,_Op.39_/122442.pdf'], '390134': ['./Mayer,_Charles/Variations_sur_une_Walse_/390134.pdf'], '381535': ['./Maylath,_Henry/Just_Out_/381535.pdf'], '308542': ['./Jadassohn,_Salomon/Fantasy_on_%27Der_Fliegende_Holl%C3%A4nder%27_/308542.pdf'], '95007': ['./Chavagnat,_Edouard/Romanza,_Op.99_/95007.pdf'], '292386': ['./Mullen,_Alfred_Frederic/Dancing_Wavelets_/292386.pdf'], '481809': ['./Kuhlau,_Friedrich/Piano_Sonatina_in_C_major,_Op.59_No.3_/481809.pdf'], '35575': ['./Smith,_Sydney/Mazurka_des_Ulans,_Op.25_/35575.pdf'], '515470': ['./Alb%C3%A9niz,_Isaac/Cantos_de_Espa%C3%B1a,_Op.232_/515470.pdf'], '139200': ['./Rheinberger,_Josef_Gabriel/3_Charakterst%C3%BCcke,_Op.7_/139200.pdf'], '520697': ['./Battmann,_Jacques-Louis/Fanny,_Op.408_/520697.pdf'], '517137': ['./Battmann,_Jacques-Louis/Santa_Lucia,_Op.117_/517137.pdf'], '409434': ['./Lamothe,_Georges/En_palanquin,_Op.206_/409434.pdf'], '97113': ['./Chavagnat,_Edouard/Course_fantastique,_Op.174_/97113.pdf'], '349787': ['./Merkel,_Gustav_Adolf/10_Preludes,_Op.156_/349787.pdf'], '522426': ['./Battmann,_Jacques-Louis/Retour_au_pays_/522426.pdf'], '422197': ['./Oesten,_Theodore/Repertoire_de_l%27op%C3%A9ra,_Op.43_/422197.pdf'], '86505': ['./Gouin,_Pierre/Suite_bergamasque_/86505.pdf'], '481791': ['./Kuhlau,_Friedrich/Piano_Sonatina_in_G_major,_Op.55_No.2_/481791.pdf'], '268588': ['./Chaminade,_C%C3%A9cile/Scherzo_symphonique_/268588.pdf'], '409019': ['./Lamothe,_Georges/Sous_les_drapeaux,_Op.66_/409019.pdf'], '19154': ['./Tchaikovsky,_Pyotr/Moment_lyrique_/19154.pdf'], '259599': ['./Wolff,_%C3%89douard/Pierrot_et_Arlequin,_Op.322_/259599.pdf'], '251305': ['./Wallace,_William_Vincent/2_Valses_espagnoles_/251305.pdf'], '84497': ['./Alb%C3%A9niz,_Isaac/R%C3%AAves,_Op.101_/84497.pdf'], '249641': ['./Wallace,_William_Vincent/Fantasie_de_salon_sur_%27Ernani%27_/249641.pdf'], '259596': ['./Wolff,_%C3%89douard/Barcarolle_et_Chansonnette,_Op.331_/259596.pdf'], '381555': ['./Maylath,_Henry/Matinee_Polka_/381555.pdf'], '54691': ['./Smith,_Sydney/L%27Arc_en_Ciel,_Op.63_/54691.pdf'], '54186': ['./Smith,_Sydney/Colinette,_Op.218_/54186.pdf'], '521360': ['./Battmann,_Jacques-Louis/Fantaisie_sur_%27Alceste%27,_Op.141_/521360.pdf'], '496590': ['./Chavagnat,_Edouard/Histoire_d%27une_Marionnette,_Op.145_/496590.pdf'], '252524': ['./Wallace,_William_Vincent/Fantasie_on_%27The_Low_Back%27d_Car%27_/252524.pdf'], '409008': ['./Lamothe,_Georges/Le_chant_du_rossignol,_Op.42_/409008.pdf'], '519798': ['./Battmann,_Jacques-Louis/Frisette_/519798.pdf'], '251436': ['./Wallace,_William_Vincent/Eugenie_/251436.pdf'], '54111': ['./Smith,_Sydney/Chant_des_Oiseaux,_Op.49_/54111.pdf'], '32801': ['./Wolff,_%C3%89douard/6_M%C3%A9lodies_caract%C3%A9ristiques,_Op.60_/32801.pdf'], '381571': ['./Maylath,_Henry/On_the_Mississippi_River_/381571.pdf'], '290989': ['./Mullen,_Alfred_Frederic/Scandinavian_Suite_No.1_/290989.pdf'], '255982': ['./Dubois,_Th%C3%A9odore/Ch%C5%93ur_et_danse_de_lutins,_Op.7_/255982.pdf'], '516314': ['./Battmann,_Jacques-Louis/Gabrielle_/516314.pdf'], '516339': ['./Battmann,_Jacques-Louis/Madelinette_/516339.pdf'], '437260': ['./Kuhlau,_Friedrich/5_Variations_on_%27sur_un_air_national_danois%27,_Op.14_/437260.pdf'], '32806': ['./Wolff,_%C3%89douard/5_Valses_brillantes,_Op.112_/32806.pdf'], '250066': ['./Wallace,_William_Vincent/Fantasie_de_salon_sur_%27Otello%27_/250066.pdf'], '101791': ['./Wallace,_William_Vincent/Psalm_100_/101791.pdf'], '289145': ['./Battmann,_Jacques-Louis/S%C3%A9guidille,_Op.242_/289145.pdf'], '54648': ['./Smith,_Sydney/Grande_Fantaisie_on_%27I_Puritani%27,_Op.85_/54648.pdf'], '207533': ['./Lange,_Gustav/Absence_/207533.pdf'], '191012': ['./Maylath,_Henry/Rondo_grazioso_in_C_major_/191012.pdf'], '08724': ['./Dubois,_Th%C3%A9odore/7_Pieces_for_organ_/08724.pdf', './Gouin,_Pierre/7_Pieces_for_organ_/08724.pdf'], '412341': ['./Oesten,_Theodore/Fantaisie_brillante_sur_%27Der_Freisch%C3%BCtz%27,_Op.23_/412341.pdf'], '82023': ['./Maylath,_Henry/The_Style_/82023.pdf'], '381582': ['./Maylath,_Henry/Rocking_Waves_/381582.pdf'], '380975': ['./Maylath,_Henry/Ivy_Leaves_/380975.pdf'], '112810': ['./Wallace,_William_Vincent/Le_r%C3%AAve,_Op.21_/112810.pdf'], '521199': ['./Battmann,_Jacques-Louis/Plaisir_d%27amour,_Op.222_/521199.pdf'], '468209': ['./Wolff,_%C3%89douard/L%27Andalouse,_Op.97_/468209.pdf'], '409502': ['./Lamothe,_Georges/Pour_un_sourire,_Op.212_/409502.pdf'], '367417': ['./Merkel,_Gustav_Adolf/2_Rondos,_Op.154_/367417.pdf'], '254092': ['./Wallace,_William_Vincent/The_World%27s_Fair_Polka_/254092.pdf'], '296098': ['./Rheinberger,_Josef_Gabriel/Miscellaneen,_Op.174_/296098.pdf'], '481784': ['./Kuhlau,_Friedrich/Piano_Sonatina_in_F_major,_Op.20_No.3_/481784.pdf'], '73032': ['./Maylath,_Henry/Piano_Sonatinas,_Op.150_/73032.pdf'], '381585': ['./Maylath,_Henry/Rustic_Hop_Waltz_/381585.pdf'], '380818': ['./Maylath,_Henry/Bouton_de_Rose,_Op.70_/380818.pdf'], '209525': ['./Oesten,_Theodore/2_Melodien,_Op.45_/209525.pdf'], '172555': ['./Mozart,_Wolfgang_Amadeus/Andante_variato,_K.Anh.138_/172555.pdf'], '437994': ['./Kuhlau,_Friedrich/Marsch_til_den_Kongelige_Liv_Garde,_WoO_207_/437994.pdf'], '381605': ['./Maylath,_Henry/The_Egyptian_March_/381605.pdf'], '251788': ['./Wallace,_William_Vincent/First_Love_Schottisch_/251788.pdf'], '36101': ['./Smith,_Sydney/Grande_Fantaisie_brillante_on_Flotow%27s_Stradella,_Op.149_/36101.pdf'], '381599': ['./Maylath,_Henry/Technical_Piano_Studies_/381599.pdf'], '97204': ['./Chavagnat,_Edouard/Au_Gr%C3%A9_des_vents,_Op.159_/97204.pdf'], '113683': ['./Maylath,_Henry/Elegie,_Op.304_/113683.pdf'], '78884': ['./Maylath,_Henry/Melodious_Studies,_Op.163_/78884.pdf'], '497532': ['./Chavagnat,_Edouard/Le_rire,_Op.210_/497532.pdf'], '250067': ['./Wallace,_William_Vincent/Fantasie_de_salon_sur_%27Stradella%27_/250067.pdf'], '136267': ['./Dubois,_Th%C3%A9odore/Scherzetto_/136267.pdf'], '381625': ['./Maylath,_Henry/The_First_Quarter_/381625.pdf'], '411610': ['./Gonz%C3%A1lez_del_Valle,_Anselmo/Fantas%C3%ADa_sobre_motivos_de_la_%C3%B3pera_%27Fausto%27,_Op.15_/411610.pdf'], '373509': ['./Dubois,_Th%C3%A9odore/Scherzo,_Op.10_/373509.pdf'], '411622': ['./Gonz%C3%A1lez_del_Valle,_Anselmo/Jota,_Op.35_/411622.pdf'], '380856': ['./Maylath,_Henry/The_Fisher_Boy,_Op.300_/380856.pdf'], '439282': ['./Kuhlau,_Friedrich/Menuet_/439282.pdf'], '97114': ['./Chavagnat,_Edouard/Les_Fileuses,_Op.208_/97114.pdf'], '380874': ['./Maylath,_Henry/Bridal_Morn_/380874.pdf'], '97119': ['./Chavagnat,_Edouard/Les_Petits_clowns,_Op.221_/97119.pdf'], '251937': ['./Wallace,_William_Vincent/Forget_Me_Not_/251937.pdf'], '370916': ['./Battmann,_Jacques-Louis/Petite_fantaisie_sur_%27L%27oie_du_Caire%27,_Op.278_/370916.pdf'], '516218': ['./Battmann,_Jacques-Louis/Bourbonne-les-Bains_/516218.pdf'], '91012': ['./Chavagnat,_Edouard/Les_minuscules,_Op.185_/91012.pdf'], '106707': ['./Morandi,_Giovanni/Raccolta_di_sonate_per_gli_organi_moderni_No.10_/106707.pdf'], '379755': ['./Schytte,_Ludvig/10_Kleine_Plaudereien_/379755.pdf'], '411621': ['./Gonz%C3%A1lez_del_Valle,_Anselmo/2_Transcripciones_de_aires_populares,_Op.26_/411621.pdf'], '82213': [], '98753': ['./Smith,_Sydney/Maypole_Dance,_Op.45_/98753.pdf'], '409403': ['./Lamothe,_Georges/Frascati-valse,_Op.169_/409403.pdf'], '381570': ['./Maylath,_Henry/On_the_Beautiful_Hudson_/381570.pdf'], '380823': ['./Maylath,_Henry/No_Inflation,_Op.81_/380823.pdf'], '36683': ['./Smith,_Sydney/Fantaisie_Brillante_on_%27Un_Ballo_in_Maschera%27,_Op.10_/36683.pdf'], '249642': ['./Wallace,_William_Vincent/Fantasie_de_salon_sur_%27Fra_Diavolo%27_/249642.pdf'], '381606': ['./Maylath,_Henry/The_Elfin%27s_Revel_/381606.pdf'], '59096': ['./Wallace,_William_Vincent/Winter_Polka_/59096.pdf'], '40110': ['./Merkel,_Gustav_Adolf/6_Orgelst%C3%BCcke,_Op.100_/40110.pdf'], '183954': ['./Maylath,_Henry/Valse_gracieuse,_Op.120_/183954.pdf'], '383669': ['./Alb%C3%A9niz,_Isaac/Deseo,_Op.40_/383669.pdf'], '54695': ['./Smith,_Sydney/Airs_%C3%A9cossais,_Op.146_/54695.pdf'], '437997': ['./Kuhlau,_Friedrich/6_Waltzes,_WoO_210_/437997.pdf'], '516769': ['./Battmann,_Jacques-Louis/Nella_/516769.pdf'], '446628': ['./Herz,_Henri/3_Airs_de_ballets_de_%27Mos%C3%A8_in_Egitto%27_/446628.pdf'], '20432': ['./Mozart,_Wolfgang_Amadeus/Musikalisches_W%C3%BCrfelspiel,_K.516f_/20432.pdf'], '98660': ['./Smith,_Sydney/Rippling_Waves,_Op.7b_/98660.pdf'], '380843': ['./Maylath,_Henry/The_Young_Artist,_Op.167_/380843.pdf'], '178136': ['./Wolff,_%C3%89douard/Barcarolle,_Op.228_/178136.pdf'], '32796': ['./Wolff,_%C3%89douard/Nocturne,_Op.46_/32796.pdf'], '239747': ['./Dubois,_Th%C3%A9odore/3_Pi%C3%A8ces_pour_grand_orgue_/239747.pdf'], '01160': ['./Alb%C3%A9niz,_Isaac/7_estudios_en_los_tonos_naturales_mayores,_Op.65_/01160.pdf'], '100890': ['./Wallace,_William_Vincent/The_Invitation_Polka_/100890.pdf'], '40082': ['./Alb%C3%A9niz,_Isaac/Espagne_/40082.pdf'], '522437': ['./Battmann,_Jacques-Louis/Terre,_terre_/522437.pdf'], '54665': ['./Smith,_Sydney/Mendelssohn%27s_Scotch_Symphony,_Paraphrase,_Op.101_/54665.pdf'], '381630': ['./Maylath,_Henry/The_Return_/381630.pdf'], '519201': ['./Battmann,_Jacques-Louis/Les_perles,_Op.262_/519201.pdf'], '10376': ['./Maylath,_Henry/The_Gay_Butterfly,_Op.301_/10376.pdf'], '168013': ['./Dubois,_Th%C3%A9odore/A_l%27Aventure_/168013.pdf'], '266444': ['./Battmann,_Jacques-Louis/Fantaisie_facile_sur_%27Le_petit_duc%27,_Op.411_/266444.pdf'], '106708': ['./Morandi,_Giovanni/Raccolta_di_sonate_per_gli_organi_moderni_No.12_/106708.pdf'], '380973': ['./Maylath,_Henry/The_Old_Oaken_Bucket_/380973.pdf'], '380831': ['./Maylath,_Henry/Toujours_Jolie,_Op.118_/380831.pdf'], '261203': ['./Karg-Elert,_Sigfrid/Poetische_Bagatellen,_Op.77_/261203.pdf'], '357144': ['./Oesten,_Theodore/3_Grandes_Valses_brillantes,_Op.54_/357144.pdf'], '254330': ['./Smith,_Sydney/Sur_le_lac,_Op.109_/254330.pdf'], '446292': ['./Kuhlau,_Friedrich/12_Valses_pour_le_Piano-Forte,_WwO_212_/446292.pdf'], '235298': ['./Alb%C3%A9niz,_Isaac/Serenata_Arabe_/235298.pdf'], '00972': ['./Bart%C3%B3k,_B%C3%A9la/Romanian_Folk_Dances,_Sz.56_/00972.pdf'], '210440': ['./Oesten,_Theodore/Morning_Song_/210440.pdf'], '417049': ['./Bach,_Johann_Sebastian/Ouverture_nach_Franz%C3%B6sischer_Art,_BWV_831_/417049.pdf'], '330110': ['./Gonz%C3%A1lez_del_Valle,_Anselmo/Rapsodia_asturiana_No.2,_Op.27_/330110.pdf'], '98688': ['./Smith,_Sydney/L%27oiseau_de_paradis,_Op.29_/98688.pdf'], '330873': ['./Lamothe,_Georges/Valse_des_horizons_/330873.pdf'], '381566': ['./Maylath,_Henry/Nancy_Lee_/381566.pdf'], '481808': ['./Kuhlau,_Friedrich/Piano_Sonatina_in_F_major,_Op.59_No.2_/481808.pdf'], '30495': ['./Dubois,_Th%C3%A9odore/20_Pi%C3%A8ces_nouvelles_/30495.pdf'], '409430': ['./Lamothe,_Georges/Lulu-galop,_Op.197_/409430.pdf'], '522505': ['./Battmann,_Jacques-Louis/Indiana,_Op.239_/522505.pdf'], '468205': ['./Wolff,_%C3%89douard/Les_diablotines_/468205.pdf'], '381645': ['./Maylath,_Henry/Twinkling_Stars_/381645.pdf'], '207535': ['./Lange,_Gustav/The_Merry_Goldfinch_/207535.pdf'], '301288': ['./Mullen,_Alfred_Frederic/An_Old_Italian_Garden_/301288.pdf'], '98661': ['./Smith,_Sydney/La_Gait%C3%A9,_Op.9_/98661.pdf'], '35400': ['./Rheinberger,_Josef_Gabriel/12_Monologues,_Op.162_/35400.pdf'], '256799': ['./Widor,_Charles-Marie/Scherzo-valse,_Op.5_/256799.pdf'], '292385': ['./Mullen,_Alfred_Frederic/In_Normandy_/292385.pdf'], '381540': ['./Maylath,_Henry/La_Belle_Vivandiere_/381540.pdf'], '381546': ['./Maylath,_Henry/Little_Birdie%27s_First_Fly!_/381546.pdf'], '187217': ['./Maylath,_Henry/Insouciance,_Op.345_/187217.pdf'], '365939': ['./Oesten,_Theodore/Oberons_Zauberhorn,_Op.70_/365939.pdf'], '497320': ['./Chavagnat,_Edouard/Grande_fantaisie,_Op.152_/497320.pdf'], '516982': ['./Battmann,_Jacques-Louis/3_Petites_fantaisies,_Op.69_/516982.pdf'], '54651': ['./Smith,_Sydney/Grande_Fantaisie_on_Weber%27s_%27Preciosa%27,_Op.93_/54651.pdf'], '402951': ['./Battmann,_Jacques-Louis/Mon_p%27tit_papa_/402951.pdf'], '54110': ['./Smith,_Sydney/The_Cloister,_Op.75_/54110.pdf'], '522168': ['./Battmann,_Jacques-Louis/Lia,_Op.31_/522168.pdf'], '381627': ['./Maylath,_Henry/The_Irish_Regiment_/381627.pdf'], '32022': ['./Smith,_Sydney/La_Cascade_de_Rubis,_Op.22_/32022.pdf'], '380865': ['./Maylath,_Henry/Alpine_Mazurka_/380865.pdf'], '409040': ['./Lamothe,_Georges/Or_et_azur,_Op.139_/409040.pdf'], '516771': ['./Battmann,_Jacques-Louis/Les_petits_chasseurs_/516771.pdf'], '303929': ['./Mullen,_Alfred_Frederic/Highways_%26_Byways_/303929.pdf'], '281402': ['./Rheinberger,_Josef_Gabriel/Meditationen,_Op.167_/281402.pdf'], '102942': ['./Maylath,_Henry/Saltarello,_Op.76_/102942.pdf'], '04772': ['./Dubois,_Th%C3%A9odore/2_Petites_pi%C3%A8ces_pour_grand_orgue_/04772.pdf', './Gouin,_Pierre/2_Petites_pi%C3%A8ces_pour_grand_orgue_/04772.pdf'], '522419': ['./Battmann,_Jacques-Louis/Brises_du_lac_/522419.pdf'], '184831': ['./Wallace,_William_Vincent/Annie_Laurie_/184831.pdf'], '54717': ['./Smith,_Sydney/Retrospect,_Op.160_/54717.pdf'], '381541': ['./Maylath,_Henry/La_Belle_Zingara_/381541.pdf'], '249657': ['./Wallace,_William_Vincent/Fantasie_de_salon_sur_%27Don_Giovani%27_/249657.pdf'], '380878': ['./Maylath,_Henry/Darling%27s_Request_/380878.pdf'], '103024': ['./Maylath,_Henry/Nocturne_No.3,_Op.173_/103024.pdf'], '321765': ['./Mullen,_Alfred_Frederic/A_Tramp_Abroad_/321765.pdf'], '521449': ['./Battmann,_Jacques-Louis/Tic_e_tic_e_toc,_Op.248_/521449.pdf'], '41424': ['./Merkel,_Gustav_Adolf/Choral-studien,_Op.116_/41424.pdf'], '79452': ['./Alb%C3%A9niz,_Isaac/L%27Automne-Valse,_Op.170_/79452.pdf'], '520439': ['./Battmann,_Jacques-Louis/12_Fantaisies_gracieuses,_Op.276_/520439.pdf'], '36244': ['./Wallace,_William_Vincent/Ballade_de_%27Rigoletto%27,_Op.82_/36244.pdf'], '437998': ['./Kuhlau,_Friedrich/10_Waltzes,_WoO_211_/437998.pdf'], '381649': ['./Maylath,_Henry/Violetta_/381649.pdf'], '01162': ['./Alb%C3%A9niz,_Isaac/Piano_Sonata_No.4,_Op.72_/01162.pdf'], '41430': ['./Merkel,_Gustav_Adolf/Adagio_im_freien_Styl,_Op.35_/41430.pdf'], '77643': ['./Dubois,_Th%C3%A9odore/Cantil%C3%A8ne_nuptiale_/77643.pdf'], '95910': ['./Chavagnat,_Edouard/Fantaisie_mauresque,_Op.117_/95910.pdf'], '409424': ['./Lamothe,_Georges/Le_vieux_Paris,_Op.193_/409424.pdf'], '32787': ['./Wolff,_%C3%89douard/24_%C3%89tudes_en_forme_de_pr%C3%A9ludes,_Op.20_/32787.pdf'], '276436': ['./Sauer,_Emil_von/La_Retour_/276436.pdf'], '516340': ['./Battmann,_Jacques-Louis/Modeste_/516340.pdf'], '381539': ['./Maylath,_Henry/La_Belle_Coquette_/381539.pdf'], '206472': ['./Widor,_Charles-Marie/Valses,_Op.71_/206472.pdf'], '380879': ['./Maylath,_Henry/Defil%C3%A9_March_/380879.pdf'], '253603': ['./Wallace,_William_Vincent/Rosebud_Polka_/253603.pdf'], '521433': ['./Battmann,_Jacques-Louis/Petite_marguerite_/521433.pdf'], '380797': ['./Maylath,_Henry/Autumn_Leaves,_Op.24_/380797.pdf'], '99355': ['./Smith,_Sydney/Memories_of_Home,_Op.60_/99355.pdf'], '111983': ['./Smith,_Sydney/Mendelssohn%27s_Midsummer_Night%27s_Dream,_Op.76_/111983.pdf'], '516589': ['./Battmann,_Jacques-Louis/6_Fantaisies_originales,_Op.309_/516589.pdf'], '54709': ['./Smith,_Sydney/Grande_Fantaisie_on_Bellini%27s_opera_%27Beatrice_di_Tenda%27,_Op.147_/54709.pdf'], '380851': ['./Maylath,_Henry/On_the_Playground,_Op.170_/380851.pdf'], '301294': ['./Mullen,_Alfred_Frederic/Norwegian_Dances_/301294.pdf'], '519634': ['./Battmann,_Jacques-Louis/Fragment_de_%27Il_furioso%27,_Op.190_/519634.pdf'], '522430': ['./Battmann,_Jacques-Louis/La_belle_glaneuse_/522430.pdf'], '84791': ['./Alb%C3%A9niz,_Isaac/2_Danzas_espag%C3%B1oles,_Op.164_/84791.pdf', './Alb%C3%A9niz,_Isaac/2_Spanish_National_Songs,_Op.164_/84791.pdf'], '381556': ['./Maylath,_Henry/Merry_Thoughts_/381556.pdf'], '32791': ['./Wolff,_%C3%89douard/4_Rapsodies,_Op.29_/32791.pdf'], '380854': ['./Maylath,_Henry/In_a_Swing,_Op.202_/380854.pdf'], '101908': ['./Wallace,_William_Vincent/Grande_valse_de_concert,_Op.27_/101908.pdf'], '74604': ['./Maylath,_Henry/12_Favorite_Melodies,_Op.57_/74604.pdf'], '35509': ['./Smith,_Sydney/Lily_of_the_Valley,_Op.14_/35509.pdf'], '367422': ['./Merkel,_Gustav_Adolf/Serenade_in_A_major_/367422.pdf'], '36680': ['./Smith,_Sydney/La_Harpe_%C3%A9olienne,_Op.11_/36680.pdf'], '481807': ['./Kuhlau,_Friedrich/Piano_Sonatina_in_A_major,_Op.59_No.1_/481807.pdf'], '381641': ['./Maylath,_Henry/Twilight_/381641.pdf'], '251156': ['./Wallace,_William_Vincent/L%27heliotrope_valse_/251156.pdf'], '381563': ['./Maylath,_Henry/Miranda_/381563.pdf'], '409036': ['./Lamothe,_Georges/Brise_des_nuits,_Op.91_/409036.pdf'], '380883': ['./Maylath,_Henry/Echo_Waltz_/380883.pdf'], '380890': ['./Maylath,_Henry/Enchantress_/380890.pdf'], '13827': ['./Alb%C3%A9niz,_Isaac/C%C3%A9l%C3%A8bre_s%C3%A9r%C3%A9nade_Espagnole,_Op.181_/13827.pdf'], '23268': ['./Rheinberger,_Josef_Gabriel/Organ_Sonata_No.17,_Op.181_/23268.pdf'], '380875': ['./Maylath,_Henry/Centennial_March_/380875.pdf'], '330112': ['./Gonz%C3%A1lez_del_Valle,_Anselmo/Rapsodia_asturiana_No.4,_Op.29_/330112.pdf'], '254841': ['./Dubois,_Th%C3%A9odore/Divertissement,_Op.19_/254841.pdf'], '491237': ['./Mullen,_Alfred_Frederic/Japanese_Dances_/491237.pdf'], '251938': ['./Wallace,_William_Vincent/Innocence_/251938.pdf'], '517939': ['./Battmann,_Jacques-Louis/Fleur_des_Alpes,_Op.55_/517939.pdf'], '380828': ['./Maylath,_Henry/Les_belles_de_Newport,_Op.113_/380828.pdf'], '54486': ['./Smith,_Sydney/Grande_fantaisie_on_%27Les_Huguenots%27,_Op.44_/54486.pdf'], '54711': ['./Smith,_Sydney/Aspiration,_Op.208/1_/54711.pdf'], '411617': ['./Gonz%C3%A1lez_del_Valle,_Anselmo/El_secreto_de_una_dama,_Op.18_/411617.pdf'], '409035': ['./Lamothe,_Georges/Ko-kli-ko,_Op.90_/409035.pdf'], '98669': ['./Smith,_Sydney/Fantaisie_Brillante_on_%27Martha%27,_Op.30_/98669.pdf'], '240656': ['./Kuhlau,_Friedrich/3_Th%C3%A8mes_favorits_de_l%27opera_%27Preciosa%27,_Op.53_/240656.pdf'], '381547': ['./Maylath,_Henry/Little_Birdling%27s_Love_Song_/381547.pdf'], '10375': ['./Maylath,_Henry/Souvenir_de_Henselt,_Op.60_/10375.pdf'], '388866': ['./Bertini,_Henri/3_Solos_de_concours,_Op.167_/388866.pdf'], '518422': ['./Battmann,_Jacques-Louis/Les_petites_amies_/518422.pdf'], '409625': ['./Lamothe,_Georges/La_reina_de_las_aguas_/409625.pdf'], '380954': ['./Maylath,_Henry/Glistening_Spray_/380954.pdf'], '381578': ['./Maylath,_Henry/President_Garfield%27s_Funeral_March_/381578.pdf'], '330109': ['./Gonz%C3%A1lez_del_Valle,_Anselmo/Rapsodia_asturiana_No.1,_Op.13_/330109.pdf'], '92140': ['./Oesten,_Theodore/Maibl%C3%BCmchen,_Op.61_/92140.pdf'], '411604': ['./Gonz%C3%A1lez_del_Valle,_Anselmo/Odaliska_/411604.pdf'], '468224': ['./Wolff,_%C3%89douard/12_%C3%89tudes_artistiques,_Op.192_/468224.pdf'], '522846': ['./Battmann,_Jacques-Louis/Un_soupir_de_Faust,_Op.252_/522846.pdf'], '57634': ['./Debussy,_Claude/Pour_le_piano_/57634.pdf'], '416591': ['./Reinecke,_Carl/Gigue_in_D_minor_/416591.pdf'], '409039': ['./Lamothe,_Georges/Turquoise-polka,_Op.138_/409039.pdf'], '90286': ['./Chavagnat,_Edouard/Impromptu_No.1,_Op.164_/90286.pdf'], '210035': ['./Oesten,_Theodore/Im_Rosengefilde,_Op.318_/210035.pdf'], '300461': ['./Chavagnat,_Edouard/12_%C3%89tudes-caprices_/300461.pdf'], '266429': ['./Battmann,_Jacques-Louis/Souvenir_d%27un_beau_jour,_Op.174_/266429.pdf'], '98707': ['./Smith,_Sydney/Thoughts_of_Home,_Op.91_/98707.pdf'], '59016': ['./Lamothe,_Georges/Le_r%C3%A9veil_du_printemps_/59016.pdf'], '330106': ['./Gonz%C3%A1lez_del_Valle,_Anselmo/Rapsodia_espa%C3%B1ola,_Op.19_/330106.pdf'], '184289': ['./Wolff,_%C3%89douard/Le_tournoi,_Op.151_/184289.pdf'], '54713': ['./Smith,_Sydney/Au_Revoir,_Op.216_/54713.pdf'], '255976': ['./Dubois,_Th%C3%A9odore/Bluette-pastorale,_Op.11_/255976.pdf'], '113684': ['./Maylath,_Henry/La_Babillarde,_Op.305_/113684.pdf'], '36679': ['./Smith,_Sydney/Tarantelle_brillante,_Op.8_/36679.pdf'], '409416': ['./Lamothe,_Georges/Nuages_d%27or,_Op.178_/409416.pdf'], '381639': ['./Maylath,_Henry/Tranquility_/381639.pdf'], '54391': ['./Chavagnat,_Edouard/Orient,_Op.215_/54391.pdf'], '253999': ['./Wallace,_William_Vincent/Souvenir_de_Naples_/253999.pdf'], '350292': ['./Mullen,_Alfred_Frederic/Twelfth_Night_/350292.pdf'], '381648': ['./Maylath,_Henry/Valse_de_Concert,_No.2_/381648.pdf'], '216645': ['./Alb%C3%A9niz,_Isaac/Ricordatti,_Op.96_/216645.pdf'], '106714': ['./Morandi,_Giovanni/Raccolta_di_sonate_per_gli_organi_moderni_/106714.pdf'], '517138': ['./Battmann,_Jacques-Louis/Petite_fantaisie_sur_%27Aben-Hamet%27,_Op.452_/517138.pdf'], '380892': ['./Maylath,_Henry/Esmeralda_/380892.pdf'], '59968': ['./Smith,_Sydney/Marche_Funebre,_Op.175_/59968.pdf'], '98672': ['./Smith,_Sydney/Brilliant_Fantasia_on_%27The_March_of_the_Men_of_Harlech%27,_Op.15_/98672.pdf'], '203663': ['./Wallace,_William_Vincent/Italiana_/203663.pdf'], '54696': ['./Smith,_Sydney/Air_Danoise,_Op.136_/54696.pdf'], '292946': ['./Mullen,_Alfred_Frederic/The_Valley_of_Repose_/292946.pdf'], '249770': ['./Wallace,_William_Vincent/Fantasie_de_salon_sur_%27La_sonnambula%27_/249770.pdf'], '98662': ['./Smith,_Sydney/Mountain_Stream,_Op.13_/98662.pdf'], '54692': ['./Smith,_Sydney/Arcadia,_Op.95_/54692.pdf'], '488458': ['./Wolff,_%C3%89douard/3_Nocturnes,_Op.134_/488458.pdf'], '367420': ['./Merkel,_Gustav_Adolf/Polonaise_in_E_major_/367420.pdf'], '380881': ['./Maylath,_Henry/Dreamland_/380881.pdf'], '380955': ['./Maylath,_Henry/Golden_Album_Leaves_/380955.pdf'], '380876': ['./Maylath,_Henry/Colombia%27s_Victory_March_/380876.pdf'], '380819': ['./Maylath,_Henry/The_Bells_of_the_Village_Church,_Op.73_/380819.pdf'], '380800': ['./Maylath,_Henry/Caprice_Brillant,_Op.38_/380800.pdf'], '381586': ['./Maylath,_Henry/Rustic_Polka_/381586.pdf'], '239275': ['./Smith,_Sydney/Danse_des_fant%C3%B4mes,_Op.200_/239275.pdf'], '35576': ['./Smith,_Sydney/Songes_a_la_Foret,_Op.26_/35576.pdf'], '519194': ['./Battmann,_Jacques-Louis/6_Fantaisies,_Op.228_/519194.pdf'], '499318': ['./Chavagnat,_Edouard/Matutina,_Op.222_/499318.pdf'], '39286': ['./Merkel,_Gustav_Adolf/Barcarole,_Op.63_/39286.pdf'], '30462': ['./Dubois,_Th%C3%A9odore/Po%C3%A8mes_Virgiliens_/30462.pdf'], '520432': ['./Battmann,_Jacques-Louis/La_semaine_des_jeunes_pianistes,_Op.279_/520432.pdf'], '241670': ['./Merkel,_Gustav_Adolf/Einleitung_und_Doppelfuge,_Op.105_/241670.pdf'], '491270': ['./Mullen,_Alfred_Frederic/Lotus-Land_/491270.pdf'], '521181': ['./Battmann,_Jacques-Louis/Muguette_/521181.pdf'], '381553': ['./Maylath,_Henry/Matilda_Lanciers_/381553.pdf'], '32807': ['./Wolff,_%C3%89douard/3_Chansons_polonaises,_Op.136_/32807.pdf'], '380855': ['./Maylath,_Henry/The_Blacksmith_and_his_Fair_Daughter,_Op.299_/380855.pdf'], '250967': ['./Morandi,_Giovanni/Gran_Sinfonia_Variata_/250967.pdf'], '106719': ['./Morandi,_Giovanni/Sinfonia_in_Pastorale_pel_SS._Natale_/106719.pdf'], '516592': ['./Battmann,_Jacques-Louis/3_Piano_Sonatines,_Op.300_/516592.pdf'], '420164': ['./Oesten,_Theodore/Fr%C3%BChlingswanderung,_Op.397_/420164.pdf'], '259594': ['./Wolff,_%C3%89douard/Les_eoliennes,_Op.291_/259594.pdf'], '491275': ['./Czerny,_Carl/Andante_cantabile_in_E-flat_major_/491275.pdf'], '36303': ['./Smith,_Sydney/Caprice_espagnol_/36303.pdf'], '489145': ['./Wolff,_%C3%89douard/Un_conte_de_la_vieille,_Op.167_/489145.pdf'], '54661': ['./Smith,_Sydney/La_sympathie,_Op.99_/54661.pdf'], '38081': ['./Merkel,_Gustav_Adolf/Organ_Sonata_No.3,_Op.80_/38081.pdf'], '214684': ['./Alb%C3%A9niz,_Isaac/Pavana-Capricho,_Op.12_/214684.pdf'], '100944': ['./Wallace,_William_Vincent/Grande_Polka_de_Concert_No.2,_Op.68_/100944.pdf'], '409432': ['./Lamothe,_Georges/Cavalcade-galop,_Op.202_/409432.pdf'], '380971': ['./Maylath,_Henry/Illustration_Elegant_to_Rode%27s_Celebrated_Air_/380971.pdf'], '54647': ['./Smith,_Sydney/Fantaisie_Brillante_on_%27I_Lombardi%27,_Op.83_/54647.pdf'], '54145': ['./Smith,_Sydney/Chant_de_Berceau,_Op.156_/54145.pdf'], '01140': ['./Alb%C3%A9niz,_Isaac/Piano_Sonata_No.3,_Op.68_/01140.pdf'], '343813': ['./Mullen,_Alfred_Frederic/The_Edge_of_Beyond_/343813.pdf'], '381633': ['./Maylath,_Henry/The_Solid_North_/381633.pdf'], '367408': ['./Merkel,_Gustav_Adolf/4_Pieces,_Op.74_/367408.pdf'], '381576': ['./Maylath,_Henry/Prairie_Flower_/381576.pdf'], '409624': ['./Lamothe,_Georges/Les_parisiennes_/409624.pdf'], '330871': ['./Lamothe,_Georges/Nuit_d%27Orient,_Op.171_/330871.pdf'], '301456': ['./Mullen,_Alfred_Frederic/3_Scandinavian_Peasant_Dances_/301456.pdf'], '54144': ['./Smith,_Sydney/Herve_Chilperic,_Op.127_/54144.pdf'], '509757': ['./Smith,_Sydney/6_Morceaux_tr%C3%A8s_faciles_/509757.pdf'], '330869': ['./Lamothe,_Georges/Amour_et_jeunesse_/330869.pdf'], '266441': ['./Battmann,_Jacques-Louis/2_Petites_fantaisies_mosa%C3%AFques_sur_%27Le_petit_Faust%27,_Op.306_/266441.pdf'], '99217': ['./Smith,_Sydney/Etude_de_concert,_Op.59_/99217.pdf'], '111638': ['./Wallace,_William_Vincent/La_gondola,_Op.18_/111638.pdf'], '409531': ['./Lamothe,_Georges/Hallali_/409531.pdf'], '381587': ['./Maylath,_Henry/Saratoga_/381587.pdf'], '496470': ['./Chavagnat,_Edouard/Pour_passer_le_Temps,_Op.204_/496470.pdf'], '409011': ['./Lamothe,_Georges/Bella,_Op.51_/409011.pdf'], '517140': ['./Battmann,_Jacques-Louis/Le_chant_du_colibri,_Op.108_/517140.pdf'], '435121': ['./Bertini,_Henri/12_Little_Pieces_and_Preludes_/435121.pdf'], '437482': ['./Kuhlau,_Friedrich/8_Rondos,_Op.41_/437482.pdf'], '98695': ['./Smith,_Sydney/Fandango_in_D-flat_major,_Op.34_/98695.pdf'], '290044': ['./Merkel,_Gustav_Adolf/Traumbild,_Op.75_/290044.pdf'], '94475': ['./Chavagnat,_Edouard/Vieilles_chansons_/94475.pdf'], '94126': ['./Chavagnat,_Edouard/%C3%89toile_du_matin,_Op.201_/94126.pdf'], '75830': ['./Smith,_Sydney/Con_Amore_/75830.pdf'], '305428': ['./Morandi,_Giovanni/Gran_raccolta_di_sonate_per_organi_di_una_difficolta_progressiva_No.6_/305428.pdf'], '97163': ['./Chavagnat,_Edouard/M%C3%A9ditation_et_scherzo,_Op.101_/97163.pdf'], '380893': ['./Maylath,_Henry/Evangeline_/380893.pdf'], '367418': ['./Merkel,_Gustav_Adolf/Piano_Pieces,_Op.181_/367418.pdf'], '32795': ['./Wolff,_%C3%89douard/Nocturne_en_forme_de_mazurke,_Op.45_/32795.pdf'], '35401': ['./Rheinberger,_Josef_Gabriel/12_Characteristic_Pieces,_Op.156_/35401.pdf'], '500528': ['./Merkel,_Gustav_Adolf/4_Organ_Trios,_Op.39_/500528.pdf'], '362786': ['./Lamothe,_Georges/Fleurs_des_champs,_Op.49_/362786.pdf'], '381596': ['./Maylath,_Henry/Sounds_from_Edinburgh_/381596.pdf'], '112057': ['./Smith,_Sydney/Pri%C3%A8re_des_Pelerins,_Op.41_/112057.pdf'], '253508': ['./Wallace,_William_Vincent/The_Lotus_Leaf_/253508.pdf'], '409627': ['./Lamothe,_Georges/Les_sultanes_/409627.pdf'], '09545': ['./Bach,_Carl_Philipp_Emanuel/Keyboard_Sonata_in_F_major_/09545.pdf'], '517158': ['./Battmann,_Jacques-Louis/Le_retour_des_cloches,_Op.51_/517158.pdf'], '54143': ['./Smith,_Sydney/Cantilena,_Op.169_/54143.pdf'], '411623': ['./Gonz%C3%A1lez_del_Valle,_Anselmo/La_verbena_de_la_paloma,_Op.36_/411623.pdf'], '381568': ['./Maylath,_Henry/Nine_o%27Clock_in_the_Morning_/381568.pdf'], '516337': ['./Battmann,_Jacques-Louis/Les_joyeux_mariniers_/516337.pdf'], '409418': ['./Lamothe,_Georges/Chacone_du_bon_vieux_temps,_Op.179_/409418.pdf'], '111655': ['./Oesten,_Theodore/Paraphrasen_beliebter_Deutscher_Volkslieder,_Op.96_/111655.pdf'], '516777': ['./Battmann,_Jacques-Louis/Une_rose_/516777.pdf'], '38080': ['./Merkel,_Gustav_Adolf/Organ_Sonata_No.8,_Op.178_/38080.pdf']}\n"
     ]
    }
   ],
   "source": [
    "# Define the directory path\n",
    "directory_path = \"/mnt/data0/Datasets/imslp/score_scrape/results/composer\"\n",
    "\n",
    "# Change the current working directory\n",
    "os.chdir(directory_path)\n",
    "\n",
    "# Dictionary to store results\n",
    "results = {}\n",
    "\n",
    "for number in not_valid_ids_100:\n",
    "    # Define the command with the current number\n",
    "    command = f\"find . -name '{number}.*'\"\n",
    "    \n",
    "    # Execute the command and capture the output\n",
    "    result = subprocess.run(command, shell=True, stdout=subprocess.PIPE, stderr=subprocess.PIPE, text=True)\n",
    "    \n",
    "    # Check if the command was successful\n",
    "    if result.returncode == 0:\n",
    "        # Store the output in the dictionary\n",
    "        results[number] = result.stdout.splitlines()\n",
    "    else:\n",
    "        # Print error message if command failed\n",
    "        print(f\"Error executing command for {number}: {result.stderr}\")"
   ]
  },
  {
   "cell_type": "code",
   "execution_count": 23,
   "id": "42bf0fe1",
   "metadata": {},
   "outputs": [],
   "source": [
    "# Construct urls out of File names\n",
    "def create_url_from_file_name(path):\n",
    "    components = path.strip('./').split('/')\n",
    "    title = components[-2]\n",
    "    composer = components[-3]\n",
    "    url = f\"https://imslp.org/wiki/{title}({composer})\"\n",
    "    return url"
   ]
  },
  {
   "cell_type": "code",
   "execution_count": 27,
   "id": "00c14251",
   "metadata": {},
   "outputs": [
    {
     "name": "stdout",
     "output_type": "stream",
     "text": [
      "19111 []\n",
      "82213 []\n"
     ]
    }
   ],
   "source": [
    "for key, file in results.items():\n",
    "    try:\n",
    "        url_dict_100[key] = create_url_from_file_name(file[0])\n",
    "    except:\n",
    "        print(key,file)"
   ]
  },
  {
   "cell_type": "code",
   "execution_count": 29,
   "id": "d617cf94",
   "metadata": {},
   "outputs": [],
   "source": [
    "# functions to get page text and parse out the general information sectioin\n",
    "\n",
    "def get_page_text(url):\n",
    "    '''Retrive the text from url.'''\n",
    "    # parse web content into English text\n",
    "    try:\n",
    "        response = requests.get(url)\n",
    "        response.raise_for_status()  # Check for any request errors\n",
    "\n",
    "        soup = BeautifulSoup(response.content, 'html.parser')\n",
    "        # Extract all text from the page, excluding script and style tags\n",
    "        text = soup.get_text(separator='\\n', strip=True)\n",
    "\n",
    "        return text\n",
    "    except requests.exceptions.RequestException as e:\n",
    "        print(f\"Error: {e}\")\n",
    "        return None\n",
    "\n",
    "def extract_text_between_strings_second(text, start_string, end_string):\n",
    "    '''\n",
    "    Extracts the substring between the second occurrence of start_string and end_string in text.\n",
    "    '''\n",
    "    # Find the second occurrence of the start_string (the second occurence of \"general information\" gives us our metadata)\n",
    "    if text:\n",
    "        start_index = text.find(start_string, text.find(start_string) + len(start_string))\n",
    "        if start_index == -1:  # If start_string is not found\n",
    "            return None\n",
    "\n",
    "        # Find the occurrence of the end_string\n",
    "        end_index = text.find(end_string, start_index)\n",
    "        if end_index == -1:  # If end_string is not found\n",
    "            return None\n",
    "\n",
    "        # Extract the substring between the second occurrence of start_string and end_string\n",
    "        extracted_text = text[start_index + len(start_string):end_index].strip()\n",
    "\n",
    "        return extracted_text\n",
    "\n",
    "def retrieve_general_information(url):\n",
    "    '''Retrieves the general information section from the IMSLP page of a musical score until Instrumentation.'''\n",
    "    # retrieve the general information section\n",
    "    parsed_text = extract_text_between_strings_second(get_page_text(url),'General Information','Instrumentation')\n",
    "    return parsed_text\n",
    "\n",
    "def extract_text_between_strings_new(text, start_string, end_string):\n",
    "    '''\n",
    "    Extracts the substring between start_string and end_string in text.\n",
    "    '''\n",
    "    start_index = text.find(start_string)\n",
    "    if start_index == -1:  # If start_string is not found\n",
    "        return None\n",
    "\n",
    "    # Find the occurrence of the end_string\n",
    "    end_index = text.find(end_string, start_index)\n",
    "    if end_index == -1:  # If end_string is not found\n",
    "        return None\n",
    "\n",
    "    # Extract the substring between the second occurrence of start_string and end_string\n",
    "    extracted_text = text[start_index + len(start_string):end_index].strip()\n",
    "\n",
    "    return extracted_text"
   ]
  },
  {
   "cell_type": "code",
   "execution_count": 30,
   "id": "b2344389",
   "metadata": {},
   "outputs": [],
   "source": [
    "# find general information section\n",
    "\n",
    "def get_gen_info(url_dict):\n",
    "    attribute_list = ['Work Title', 'Alt\\nernative\\n.\\nTitle', 'Name Translations', 'Name Aliases', 'Authorities', 'Composer',\n",
    "                            'Opus/Catalogue Number', 'I-Catalogue Number', 'Key', 'Movements/Sections', 'Fisrt Performance', 'Year/Date of Composition', \n",
    "                            'First Pub\\nlication', 'Librettist', 'Language', 'Copyright Information','Dedication', 'Average Duration', 'Composer Time Period', \"Piece Style\"]\n",
    "    list_of_deletable_headings = ['Opus/Catalogue Number','I-Catalogue Number','Movements/Sections','Year/Date of Composition','First Pub\\nlication','Average Duration','Composer Time Period']\n",
    "    bad_heading_pattern = r'^.*\\n'\n",
    "\n",
    "    info = {}\n",
    "    for pdf_id, url in url_dict.items():\n",
    "        parsed_text = retrieve_general_information(url)\n",
    "\n",
    "        if parsed_text:\n",
    "\n",
    "            info_dic = {}\n",
    "\n",
    "            present_attributes = []\n",
    "            # check which attributes are present in the parsed text\n",
    "            for attribute in attribute_list:\n",
    "                if parsed_text.find(attribute) != -1:\n",
    "                    present_attributes.append(attribute)\n",
    "\n",
    "            # extract the text for each present attribute\n",
    "            for attribute in attribute_list[:-1]:\n",
    "                if attribute in present_attributes:\n",
    "                    info_dic[attribute] = extract_text_between_strings_new(parsed_text, attribute, present_attributes[present_attributes.index(attribute) + 1] if present_attributes.index(attribute) != len(present_attributes) - 1 else \"Romantic\")\n",
    "\n",
    "            info_dic['Piece Style'] = parsed_text[parsed_text.find('Piece Style')+12:] # extract the piece style from the end of the general information section\n",
    "            info_dic['Instrumentation'] = 'Piano'\n",
    "            info_dic['url'] = url\n",
    "\n",
    "            if 'Alt\\nernative\\n.\\nTitle' in present_attributes:\n",
    "                alt_title = info_dic['Alt\\nernative\\n.\\nTitle']\n",
    "                info_dic['Alternative Title'] = alt_title\n",
    "                del info_dic['Alt\\nernative\\n.\\nTitle']\n",
    "\n",
    "            if 'First Pub\\nlication' in present_attributes:\n",
    "                alt_title = info_dic['First Pub\\nlication']\n",
    "                info_dic['First Publication'] = alt_title\n",
    "                del info_dic['First Pub\\nlication']\n",
    "\n",
    "            for heading in list_of_deletable_headings:\n",
    "                if heading in info_dic.keys():\n",
    "                    try:\n",
    "                        info_dic[heading] = re.sub(bad_heading_pattern, '', info_dic[heading])\n",
    "                    except:\n",
    "                        pass\n",
    "\n",
    "            info[pdf_id] = info_dic\n",
    "\n",
    "        else:\n",
    "            print(\"String not found or invalid input.\")\n",
    "            \n",
    "    return info"
   ]
  },
  {
   "cell_type": "code",
   "execution_count": null,
   "id": "5c679c83",
   "metadata": {},
   "outputs": [],
   "source": [
    "info_9 = get_gen_info(url_dict_9)"
   ]
  },
  {
   "cell_type": "code",
   "execution_count": 31,
   "id": "64bb5bd7",
   "metadata": {},
   "outputs": [
    {
     "name": "stdout",
     "output_type": "stream",
     "text": [
      "Error: 404 Client Error: Not Found for url: https://imslp.org/wiki/An_Alexis_(Hummel,_Johann_Nepomuk)\n",
      "String not found or invalid input.\n",
      "Error: 404 Client Error: Not Found for url: https://imslp.org/wiki/Trio_in_G_minor_(Gouin,_Pierre)\n",
      "String not found or invalid input.\n",
      "Error: 404 Client Error: Not Found for url: https://imslp.org/wiki/2_(Conservatoristen-Polka,_Op.1)\n",
      "String not found or invalid input.\n",
      "Error: 404 Client Error: Not Found for url: https://imslp.org/wiki/A_toi_(Smith,_Sydney)\n",
      "String not found or invalid input.\n",
      "Error: 404 Client Error: Not Found for url: https://imslp.org/wiki/Suite_Espa%C3%B1ola_No.1,_Op.47_(Gouin,_Pierre)\n",
      "String not found or invalid input.\n",
      "String not found or invalid input.\n",
      "Error: 404 Client Error: Not Found for url: https://imslp.org/wiki/Suite_bergamasque_(Gouin,_Pierre)\n",
      "String not found or invalid input.\n",
      "Error: 404 Client Error: Not Found for url: https://imslp.org/wiki/Espagne_(Alb%C3%A9niz,_Isaac)\n",
      "String not found or invalid input.\n",
      "Error: 404 Client Error: Not Found for url: https://imslp.org/wiki/1_(Aspiration,_Op.208)\n",
      "String not found or invalid input.\n",
      "Error: 404 Client Error: Not Found for url: https://imslp.org/wiki/Raccolta_di_sonate_per_gli_organi_moderni_(Morandi,_Giovanni)\n",
      "String not found or invalid input.\n"
     ]
    }
   ],
   "source": [
    "info_100 = get_gen_info(url_dict_100)"
   ]
  },
  {
   "cell_type": "code",
   "execution_count": 33,
   "id": "3fac9f89",
   "metadata": {},
   "outputs": [],
   "source": [
    "# Manually fix error in works\n",
    "\n",
    "fixed_url_100 = {}\n",
    "\n",
    "# 2 pieces got deleted\n",
    "\n",
    "# Pierre Gouin is not the composer but the arranger\n",
    "def find_key_by_value(dictionary, target_value):\n",
    "    for key, value in dictionary.items():\n",
    "        if value == target_value:\n",
    "            return key\n",
    "    return None\n",
    "\n",
    "fixed_url_100[find_key_by_value(url_dict_100, 'https://imslp.org/wiki/Trio_in_G_minor_(Gouin,_Pierre)')] = 'https://imslp.org/wiki/Trio_in_G_major%2C_BWV_1027a_(Bach%2C_Johann_Sebastian)'\n",
    "fixed_url_100[find_key_by_value(url_dict_100,'https://imslp.org/wiki/Suite_Espa%C3%B1ola_No.1,_Op.47_(Gouin,_Pierre)')]= 'https://imslp.org/wiki/Suite_espa%C3%B1ola_No.1%2C_Op.47_(Alb%C3%A9niz%2C_Isaac)'\n",
    "fixed_url_100[find_key_by_value(url_dict_100,'https://imslp.org/wiki/Suite_bergamasque_(Gouin,_Pierre)')]= 'https://imslp.org/wiki/Suite_bergamasque_(Debussy,_Claude)'\n",
    "\n",
    "\n",
    "# parsing error\n",
    "fixed_url_100[find_key_by_value(url_dict_100, 'https://imslp.org/wiki/2_(Conservatoristen-Polka,_Op.1)')] = 'https://imslp.org/wiki/Conservatoristen-Polka%2C_Op.1%2F2_(Moszkowski%2C_Moritz)'\n",
    "\n",
    "# piece name changed to English\n",
    "fixed_url_100[find_key_by_value(url_dict_100,'https://imslp.org/wiki/A_toi_(Smith,_Sydney)')]= 'https://imslp.org/wiki/For_You_(Smith%2C_Sydney)'\n",
    "fixed_url_100[find_key_by_value(url_dict_100,'https://imslp.org/wiki/Espagne_(Alb%C3%A9niz,_Isaac)')]= 'https://imslp.org/wiki/Espa%C3%B1a%2C_Op.165_(Alb%C3%A9niz%2C_Isaac)'\n",
    "fixed_url_100[find_key_by_value(url_dict_100,'https://imslp.org/wiki/1_(Aspiration,_Op.208)')]= 'https://imslp.org/wiki/Aspiration%2C_Op.208%2F1_(Smith%2C_Sydney)'\n",
    "\n",
    "# changed url format\n",
    "fixed_url_100[find_key_by_value(url_dict_100,'https://imslp.org/wiki/Raccolta_di_sonate_per_gli_organi_moderni_(Morandi,_Giovanni)')]= 'https://imslp.org/wiki/Raccolta_di_sonate_per_gli_organi_moderni_(1846)_(Morandi%2C_Giovanni)'"
   ]
  },
  {
   "cell_type": "code",
   "execution_count": 35,
   "id": "59ab0c4c",
   "metadata": {},
   "outputs": [],
   "source": [
    "added_info_100 = get_gen_info(fixed_url_100)"
   ]
  },
  {
   "cell_type": "code",
   "execution_count": 37,
   "id": "01bc2fda",
   "metadata": {},
   "outputs": [
    {
     "data": {
      "text/plain": [
       "4926"
      ]
     },
     "execution_count": 37,
     "metadata": {},
     "output_type": "execute_result"
    }
   ],
   "source": [
    "info_100.update(added_info_100)\n",
    "url_dict_100.update(fixed_url_100)\n",
    "len(info_100)"
   ]
  },
  {
   "cell_type": "code",
   "execution_count": null,
   "id": "e91ba23a",
   "metadata": {},
   "outputs": [],
   "source": [
    "# create pickle file from the dictionary\n",
    "with open('9_way_metadata.pkl', 'wb') as f:\n",
    "    pickle.dump(info_9, f)"
   ]
  },
  {
   "cell_type": "code",
   "execution_count": 44,
   "id": "bbaca90e",
   "metadata": {},
   "outputs": [],
   "source": [
    "with open('/home/ctang/ttmp/MMCSR/100_way_metadata.pkl', 'wb') as f:\n",
    "    pickle.dump(info_100, f)"
   ]
  },
  {
   "cell_type": "code",
   "execution_count": null,
   "id": "fdb22f88",
   "metadata": {},
   "outputs": [],
   "source": [
    "# create a dataframe from the dictionary\n",
    "df_9 = pd.DataFrame.from_dict(info_9, orient='index')\n",
    "df_9.info()\n",
    "\n",
    "# save the dataframe to a csv file\n",
    "df_9.to_csv('9_way_metadata.csv')"
   ]
  },
  {
   "cell_type": "code",
   "execution_count": 46,
   "id": "1376fa7a",
   "metadata": {},
   "outputs": [
    {
     "name": "stdout",
     "output_type": "stream",
     "text": [
      "<class 'pandas.core.frame.DataFrame'>\n",
      "Index: 4926 entries, 06407 to 106714\n",
      "Data columns (total 21 columns):\n",
      " #   Column                    Non-Null Count  Dtype \n",
      "---  ------                    --------------  ----- \n",
      " 0   Work Title                4926 non-null   object\n",
      " 1   Composer                  4926 non-null   object\n",
      " 2   Opus/Catalogue Number     4316 non-null   object\n",
      " 3   I-Catalogue Number        4923 non-null   object\n",
      " 4   Key                       2478 non-null   object\n",
      " 5   Movements/Sections        4076 non-null   object\n",
      " 6   Composer Time Period      4926 non-null   object\n",
      " 7   Piece Style               4926 non-null   object\n",
      " 8   Instrumentation           4926 non-null   object\n",
      " 9   url                       4926 non-null   object\n",
      " 10  Alternative Title         4926 non-null   object\n",
      " 11  First Publication         3711 non-null   object\n",
      " 12  Name Translations         403 non-null    object\n",
      " 13  Name Aliases              305 non-null    object\n",
      " 14  Authorities               377 non-null    object\n",
      " 15  Year/Date of Composition  1720 non-null   object\n",
      " 16  Dedication                1883 non-null   object\n",
      " 17  Average Duration          455 non-null    object\n",
      " 18  Copyright Information     185 non-null    object\n",
      " 19  Language                  24 non-null     object\n",
      " 20  Librettist                9 non-null      object\n",
      "dtypes: object(21)\n",
      "memory usage: 846.7+ KB\n"
     ]
    }
   ],
   "source": [
    "# create a dataframe from the dictionary\n",
    "df_100 = pd.DataFrame.from_dict(info_100, orient='index')\n",
    "df_100.info()\n",
    "\n",
    "# save the dataframe to a csv file\n",
    "df_100.to_csv('/home/ctang/ttmp/MMCSR/100_way_metadata.csv')"
   ]
  }
 ],
 "metadata": {
  "kernelspec": {
   "display_name": "Python 3 (ipykernel)",
   "language": "python",
   "name": "python3"
  },
  "language_info": {
   "codemirror_mode": {
    "name": "ipython",
    "version": 3
   },
   "file_extension": ".py",
   "mimetype": "text/x-python",
   "name": "python",
   "nbconvert_exporter": "python",
   "pygments_lexer": "ipython3",
   "version": "3.1.0"
  }
 },
 "nbformat": 4,
 "nbformat_minor": 5
}
