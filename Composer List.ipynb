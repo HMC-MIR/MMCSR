{
 "cells": [
  {
   "cell_type": "code",
   "execution_count": 6,
   "metadata": {},
   "outputs": [],
   "source": [
    "import lxml.html\n",
    "import urllib\n",
    "import requests\n",
    "from urllib.request import urlopen\n",
    "from urllib.parse import urljoin\n",
    "#from urlparse import urljoin\n",
    "import http.cookiejar\n",
    "#import cookielib\n",
    "from bs4 import BeautifulSoup as bsoup\n",
    "import re\n",
    "import os\n",
    "\n",
    "def count_score_num():\n",
    "    count = 0\n",
    "    for url in open('top50composer.txt'):\n",
    "        parent = 'results/composer/'+url[31:-1]\n",
    "        piecetxt = os.path.join(parent,'pieces.txt')\n",
    "        try:\n",
    "            score_links = open(piecetxt)\n",
    "            for url in score_links:\n",
    "                    piecename = url[22:url.find('(')]\n",
    "                    path = os.path.join(parent, piecename)\n",
    "                    completeName = os.path.join(path, \"html.txt\")     \n",
    "                    try:\n",
    "                        text = open(completeName, \"r\")\n",
    "                        soup = bsoup(text.read(), \"html.parser\")\n",
    "                        # get ID\n",
    "                        result = soup.find_all('span', class_='we_file_info2')\n",
    "                        for i in range(0, len(result)):\n",
    "                            if 'pdf' in str(result[i]):\n",
    "                                count += 1\n",
    "                        print('till',piecename,':',count)\n",
    "                    except IOError:\n",
    "                        continue\n",
    "                        #print('html.txt not found')\n",
    "        except IOError:\n",
    "            continue\n",
    "            print('pieces.txt not found')\n",
    "\n",
    "\n",
    "\n",
    "count_score_num()"
   ]
  },
  {
   "cell_type": "code",
   "execution_count": null,
   "metadata": {},
   "outputs": [],
   "source": []
  }
 ],
 "metadata": {
  "kernelspec": {
   "display_name": "base",
   "language": "python",
   "name": "python3"
  },
  "language_info": {
   "codemirror_mode": {
    "name": "ipython",
    "version": 3
   },
   "file_extension": ".py",
   "mimetype": "text/x-python",
   "name": "python",
   "nbconvert_exporter": "python",
   "pygments_lexer": "ipython3",
   "version": "3.11.4"
  }
 },
 "nbformat": 4,
 "nbformat_minor": 2
}
