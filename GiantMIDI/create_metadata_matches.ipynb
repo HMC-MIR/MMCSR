{
 "cells": [
  {
   "cell_type": "code",
   "execution_count": 2,
   "metadata": {},
   "outputs": [],
   "source": [
    "import numpy as np\n",
    "import pandas as pd\n",
    "import os\n",
    "from urllib.parse import quote, unquote\n",
    "import pickle"
   ]
  },
  {
   "cell_type": "code",
   "execution_count": 20,
   "metadata": {},
   "outputs": [],
   "source": [
    "path = '/home/ctang/ttmp/MMCSR/GiantMIDI'\n",
    "file_path = path + '/full_music_pieces_youtube_similarity_pianosoloprob_split.csv'\n",
    "GiantMidi = pd.read_csv(file_path)"
   ]
  },
  {
   "cell_type": "code",
   "execution_count": 21,
   "metadata": {},
   "outputs": [],
   "source": [
    "GiantMidi = GiantMidi[['surname', 'firstname', 'music', 'audio_name']]"
   ]
  },
  {
   "cell_type": "code",
   "execution_count": 22,
   "metadata": {},
   "outputs": [
    {
     "data": {
      "text/html": [
       "<div>\n",
       "<style scoped>\n",
       "    .dataframe tbody tr th:only-of-type {\n",
       "        vertical-align: middle;\n",
       "    }\n",
       "\n",
       "    .dataframe tbody tr th {\n",
       "        vertical-align: top;\n",
       "    }\n",
       "\n",
       "    .dataframe thead th {\n",
       "        text-align: right;\n",
       "    }\n",
       "</style>\n",
       "<table border=\"1\" class=\"dataframe\">\n",
       "  <thead>\n",
       "    <tr style=\"text-align: right;\">\n",
       "      <th></th>\n",
       "      <th>surname</th>\n",
       "      <th>firstname</th>\n",
       "      <th>music</th>\n",
       "      <th>midi_path</th>\n",
       "    </tr>\n",
       "  </thead>\n",
       "  <tbody>\n",
       "    <tr>\n",
       "      <th>0</th>\n",
       "      <td>A.</td>\n",
       "      <td>Jag</td>\n",
       "      <td>Je t'aime Juliette</td>\n",
       "      <td>/home/ctang/ttmp/MMCSR/GiantMIDI/midis/A., Jag...</td>\n",
       "    </tr>\n",
       "    <tr>\n",
       "      <th>1</th>\n",
       "      <td>Aadler</td>\n",
       "      <td>C. A.</td>\n",
       "      <td>Floating Islands</td>\n",
       "      <td>NaN</td>\n",
       "    </tr>\n",
       "    <tr>\n",
       "      <th>2</th>\n",
       "      <td>Aagesen</td>\n",
       "      <td>Truid</td>\n",
       "      <td>Cantiones trium vocum</td>\n",
       "      <td>NaN</td>\n",
       "    </tr>\n",
       "    <tr>\n",
       "      <th>3</th>\n",
       "      <td>Aaron</td>\n",
       "      <td>Michael</td>\n",
       "      <td>Piano Course</td>\n",
       "      <td>/home/ctang/ttmp/MMCSR/GiantMIDI/midis/Aaron, ...</td>\n",
       "    </tr>\n",
       "    <tr>\n",
       "      <th>4</th>\n",
       "      <td>Aarons</td>\n",
       "      <td>Alfred E.</td>\n",
       "      <td>Brother Bill</td>\n",
       "      <td>/home/ctang/ttmp/MMCSR/GiantMIDI/midis/Aarons,...</td>\n",
       "    </tr>\n",
       "  </tbody>\n",
       "</table>\n",
       "</div>"
      ],
      "text/plain": [
       "   surname  firstname                  music  \\\n",
       "0       A.        Jag     Je t'aime Juliette   \n",
       "1   Aadler      C. A.       Floating Islands   \n",
       "2  Aagesen      Truid  Cantiones trium vocum   \n",
       "3    Aaron    Michael           Piano Course   \n",
       "4   Aarons  Alfred E.           Brother Bill   \n",
       "\n",
       "                                           midi_path  \n",
       "0  /home/ctang/ttmp/MMCSR/GiantMIDI/midis/A., Jag...  \n",
       "1                                                NaN  \n",
       "2                                                NaN  \n",
       "3  /home/ctang/ttmp/MMCSR/GiantMIDI/midis/Aaron, ...  \n",
       "4  /home/ctang/ttmp/MMCSR/GiantMIDI/midis/Aarons,...  "
      ]
     },
     "execution_count": 22,
     "metadata": {},
     "output_type": "execute_result"
    }
   ],
   "source": [
    "GiantMidi['midi_path'] = ''\n",
    "GiantMidi['midi_path'] = '/home/ctang/ttmp/MMCSR/GiantMIDI/midis/' + GiantMidi['audio_name'] + '.mid'\n",
    "GiantMidi.drop(columns=['audio_name'], inplace=True)\n",
    "GiantMidi.head()"
   ]
  },
  {
   "cell_type": "code",
   "execution_count": 23,
   "metadata": {},
   "outputs": [],
   "source": [
    "with open('/home/ctang/ttmp/MMCSR/pretraining_metadata/all_metadata.pkl', 'rb') as f:\n",
    "    all_metadata = pickle.load(f)"
   ]
  },
  {
   "cell_type": "code",
   "execution_count": 24,
   "metadata": {},
   "outputs": [],
   "source": [
    "GiantMidi['metadata'] = False"
   ]
  },
  {
   "cell_type": "code",
   "execution_count": 25,
   "metadata": {},
   "outputs": [],
   "source": [
    "for row in GiantMidi.itertuples():\n",
    "    surname = row.surname\n",
    "    firstname = row.firstname\n",
    "    title = row.music\n",
    "    midi_path = row.midi_path\n",
    "    composer = unquote(surname + ', ' + firstname)\n",
    "    if ',' in title and any(char.isdigit() for char in title):\n",
    "        title = \",\".join(title.split(\",\")[:-1])\n",
    "    title = unquote(title)\n",
    "    if composer in all_metadata and title in all_metadata[composer]:\n",
    "        GiantMidi.at[row.Index, 'metadata'] = True"
   ]
  },
  {
   "cell_type": "code",
   "execution_count": 26,
   "metadata": {},
   "outputs": [],
   "source": [
    "GiantMidi = GiantMidi[GiantMidi['metadata'] == True]"
   ]
  },
  {
   "cell_type": "code",
   "execution_count": 27,
   "metadata": {},
   "outputs": [],
   "source": [
    "copy = GiantMidi.copy()\n",
    "\n",
    "# drop duplicates\n",
    "copy.drop_duplicates(subset=['surname', 'firstname', 'music'], inplace=True)"
   ]
  },
  {
   "cell_type": "code",
   "execution_count": 29,
   "metadata": {},
   "outputs": [],
   "source": [
    "# drop rows where midi_path is nan\n",
    "copy.dropna(subset=['midi_path'], inplace=True)\n",
    "copy.reset_index(drop=True, inplace=True)"
   ]
  },
  {
   "cell_type": "code",
   "execution_count": 31,
   "metadata": {},
   "outputs": [],
   "source": [
    "# remove my personal information from midi_path\n",
    "copy['midi_path'] = copy['midi_path'].apply(lambda x: x.replace('/home/ctang/ttmp/MMCSR/', '../'))"
   ]
  },
  {
   "cell_type": "code",
   "execution_count": 33,
   "metadata": {},
   "outputs": [],
   "source": [
    "# change music to title\n",
    "copy.rename(columns={'music': 'title'}, inplace=True)\n",
    "\n",
    "# add composer name column\n",
    "copy['composer'] = copy['surname'] + ', ' + copy['firstname']"
   ]
  },
  {
   "cell_type": "code",
   "execution_count": 34,
   "metadata": {},
   "outputs": [],
   "source": [
    "# drop surname, firstname, and metadata columns\n",
    "copy.drop(columns=['surname', 'firstname', 'metadata'], inplace=True)"
   ]
  },
  {
   "cell_type": "code",
   "execution_count": 37,
   "metadata": {},
   "outputs": [],
   "source": [
    "# save to csv\n",
    "copy.to_csv('/home/ctang/ttmp/MMCSR/GiantMIDI/GiantMidi.csv', index=False)"
   ]
  }
 ],
 "metadata": {
  "kernelspec": {
   "display_name": "baselines",
   "language": "python",
   "name": "python3"
  },
  "language_info": {
   "codemirror_mode": {
    "name": "ipython",
    "version": 3
   },
   "file_extension": ".py",
   "mimetype": "text/x-python",
   "name": "python",
   "nbconvert_exporter": "python",
   "pygments_lexer": "ipython3",
   "version": "3.11.5"
  }
 },
 "nbformat": 4,
 "nbformat_minor": 2
}
