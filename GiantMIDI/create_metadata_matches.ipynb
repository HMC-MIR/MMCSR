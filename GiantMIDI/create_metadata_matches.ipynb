{
 "cells": [
  {
   "cell_type": "code",
   "execution_count": 95,
   "metadata": {},
   "outputs": [],
   "source": [
    "import numpy as np\n",
    "import pandas as pd\n",
    "import os\n",
    "from urllib.parse import quote, unquote\n",
    "import pickle"
   ]
  },
  {
   "cell_type": "code",
   "execution_count": 96,
   "metadata": {},
   "outputs": [],
   "source": [
    "path = '/home/ctang/ttmp/MMCSR/GiantMIDI'\n",
    "file_path = path + '/full_music_pieces_youtube_similarity_pianosoloprob_split.csv'\n",
    "GiantMidi = pd.read_csv(file_path)\n",
    "bootleg_score_path = '/mnt/data0/Datasets/imslp_bootleg_scores'"
   ]
  },
  {
   "cell_type": "code",
   "execution_count": 97,
   "metadata": {},
   "outputs": [
    {
     "data": {
      "text/html": [
       "<div>\n",
       "<style scoped>\n",
       "    .dataframe tbody tr th:only-of-type {\n",
       "        vertical-align: middle;\n",
       "    }\n",
       "\n",
       "    .dataframe tbody tr th {\n",
       "        vertical-align: top;\n",
       "    }\n",
       "\n",
       "    .dataframe thead th {\n",
       "        text-align: right;\n",
       "    }\n",
       "</style>\n",
       "<table border=\"1\" class=\"dataframe\">\n",
       "  <thead>\n",
       "    <tr style=\"text-align: right;\">\n",
       "      <th></th>\n",
       "      <th>composer</th>\n",
       "      <th>music</th>\n",
       "      <th>midi_path</th>\n",
       "      <th>metadata</th>\n",
       "      <th>metadata_composer</th>\n",
       "      <th>metadata_title</th>\n",
       "      <th>imslp_url</th>\n",
       "      <th>bootleg_score_path</th>\n",
       "    </tr>\n",
       "  </thead>\n",
       "  <tbody>\n",
       "    <tr>\n",
       "      <th>0</th>\n",
       "      <td>A., Jag</td>\n",
       "      <td>Je t'aime Juliette</td>\n",
       "      <td>/home/ctang/ttmp/MMCSR/GiantMIDI/midis/A., Jag...</td>\n",
       "      <td>False</td>\n",
       "      <td></td>\n",
       "      <td></td>\n",
       "      <td></td>\n",
       "      <td>NaN</td>\n",
       "    </tr>\n",
       "    <tr>\n",
       "      <th>3</th>\n",
       "      <td>Aaron, Michael</td>\n",
       "      <td>Piano Course</td>\n",
       "      <td>/home/ctang/ttmp/MMCSR/GiantMIDI/midis/Aaron, ...</td>\n",
       "      <td>False</td>\n",
       "      <td></td>\n",
       "      <td></td>\n",
       "      <td></td>\n",
       "      <td>NaN</td>\n",
       "    </tr>\n",
       "    <tr>\n",
       "      <th>84</th>\n",
       "      <td>Abel, Frederic</td>\n",
       "      <td>Lola Polka</td>\n",
       "      <td>/home/ctang/ttmp/MMCSR/GiantMIDI/midis/Abel, F...</td>\n",
       "      <td>False</td>\n",
       "      <td></td>\n",
       "      <td></td>\n",
       "      <td></td>\n",
       "      <td>NaN</td>\n",
       "    </tr>\n",
       "    <tr>\n",
       "      <th>140</th>\n",
       "      <td>Abramowitsch, A.</td>\n",
       "      <td>3 Nocturnes</td>\n",
       "      <td>/home/ctang/ttmp/MMCSR/GiantMIDI/midis/Abramow...</td>\n",
       "      <td>False</td>\n",
       "      <td></td>\n",
       "      <td></td>\n",
       "      <td></td>\n",
       "      <td>NaN</td>\n",
       "    </tr>\n",
       "    <tr>\n",
       "      <th>161</th>\n",
       "      <td>Abreu, Zequinha</td>\n",
       "      <td>Tico-Tico no fubá</td>\n",
       "      <td>/home/ctang/ttmp/MMCSR/GiantMIDI/midis/Abreu, ...</td>\n",
       "      <td>False</td>\n",
       "      <td></td>\n",
       "      <td></td>\n",
       "      <td></td>\n",
       "      <td>NaN</td>\n",
       "    </tr>\n",
       "  </tbody>\n",
       "</table>\n",
       "</div>"
      ],
      "text/plain": [
       "             composer               music  \\\n",
       "0             A., Jag  Je t'aime Juliette   \n",
       "3      Aaron, Michael        Piano Course   \n",
       "84     Abel, Frederic          Lola Polka   \n",
       "140  Abramowitsch, A.         3 Nocturnes   \n",
       "161   Abreu, Zequinha   Tico-Tico no fubá   \n",
       "\n",
       "                                             midi_path  metadata  \\\n",
       "0    /home/ctang/ttmp/MMCSR/GiantMIDI/midis/A., Jag...     False   \n",
       "3    /home/ctang/ttmp/MMCSR/GiantMIDI/midis/Aaron, ...     False   \n",
       "84   /home/ctang/ttmp/MMCSR/GiantMIDI/midis/Abel, F...     False   \n",
       "140  /home/ctang/ttmp/MMCSR/GiantMIDI/midis/Abramow...     False   \n",
       "161  /home/ctang/ttmp/MMCSR/GiantMIDI/midis/Abreu, ...     False   \n",
       "\n",
       "    metadata_composer metadata_title imslp_url  bootleg_score_path  \n",
       "0                                                              NaN  \n",
       "3                                                              NaN  \n",
       "84                                                             NaN  \n",
       "140                                                            NaN  \n",
       "161                                                            NaN  "
      ]
     },
     "execution_count": 97,
     "metadata": {},
     "output_type": "execute_result"
    }
   ],
   "source": [
    "GiantMidi = GiantMidi[GiantMidi['giant_midi_piano'] == 1.0]\n",
    "GiantMidi['composer'] = GiantMidi['surname'] + ', ' + GiantMidi['firstname']\n",
    "GiantMidi = GiantMidi[['composer', 'music', 'audio_name']]\n",
    "GiantMidi['midi_path'] = ''\n",
    "GiantMidi['midi_path'] = '/home/ctang/ttmp/MMCSR/GiantMIDI/midis/' + GiantMidi['audio_name'] + '.mid'\n",
    "GiantMidi.drop(columns=['audio_name'], inplace=True)\n",
    "GiantMidi['metadata'] = False\n",
    "GiantMidi['metadata_composer'] = ''\n",
    "GiantMidi['metadata_title'] = ''\n",
    "GiantMidi['imslp_url'] = ''\n",
    "GiantMidi['bootleg_score_path'] = np.nan\n",
    "GiantMidi.head()"
   ]
  },
  {
   "cell_type": "code",
   "execution_count": 98,
   "metadata": {},
   "outputs": [],
   "source": [
    "with open('/home/ctang/ttmp/MMCSR/pretraining_metadata/all_metadata.pkl', 'rb') as f:\n",
    "    all_metadata = pickle.load(f)"
   ]
  },
  {
   "cell_type": "code",
   "execution_count": 100,
   "metadata": {},
   "outputs": [],
   "source": [
    "for row in GiantMidi.itertuples():\n",
    "    title = row.music\n",
    "    title1 = title\n",
    "    midi_path = row.midi_path\n",
    "    composer = unquote(row.composer)\n",
    "    if ',' in title and any(char.isdigit() for char in title):\n",
    "        title1 = \",\".join(title.split(\",\")[:-1])\n",
    "    title, title1 = unquote(title), unquote(title1)\n",
    "    composer_lower = composer.lower()\n",
    "    title_lower = title.lower()\n",
    "    title1_lower = title1.lower()\n",
    "    \n",
    "    bootleg_score_path_1 = os.path.join(bootleg_score_path, composer, title).replace(' ', '_') + '_'\n",
    "    if os.path.exists(bootleg_score_path_1):\n",
    "        GiantMidi.at[row.Index, 'metadata'] = True\n",
    "        GiantMidi.at[row.Index, 'metadata_composer'] = composer\n",
    "        GiantMidi.at[row.Index, 'metadata_title'] = title\n",
    "        GiantMidi.at[row.Index, 'bootleg_score_path'] = bootleg_score_path_1\n",
    "\n",
    "    if composer_lower in (comp.lower() for comp in all_metadata):\n",
    "        composer_actual = next(comp for comp in all_metadata if comp.lower() == composer_lower)\n",
    "        titles = all_metadata[composer_actual]\n",
    "        \n",
    "        if (title_lower in (t.lower() for t in titles) or \n",
    "            any(title1_lower in t.lower() for t in titles) or\n",
    "            any(t.lower() in title_lower for t in titles)):\n",
    "            \n",
    "            GiantMidi.at[row.Index, 'metadata'] = True\n",
    "            GiantMidi.at[row.Index, 'metadata_composer'] = composer\n",
    "            \n",
    "            if title_lower in (t.lower() for t in titles):\n",
    "                GiantMidi.at[row.Index, 'metadata_title'] = title\n",
    "            else:\n",
    "                matching_title = next(t for t in titles if title1_lower in t.lower() or t.lower() in title_lower)\n",
    "                GiantMidi.at[row.Index, 'metadata_title'] = matching_title\n",
    "               \n",
    "            try: \n",
    "                GiantMidi.at[row.Index, 'imslp_url'] = all_metadata[composer_actual][GiantMidi.at[row.Index, 'metadata_title']]['url']\n",
    "                \n",
    "                my_bootleg_score_path = os.path.join(bootleg_score_path, composer, GiantMidi.at[row.Index, 'metadata_title'])\n",
    "                # replace spaces with underscores\n",
    "                my_bootleg_score_path = my_bootleg_score_path.replace(' ', '_') + '_'\n",
    "                # check if the bootleg score exists\n",
    "                if os.path.exists(bootleg_score_path):\n",
    "                    GiantMidi.at[row.Index, 'bootleg_score_path'] = my_bootleg_score_path\n",
    "                    \n",
    "            except:\n",
    "                pass"
   ]
  },
  {
   "cell_type": "code",
   "execution_count": 101,
   "metadata": {},
   "outputs": [
    {
     "data": {
      "text/plain": [
       "7321"
      ]
     },
     "execution_count": 101,
     "metadata": {},
     "output_type": "execute_result"
    }
   ],
   "source": [
    "GiantMidi['bootleg_score_path'].notnull().sum()"
   ]
  },
  {
   "cell_type": "code",
   "execution_count": 102,
   "metadata": {},
   "outputs": [],
   "source": [
    "# if midi_path is not nan, set has_midi to be true\n",
    "GiantMidi['has_midi'] = GiantMidi['midi_path'].notnull()"
   ]
  },
  {
   "cell_type": "code",
   "execution_count": 103,
   "metadata": {},
   "outputs": [
    {
     "data": {
      "text/plain": [
       "has_midi  metadata\n",
       "True      False       3435\n",
       "          True        7413\n",
       "dtype: int64"
      ]
     },
     "execution_count": 103,
     "metadata": {},
     "output_type": "execute_result"
    }
   ],
   "source": [
    "GiantMidi.drop_duplicates(subset=['composer', 'music'], inplace=True)\n",
    "GiantMidi.groupby(['has_midi', 'metadata']).size()"
   ]
  },
  {
   "cell_type": "code",
   "execution_count": 104,
   "metadata": {},
   "outputs": [],
   "source": [
    "Midi = GiantMidi[GiantMidi['has_midi']]\n",
    "Midi = Midi.reset_index(drop=True)\n",
    "Check = Midi[~Midi['metadata']].reset_index(drop=True)"
   ]
  },
  {
   "cell_type": "code",
   "execution_count": 107,
   "metadata": {},
   "outputs": [],
   "source": [
    "# remove my personal information from midi_path\n",
    "Midi['midi_path'] = Midi['midi_path'].apply(lambda x: x.replace('/home/ctang/ttmp/MMCSR/', '../'))"
   ]
  },
  {
   "cell_type": "code",
   "execution_count": 114,
   "metadata": {},
   "outputs": [
    {
     "name": "stdout",
     "output_type": "stream",
     "text": [
      "<class 'pandas.core.frame.DataFrame'>\n",
      "RangeIndex: 10848 entries, 0 to 10847\n",
      "Data columns (total 7 columns):\n",
      " #   Column              Non-Null Count  Dtype \n",
      "---  ------              --------------  ----- \n",
      " 0   composer            10848 non-null  object\n",
      " 1   title               10848 non-null  object\n",
      " 2   midi_path           10848 non-null  object\n",
      " 3   metadata            10848 non-null  bool  \n",
      " 4   metadata_composer   10848 non-null  object\n",
      " 5   metadata_title      10848 non-null  object\n",
      " 6   bootleg_score_path  7321 non-null   object\n",
      "dtypes: bool(1), object(6)\n",
      "memory usage: 519.2+ KB\n"
     ]
    }
   ],
   "source": [
    "Midi.drop(columns=['has_midi', 'imslp_url'], inplace=True)\n",
    "# rename music to be title\n",
    "Midi.rename(columns={'music': 'title'}, inplace=True)"
   ]
  },
  {
   "cell_type": "code",
   "execution_count": 115,
   "metadata": {},
   "outputs": [],
   "source": [
    "# save midi to disk\n",
    "Midi.to_csv('/home/ctang/ttmp/MMCSR/GiantMIDI/GiantMidi_match.csv', index=False)"
   ]
  },
  {
   "cell_type": "markdown",
   "metadata": {},
   "source": [
    "Reasons for not being included:\n",
    "\n",
    "Among things I inspected, a quarter are not in IMSLP, the others aren't included because:\n",
    "\n",
    "1. organ pieces and 4-hand piano pieces are included in solo piano, as are some random choral and orchestral pieces; (half)\n",
    "2. some piece names are in other languages; (1/10)\n",
    "4. the metadata file doesn't contain the piece - basically no mozart, haydn, liszt, schubert pieces were included (need to look into why) (2/5)\n",
    "        [update: the solo piano metadata file is missing ~900 pieces]\n",
    "5. giantmidi has spelling errors (a few)\n",
    "\n",
    "---\n",
    "\n",
    "Fixed issues:\n",
    "\n",
    "1. case sensitive (fixed)\n",
    "2. contains extra opus numbers (fixed)"
   ]
  }
 ],
 "metadata": {
  "kernelspec": {
   "display_name": "baselines",
   "language": "python",
   "name": "python3"
  },
  "language_info": {
   "codemirror_mode": {
    "name": "ipython",
    "version": 3
   },
   "file_extension": ".py",
   "mimetype": "text/x-python",
   "name": "python",
   "nbconvert_exporter": "python",
   "pygments_lexer": "ipython3",
   "version": "3.11.5"
  }
 },
 "nbformat": 4,
 "nbformat_minor": 2
}
