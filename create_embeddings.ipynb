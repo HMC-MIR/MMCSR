{
 "cells": [
  {
   "cell_type": "code",
   "execution_count": 1,
   "metadata": {},
   "outputs": [],
   "source": [
    "# load txt file\n",
    "with open('/home/ctang/ttmp/MMCSR/dataset_metadata/100_way_metadata.txt', 'r') as f:\n",
    "    metadata = f.readlines()\n",
    "metadata = [x.strip() for x in metadata]"
   ]
  },
  {
   "cell_type": "code",
   "execution_count": 13,
   "metadata": {},
   "outputs": [],
   "source": [
    "embeddings = np.array([])"
   ]
  },
  {
   "cell_type": "code",
   "execution_count": 14,
   "metadata": {},
   "outputs": [
    {
     "name": "stderr",
     "output_type": "stream",
     "text": [
      "100%|██████████| 2783/2783 [09:41<00:00,  4.79it/s]\n"
     ]
    }
   ],
   "source": [
    "from typing import Dict\n",
    "\n",
    "import torch\n",
    "import pickle\n",
    "import numpy as np\n",
    "from transformers import AutoModel, AutoTokenizer\n",
    "from tqdm import tqdm\n",
    "# from sentence_transformers.util import cos_sim\n",
    "\n",
    "# For retrieval you need to pass this prompt. Please find our more in our blog post.\n",
    "def transform_query(query: str) -> str:\n",
    "    \"\"\" For retrieval, add the prompt for query (not for documents).\n",
    "    \"\"\"\n",
    "    return f'Represent this sentence for searching relevant passages: {query}'\n",
    "\n",
    "# The model works really well with cls pooling (default) but also with mean pooling.\n",
    "def pooling(outputs: torch.Tensor, inputs: Dict,  strategy: str = 'cls') -> np.ndarray:\n",
    "    if strategy == 'cls':\n",
    "        outputs = outputs[:, 0]\n",
    "    elif strategy == 'mean':\n",
    "        outputs = torch.sum(\n",
    "            outputs * inputs[\"attention_mask\"][:, :, None], dim=1) / torch.sum(inputs[\"attention_mask\"])\n",
    "    else:\n",
    "        raise NotImplementedError\n",
    "    return outputs.detach().cpu().numpy()\n",
    "\n",
    "# 1. load model\n",
    "model_id = 'mixedbread-ai/mxbai-embed-large-v1'\n",
    "tokenizer = AutoTokenizer.from_pretrained(model_id)\n",
    "model = AutoModel.from_pretrained(model_id)\n",
    "\n",
    "\n",
    "# encode in batches with tqdm\n",
    "\n",
    "batch_size = 2\n",
    "for i in tqdm(range(0, len(metadata), batch_size)):\n",
    "    docs = metadata[i:i+batch_size]\n",
    "    inputs = tokenizer(docs, padding=True, return_tensors='pt')\n",
    "    for k, v in inputs.items():\n",
    "        inputs[k] = v.to(model.device)\n",
    "    outputs = model(**inputs).last_hidden_state\n",
    "    new_embeddings = pooling(outputs, inputs, 'cls')\n",
    "    embeddings = np.vstack([embeddings, new_embeddings]) if embeddings.size else new_embeddings"
   ]
  },
  {
   "cell_type": "code",
   "execution_count": 15,
   "metadata": {},
   "outputs": [],
   "source": [
    "# save embeddings\n",
    "with open('/home/ctang/ttmp/MMCSR/dataset_metadata/100_way_metadata_embeddings.pkl', 'wb') as f:\n",
    "    pickle.dump(embeddings, f)"
   ]
  },
  {
   "cell_type": "code",
   "execution_count": null,
   "metadata": {},
   "outputs": [],
   "source": []
  }
 ],
 "metadata": {
  "kernelspec": {
   "display_name": "baselines",
   "language": "python",
   "name": "python3"
  },
  "language_info": {
   "codemirror_mode": {
    "name": "ipython",
    "version": 3
   },
   "file_extension": ".py",
   "mimetype": "text/x-python",
   "name": "python",
   "nbconvert_exporter": "python",
   "pygments_lexer": "ipython3",
   "version": "3.11.5"
  }
 },
 "nbformat": 4,
 "nbformat_minor": 2
}
