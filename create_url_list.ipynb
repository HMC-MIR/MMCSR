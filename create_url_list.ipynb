{
 "cells": [
  {
   "cell_type": "code",
   "execution_count": 1,
   "metadata": {},
   "outputs": [],
   "source": [
    "from bs4 import BeautifulSoup\n",
    "import requests"
   ]
  },
  {
   "cell_type": "code",
   "execution_count": null,
   "metadata": {},
   "outputs": [],
   "source": [
    "# get links in 9 way dataset\n",
    "with open('9_way_list-Copy1.txt', 'r') as file:\n",
    "    composers_9 = file.readlines()\n",
    "\n",
    "composers_9 = ['https://imslp.org/wiki/Category:' + composer[:-1] for composer in composers_9]\n",
    "print(composers_9)"
   ]
  },
  {
   "cell_type": "code",
   "execution_count": null,
   "metadata": {},
   "outputs": [],
   "source": [
    "# get links in 100 way dataset\n",
    "with open('100_way_list-Copy1.txt', 'r') as file:\n",
    "    composers_100 = file.readlines()\n",
    "\n",
    "composers_100 = ['https://imslp.org/wiki/Category:' + composer[:-1] for composer in composers_100]\n",
    "print(composers_100)"
   ]
  },
  {
   "cell_type": "code",
   "execution_count": null,
   "metadata": {},
   "outputs": [],
   "source": [
    "# code the previous team uses to find all the urls for a composer\n",
    "\n",
    "def find_score_url(url):\n",
    "    \"\"\"\n",
    "    This function takes in one arguments:\n",
    "    1) url, a composer url page to parse\n",
    "    This function returns a list of piece url for a specific composer.\n",
    "    \"\"\"\n",
    "    list_page = [url]\n",
    "    r = requests.get(url)\n",
    "    soup = BeautifulSoup(r.text, \"html.parser\")\n",
    "    # add everything on the first page to the list\n",
    "    result = soup.find_all('div', class_=\"jq-ui-tabs\" )\n",
    "    if result == []:\n",
    "        return \"badlink\"\n",
    "    scores = result[0].find_all('a',class_='categorypagelink')\n",
    "    url_list = [link.get('href') for link in scores]\n",
    "    # check sub-page\n",
    "    list_page = find_next_score_url(url)\n",
    "    if list_page != []:\n",
    "        for page in list_page:\n",
    "            r = requests.get(page)\n",
    "            soup = BeautifulSoup(r.text, \"html.parser\")\n",
    "            url_list += [link.get('href') for link in soup.find_all('a',class_='categorypagelink')]\n",
    "    return url_list\n",
    "\n",
    "def find_next_score_url(url):\n",
    "    \"\"\"\n",
    "    Helper function for find_score_url\n",
    "    \"\"\"\n",
    "    result = []\n",
    "    while True:\n",
    "        r = requests.get(url)\n",
    "        soup = BeautifulSoup(r.text, \"html.parser\")\n",
    "        url_list = [link.get('href') for link in soup.find_all('a',class_='categorypaginglink',string='next 200')]\n",
    "        if url_list == []:\n",
    "            break\n",
    "        url = 'http://imslp.org' + url_list[-1]\n",
    "        result.append(url)\n",
    "    return result"
   ]
  },
  {
   "cell_type": "code",
   "execution_count": null,
   "metadata": {},
   "outputs": [],
   "source": [
    "urls_9 = []\n",
    "for composer in composers_9:\n",
    "    urls_9+= find_score_url(composer)\n",
    "\n",
    "urls_9 = ['https://imslp.org' + s for s in urls_9]"
   ]
  },
  {
   "cell_type": "code",
   "execution_count": null,
   "metadata": {},
   "outputs": [],
   "source": [
    "urls_100 = []\n",
    "for composer in composers_100:\n",
    "    urls_100 += find_score_url(composer)\n",
    "\n",
    "urls_100 = ['https://imslp.org' + s for s in urls_100]"
   ]
  },
  {
   "cell_type": "code",
   "execution_count": null,
   "metadata": {},
   "outputs": [],
   "source": [
    "def save_list_to_file(lst, filename):\n",
    "    with open(filename, 'w') as f:\n",
    "        for item in lst:\n",
    "            f.write(str(item) + '\\n')\n",
    "        \n",
    "# create file for all urls from 9-way composers\n",
    "save_list_to_file(urls_9, '9_way_urls_for_all_scores.txt')\n",
    "\n",
    "# create file for all urls from 100-way composers\n",
    "save_list_to_file(urls_100, '100_way_urls_for_all_scores.txt')"
   ]
  }
 ],
 "metadata": {
  "kernelspec": {
   "display_name": "base",
   "language": "python",
   "name": "python3"
  },
  "language_info": {
   "codemirror_mode": {
    "name": "ipython",
    "version": 3
   },
   "file_extension": ".py",
   "mimetype": "text/x-python",
   "name": "python",
   "nbconvert_exporter": "python",
   "pygments_lexer": "ipython3",
   "version": "3.11.4"
  }
 },
 "nbformat": 4,
 "nbformat_minor": 2
}
