{
 "cells": [
  {
   "cell_type": "code",
   "execution_count": 34,
   "metadata": {},
   "outputs": [],
   "source": [
    "import numpy as np\n",
    "import pandas as pd\n",
    "import os\n",
    "from urllib.parse import unquote"
   ]
  },
  {
   "cell_type": "code",
   "execution_count": 104,
   "metadata": {},
   "outputs": [],
   "source": [
    "path = '/home/ctang/ttmp/MMCSR/GiantMIDI'\n",
    "file_path = path + '/full_music_pieces_youtube_similarity_pianosoloprob_split.csv'\n",
    "GiantMidi = pd.read_csv(file_path)"
   ]
  },
  {
   "cell_type": "code",
   "execution_count": 105,
   "metadata": {},
   "outputs": [],
   "source": [
    "# keep only relevant columns\n",
    "\n",
    "GiantMidi = GiantMidi[['surname', 'firstname', 'music']]\n",
    "\n",
    "# create new empty columns called 'midi_path' and 'bootleg_path'\n",
    "\n",
    "GiantMidi['midi_path'] = ''\n",
    "GiantMidi['bootleg_path'] = ''"
   ]
  },
  {
   "cell_type": "code",
   "execution_count": 108,
   "metadata": {},
   "outputs": [],
   "source": [
    "# drop duplicate music with the same surname and firstname\n",
    "\n",
    "GiantMidi = GiantMidi.drop_duplicates(subset=['surname', 'firstname', 'music'])"
   ]
  },
  {
   "cell_type": "code",
   "execution_count": 118,
   "metadata": {},
   "outputs": [],
   "source": [
    "GiantMidi_copy = GiantMidi.copy()"
   ]
  },
  {
   "cell_type": "code",
   "execution_count": 111,
   "metadata": {},
   "outputs": [],
   "source": [
    "midi_path = path + '/midis'\n",
    "\n",
    "# for each row in GiantMidi, check if the midi file exists in the midi_path. If yes, add the path to the midi file to the dataframe\n",
    "\n",
    "for row in GiantMidi.itertuples():\n",
    "    header = str(row.surname) + ', ' + str(row.firstname) + ', ' + str(row.music)\n",
    "    \n",
    "    # check if the midi file starting with the header exists in the midi_path\n",
    "    for file in os.listdir(midi_path):\n",
    "        if file.startswith(header):\n",
    "            GiantMidi.at[row.Index, 'midi_path'] = midi_path + '/' + file\n",
    "            break"
   ]
  },
  {
   "cell_type": "code",
   "execution_count": 119,
   "metadata": {},
   "outputs": [],
   "source": [
    "GiantMidi = GiantMidi[GiantMidi['midi_path'] != '']\n",
    "GiantMidi = GiantMidi.reset_index(drop=True)"
   ]
  },
  {
   "cell_type": "code",
   "execution_count": null,
   "metadata": {},
   "outputs": [],
   "source": [
    "GiantMidi.to_csv(path + '/GiantMidi.csv', index=False)"
   ]
  },
  {
   "cell_type": "code",
   "execution_count": 84,
   "metadata": {},
   "outputs": [],
   "source": [
    "# Define the directory path\n",
    "directory_path = \"/mnt/data0/Datasets/imslp/score_scrape/results/composer\"\n",
    "\n",
    "# Change the current working directory\n",
    "os.chdir(directory_path)\n",
    "\n",
    "# find all the folders in the directory path, but only the first level\n",
    "composer_folders = [f for f in os.listdir(directory_path) if os.path.isdir(os.path.join(directory_path, f))]\n",
    "\n",
    "# find all subfolders in the composer folders and create dictionary\n",
    "composer_subfolders = {}\n",
    "for composer in composer_folders:\n",
    "    composer_subfolders[composer] = [f for f in os.listdir(os.path.join(directory_path, composer)) if os.path.isdir(os.path.join(directory_path, composer, f))]"
   ]
  },
  {
   "cell_type": "code",
   "execution_count": 74,
   "metadata": {},
   "outputs": [
    {
     "name": "stdout",
     "output_type": "stream",
     "text": [
      "{'Piano_Trio,_Op.8_': 'Piano Trio', 'Waltz_in_E-flat_major,_B.133_': 'Waltz in E-flat major', 'Waltz_in_E_major,_B.44_': 'Waltz in E major', 'Grande_fantaisie_sur_des_airs_polonais,_Op.13_': 'Grande fantaisie sur des airs polonais', 'Nocturnes,_Op.55_': 'Nocturnes', 'Waltz_in_A-flat_major,_B.21_': 'Waltz in A-flat major', 'Allegro_de_concert,_Op.46_': 'Allegro de concert', 'Variations_for_Flute_and_Piano_in_E_major,_B.9_': 'Variations for Flute and Piano in E major', 'Grande_valse_brillante,_Op.18_': 'Grande valse brillante', 'Waltzes,_Op.64_': 'Waltzes', 'Mazurkas,_Op.56_': 'Mazurkas', 'Polonaises,_Op.71_': 'Polonaises', 'Mazurkas,_Op.41_': 'Mazurkas', 'Ballade_No.2,_Op.38_': 'Ballade No.2', 'Scherzo_No.2,_Op.31_': 'Scherzo No.2', 'Fantaisie-impromptu,_Op.66_': 'Fantaisie-impromptu', 'Polonaise-fantaisie,_Op.61_': 'Polonaise-fantaisie', 'Moderato_in_E_major,_B.151_': 'Moderato in E major', 'Piano_Concerto_No.2,_Op.21_': 'Piano Concerto No.2', 'Mazurka_in_A_minor,_B.134_': 'Mazurka in A minor', '3_Ecossaises,_Op.72_No.3_': '3 Ecossaises', 'Polonaise_in_F-sharp_minor,_Op.44_': 'Polonaise in F-sharp minor', 'Mazurkas,_Op.6_': 'Mazurkas', 'Introduction_et_polonaise_brillante,_Op.3_': 'Introduction et polonaise brillante', 'Mazurka_in_F-sharp_major_': 'Mazurka in F-sharp major ', 'Largo_in_E-flat_major,_B.109_': 'Largo in E-flat major', 'Mazurka_in_C_major,_B.82_': 'Mazurka in C major', 'Impromptu_No.1,_Op.29_': 'Impromptu No.1', 'Mazurka_in_D_major,_B.71_': 'Mazurka in D major', 'Polonaises,_Op.26_': 'Polonaises', 'Bolero,_Op.19_': 'Bolero', 'Nocturne_in_C_minor,_B.108_': 'Nocturne in C minor', 'Bourr%C3%A9e_No.1,_Op.D2_No.1_': 'Bourrée No.1', 'Marche_fun%C3%A8bre,_Op.72_No.2_': 'Marche funèbre', 'Scherzo_No.4,_Op.54_': 'Scherzo No.4', 'Mazurkas,_Op.63_': 'Mazurkas', 'Nocturnes,_Op.27_': 'Nocturnes', 'Mazurkas,_Op.24_': 'Mazurkas', 'Impromptu_No.2,_Op.36_': 'Impromptu No.2', 'Waltzes,_Op.69_': 'Waltzes', 'Bourr%C3%A9e_No.2,_Op.D2_No.2_': 'Bourrée No.2', 'Waltzes,_Op.70_': 'Waltzes', 'R%C3%AAverie_': 'Rêverie ', 'Piano_Sonata_No.1,_Op.4_': 'Piano Sonata No.1', 'Cantabile_in_B-flat_major,_B.84_': 'Cantabile in B-flat major', 'Ballade_No.3,_Op.47_': 'Ballade No.3', 'Canon_in_F_minor_': 'Canon in F minor ', 'Mazurkas,_Op.50_': 'Mazurkas', 'Cello_Sonata,_Op.65_': 'Cello Sonata', 'Polonaise_in_B-flat_major,_B.3_': 'Polonaise in B-flat major', 'Polonaise_in_G_minor,_B.1_': 'Polonaise in G minor', 'Nocturnes,_Op.32_': 'Nocturnes', 'Allegretto_in_F-sharp_major_': 'Allegretto in F-sharp major ', 'Variations_sur_un_air_national_de_Moore,_B.12a_': 'Variations sur un air national de Moore', 'Mazurkas,_Op.67_': 'Mazurkas', 'Rondo_in_C_major,_Op.73_': 'Rondo in C major', 'Valse_m%C3%A9lancolique_in_F-sharp_minor,_A1': 'Valse mélancolique in F-sharp minor', 'Mazurka_in_A-flat_major,_B.85_': 'Mazurka in A-flat major', 'Rondo_in_E-flat_major,_Op.16_': 'Rondo in E-flat major', 'Mazurka_in_B-flat_major_%27Wo%C5%82owska%27,_B.73_': \"Mazurka in B-flat major 'Wołowska'\", 'Rondo_in_C_minor,_Op.1_': 'Rondo in C minor', 'Mazurkas,_Op.30_': 'Mazurkas', 'Waltz_in_A_minor,_B.150_': 'Waltz in A minor', 'Polish_Songs,_Op.74_': 'Polish Songs', 'Scherzo_No.3,_Op.39_': 'Scherzo No.3', 'Piano_Sonata_No.2,_Op.35_': 'Piano Sonata No.2', 'Czary,_B.51_': 'Czary', 'Mazurkas,_Op.7_': 'Mazurkas', 'Fantaisie,_Op.49_': 'Fantaisie', 'Waltz_in_E_minor,_B.56_': 'Waltz in E minor', 'Berceuse,_Op.57_': 'Berceuse', 'Variations_brillantes,_Op.12_': 'Variations brillantes', 'Prelude_in_A-flat_major,_B.86_': 'Prelude in A-flat major', 'Nocturne_oubli%C3%A9e_': 'Nocturne oubliée ', 'Preludes,_Op.28_': 'Preludes', 'Polonaise_in_A-flat_major,_Op.53_': 'Polonaise in A-flat major', 'Barcarolle,_Op.60_': 'Barcarolle', 'Krakowiak,_Op.14_': 'Krakowiak', 'Polonaise_in_G-sharp_minor,_B.6_': 'Polonaise in G-sharp minor', 'Waltz_in_A-flat_major,_Op.42_': 'Waltz in A-flat major', '2_Mazurkas,_B.16_': '2 Mazurkas', 'Casta_Diva,_Op.D1_No.1_': 'Casta Diva', 'Nocturne_in_E_minor,_Op.72_No.1_': 'Nocturne in E minor', 'Mazurka_in_A_minor,_B.140_': 'Mazurka in A minor', 'Piano_Sonata_No.3,_Op.58_': 'Piano Sonata No.3', 'Contredanse_in_G-flat_major,_B.17_': 'Contredanse in G-flat major', 'Hexam%C3%A9ron:_Variation_No.6_': 'Hexaméron: Variation No.6 ', 'Allegretto_and_Mazurka_': 'Allegretto and Mazurka ', 'Prelude_in_C-sharp_minor,_Op.45_': 'Prelude in C-sharp minor', 'Mazurkas,_Op.33_': 'Mazurkas', 'Impromptu_No.3,_Op.51_': 'Impromptu No.3', 'Variations_on_%22L%C3%A0_ci_darem_la_mano%22,_Op.2_': 'Variations on \"Là ci darem la mano\"', 'Grand_duo_concertant_sur_des_th%C3%A8mes_de_Robert_le_diable,_B.70_': 'Grand duo concertant sur des thèmes de Robert le diable', 'Fugue_in_A_minor,_B.144_': 'Fugue in A minor', 'Mazurka_in_D_major,_B.31_': 'Mazurka in D major', 'Polonaise_in_A-flat_major,_B.5_': 'Polonaise in A-flat major', 'Polonaise_in_B-flat_minor,_B.13_': 'Polonaise in B-flat minor', 'Tarantella,_Op.43_': 'Tarantella', 'Nocturnes,_Op.62_': 'Nocturnes', 'Rondo_%C3%A0_la_mazur,_Op.5_': 'Rondo à la mazur', 'Gallop_marquis_': 'Gallop marquis ', 'Andantino,_B.117_': 'Andantino', 'Waltz_in_E-flat_major,_B.46_': 'Waltz in E-flat major', 'Piano_Concerto_No.1,_Op.11_': 'Piano Concerto No.1', 'Polonaise_in_G-flat_major,_B.36_': 'Polonaise in G-flat major', 'Mazurkas,_Op.68_': 'Mazurkas', 'Mazurkas,_Op.17_': 'Mazurkas', 'Mazurkas,_Op.59_': 'Mazurkas', 'Nocturnes,_Op.37_': 'Nocturnes', 'Variations_in_A_major,_B.37_': 'Variations in A major', '3_Nouvelles_%C3%A9tudes,_B.130_': '3 Nouvelles études', 'Scherzo_No.1,_Op.20_': 'Scherzo No.1', 'Polonaises,_Op.40_': 'Polonaises', 'Nocturnes,_Op.15_': 'Nocturnes', 'Nocturne_in_C-sharp_minor,_B.49_': 'Nocturne in C-sharp minor', 'Variations_sur_un_air_national_allemand,_B.14_': 'Variations sur un air national allemand', 'Andante_spianato_et_Grande_polonaise_brillante,_Op.22_': 'Andante spianato et Grande polonaise brillante'}\n"
     ]
    }
   ],
   "source": [
    "Chopin = GiantMidi[GiantMidi['surname'] == 'Chopin']\n",
    "Chopin_folders = composer_subfolders[composer_folders[12068]]\n",
    "\n",
    "# create a dictionary that maps the folder name to piece name\n",
    "Chopin_dict = {}\n",
    "for folder in Chopin_folders:\n",
    "    try:\n",
    "        piece_name = folder.split(',_')[0].replace('_', ' ')\n",
    "    except:\n",
    "        piece_name = folder.replace('_', ' ')\n",
    "    Chopin_dict[folder] = unquote(piece_name)\n",
    "print(Chopin_dict)"
   ]
  },
  {
   "cell_type": "code",
   "execution_count": 79,
   "metadata": {},
   "outputs": [],
   "source": [
    "# find pieces of Chopin in the GiantMidi dataset and the corresponding folders\n",
    "Chopin_pieces = []\n",
    "Chopin_folders_found = []\n",
    "full_paths = []\n",
    "for row in Chopin.iterrows():\n",
    "    piece = row[1]['music']\n",
    "    for key, value in Chopin_dict.items():\n",
    "        if value in piece:\n",
    "            Chopin_pieces.append(piece)\n",
    "            Chopin_folders_found.append(key)\n",
    "            # add full path to the folder\n",
    "            full_path = os.path.join(directory_path, composer_folders[12068], key)\n",
    "            # add this to the dataframe\n",
    "            row[1]['folder'] = full_path\n",
    "            full_paths.append(full_path)\n",
    "            break"
   ]
  },
  {
   "cell_type": "code",
   "execution_count": 81,
   "metadata": {},
   "outputs": [
    {
     "data": {
      "text/plain": [
       "'/mnt/data0/Datasets/imslp/score_scrape/results/composer/Chopin,_Fr%C3%A9d%C3%A9ric/Allegro_de_concert,_Op.46_'"
      ]
     },
     "execution_count": 81,
     "metadata": {},
     "output_type": "execute_result"
    }
   ],
   "source": [
    "full_paths[0]"
   ]
  },
  {
   "cell_type": "code",
   "execution_count": null,
   "metadata": {},
   "outputs": [],
   "source": []
  }
 ],
 "metadata": {
  "kernelspec": {
   "display_name": "baselines",
   "language": "python",
   "name": "python3"
  },
  "language_info": {
   "codemirror_mode": {
    "name": "ipython",
    "version": 3
   },
   "file_extension": ".py",
   "mimetype": "text/x-python",
   "name": "python",
   "nbconvert_exporter": "python",
   "pygments_lexer": "ipython3",
   "version": "3.11.5"
  }
 },
 "nbformat": 4,
 "nbformat_minor": 2
}
