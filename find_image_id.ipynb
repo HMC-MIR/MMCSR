{
 "cells": [
  {
   "cell_type": "code",
   "execution_count": 11,
   "metadata": {},
   "outputs": [],
   "source": [
    "import requests\n",
    "import re"
   ]
  },
  {
   "cell_type": "code",
   "execution_count": 16,
   "metadata": {},
   "outputs": [
    {
     "name": "stdout",
     "output_type": "stream",
     "text": [
      "{852606: 'https://imslp.org/wiki/Ach_bleib_bei_uns,_Herr_Jesu_Christ,_BWV_649_(Bach,_Johann_Sebastian)', 65816: 'https://imslp.org/wiki/Ach_bleib_bei_uns,_Herr_Jesu_Christ,_BWV_649_(Bach,_Johann_Sebastian)', 129112: 'https://imslp.org/wiki/Ach_bleib_bei_uns,_Herr_Jesu_Christ,_BWV_649_(Bach,_Johann_Sebastian)', 384538: 'https://imslp.org/wiki/Ach_bleib_bei_uns,_Herr_Jesu_Christ,_BWV_649_(Bach,_Johann_Sebastian)', 494815: 'https://imslp.org/wiki/Ach_bleib_bei_uns,_Herr_Jesu_Christ,_BWV_649_(Bach,_Johann_Sebastian)'}\n"
     ]
    }
   ],
   "source": [
    "# get html from imslp website\n",
    "url = 'https://imslp.org/wiki/Ach_bleib_bei_uns,_Herr_Jesu_Christ,_BWV_649_(Bach,_Johann_Sebastian)'\n",
    "def get_ids(url):\n",
    "    response = requests.get(url)\n",
    "    html = response.text\n",
    "\n",
    "    # find all strings of the form \"id='num-of-ratings-[0-9]+'\" under the \"Scores\" section and extract the number\n",
    "    html = html[html.find('id=\"Sheet_Music\"'):]\n",
    "\n",
    "\n",
    "    pdf_id = re.findall(r'id=\\'num-of-ratings-[0-9]+\\'', html)\n",
    "    pdf_id = [int(re.findall(r'[0-9]+', r)[0]) for r in pdf_id]\n",
    "    pdf_dict = {}\n",
    "    for i in pdf_id:\n",
    "        pdf_dict[i] = url\n",
    "    return pdf_dict\n",
    "\n",
    "print(get_ids(url))"
   ]
  },
  {
   "cell_type": "code",
   "execution_count": null,
   "metadata": {},
   "outputs": [],
   "source": []
  }
 ],
 "metadata": {
  "kernelspec": {
   "display_name": "base",
   "language": "python",
   "name": "python3"
  },
  "language_info": {
   "codemirror_mode": {
    "name": "ipython",
    "version": 3
   },
   "file_extension": ".py",
   "mimetype": "text/x-python",
   "name": "python",
   "nbconvert_exporter": "python",
   "pygments_lexer": "ipython3",
   "version": "3.11.4"
  }
 },
 "nbformat": 4,
 "nbformat_minor": 2
}
