{
 "cells": [
  {
   "cell_type": "code",
   "execution_count": 1,
   "metadata": {},
   "outputs": [
    {
     "ename": "ModuleNotFoundError",
     "evalue": "No module named 'requests'",
     "output_type": "error",
     "traceback": [
      "\u001b[0;31m---------------------------------------------------------------------------\u001b[0m",
      "\u001b[0;31mModuleNotFoundError\u001b[0m                       Traceback (most recent call last)",
      "Cell \u001b[0;32mIn[1], line 1\u001b[0m\n\u001b[0;32m----> 1\u001b[0m \u001b[38;5;28;01mimport\u001b[39;00m \u001b[38;5;21;01mrequests\u001b[39;00m\n\u001b[1;32m      2\u001b[0m \u001b[38;5;28;01mimport\u001b[39;00m \u001b[38;5;21;01mre\u001b[39;00m\n\u001b[1;32m      3\u001b[0m \u001b[38;5;28;01mfrom\u001b[39;00m \u001b[38;5;21;01mbs4\u001b[39;00m \u001b[38;5;28;01mimport\u001b[39;00m BeautifulSoup\n",
      "\u001b[0;31mModuleNotFoundError\u001b[0m: No module named 'requests'"
     ]
    }
   ],
   "source": [
    "import requests\n",
    "import re\n",
    "from bs4 import BeautifulSoup\n",
    "import pickle"
   ]
  },
  {
   "cell_type": "code",
   "execution_count": 24,
   "metadata": {},
   "outputs": [],
   "source": [
    "def get_ids(url):\n",
    "    '''\n",
    "    Given a url, returns a dictionary of pdf ids and their corresponding urls.\n",
    "    '''\n",
    "    try:\n",
    "        response = requests.get(url)\n",
    "        html = response.text\n",
    "\n",
    "        # find all strings of the form \"id='num-of-ratings-[0-9]+'\" under the \"Scores\" section and extract the number\n",
    "        html = html[html.find('id=\"Sheet_Music\"'):]\n",
    "\n",
    "\n",
    "        pdf_id = re.findall(r'id=\\'num-of-ratings-[0-9]+\\'', html)\n",
    "        pdf_id = [int(re.findall(r'[0-9]+', r)[0]) for r in pdf_id]\n",
    "        pdf_dict = {}\n",
    "        for i in pdf_id:\n",
    "            pdf_dict[i] = url\n",
    "        return pdf_dict\n",
    "    except:\n",
    "        return {}\n",
    "\n",
    "def get_multiple_ids(urls):\n",
    "    '''\n",
    "    Given a list of urls, returns a dictionary of pdf ids and their corresponding urls.\n",
    "    '''\n",
    "    pdf_dict = {}\n",
    "    for url in urls:\n",
    "        pdf_dict.update(get_ids(url))\n",
    "    return pdf_dict"
   ]
  },
  {
   "cell_type": "code",
   "execution_count": 17,
   "metadata": {},
   "outputs": [
    {
     "name": "stdout",
     "output_type": "stream",
     "text": [
      "['https://imslp.org/wiki/Category:Bach,_Johann_Sebastian', 'https://imslp.org/wiki/Category:Beethoven,_Ludwig_van', 'https://imslp.org/wiki/Category:Chopin,_Fr%C3%A9d%C3%A9ric', 'https://imslp.org/wiki/Category:Haydn,_Joseph', 'https://imslp.org/wiki/Category:Liszt,_Franz', 'https://imslp.org/wiki/Category:Mozart,_Wolfgang_Amadeus', 'https://imslp.org/wiki/Category:Schubert,_Franz', 'https://imslp.org/wiki/Category:Schumann,_Robert', 'https://imslp.org/wiki/Category:Scriabin,_Aleksand']\n"
     ]
    }
   ],
   "source": [
    "# get links in 9 way dataset\n",
    "with open('9_way_list-Copy1.txt', 'r') as file:\n",
    "    composers = file.readlines()\n",
    "\n",
    "composers = ['https://imslp.org/wiki/Category:' + composer[:-1] for composer in composers]\n",
    "print(composers)"
   ]
  },
  {
   "cell_type": "code",
   "execution_count": 19,
   "metadata": {},
   "outputs": [],
   "source": [
    "# code the previous team uses to find all the urls for a composer\n",
    "\n",
    "def find_score_url(url):\n",
    "    \"\"\"\n",
    "    This function takes in one arguments:\n",
    "    1) url, a composer url page to parse\n",
    "    This function returns a list of piece url for a specific composer.\n",
    "    \"\"\"\n",
    "    list_page = [url]\n",
    "    r = requests.get(url)\n",
    "    soup = BeautifulSoup(r.text, \"html.parser\")\n",
    "    # add everything on the first page to the list\n",
    "    result = soup.find_all('div', class_=\"jq-ui-tabs\" )\n",
    "    if result == []:\n",
    "        return \"badlink\"\n",
    "    scores = result[0].find_all('a',class_='categorypagelink')\n",
    "    url_list = [link.get('href') for link in scores]\n",
    "    # check sub-page\n",
    "    list_page = find_next_score_url(url)\n",
    "    if list_page != []:\n",
    "        for page in list_page:\n",
    "            r = requests.get(page)\n",
    "            soup = BeautifulSoup(r.text, \"html.parser\")\n",
    "            url_list += [link.get('href') for link in soup.find_all('a',class_='categorypagelink')]\n",
    "    return url_list\n",
    "\n",
    "def find_next_score_url(url):\n",
    "    \"\"\"\n",
    "    Helper function for find_score_url\n",
    "    \"\"\"\n",
    "    result = []\n",
    "    while True:\n",
    "        r = requests.get(url)\n",
    "        soup = BeautifulSoup(r.text, \"html.parser\")\n",
    "        url_list = [link.get('href') for link in soup.find_all('a',class_='categorypaginglink',string='next 200')]\n",
    "        if url_list == []:\n",
    "            break\n",
    "        url = 'http://imslp.org' + url_list[-1]\n",
    "        result.append(url)\n",
    "    return result\n",
    "\n",
    "urls = []\n",
    "for composer in composers:\n",
    "    urls += find_score_url(composer)\n",
    "\n",
    "urls= ['https://imslp.org' + s for s in urls]"
   ]
  },
  {
   "cell_type": "code",
   "execution_count": 35,
   "metadata": {},
   "outputs": [
    {
     "ename": "ConnectionError",
     "evalue": "HTTPSConnectionPool(host='imslp.orgb', port=443): Max retries exceeded with url: / (Caused by NewConnectionError('<urllib3.connection.HTTPSConnection object at 0x10e06ff90>: Failed to establish a new connection: [Errno 8] nodename nor servname provided, or not known'))",
     "output_type": "error",
     "traceback": [
      "\u001b[0;31m---------------------------------------------------------------------------\u001b[0m",
      "\u001b[0;31mgaierror\u001b[0m                                  Traceback (most recent call last)",
      "File \u001b[0;32m~/anaconda3/lib/python3.11/site-packages/urllib3/connection.py:174\u001b[0m, in \u001b[0;36mHTTPConnection._new_conn\u001b[0;34m(self)\u001b[0m\n\u001b[1;32m    173\u001b[0m \u001b[38;5;28;01mtry\u001b[39;00m:\n\u001b[0;32m--> 174\u001b[0m     conn \u001b[38;5;241m=\u001b[39m connection\u001b[38;5;241m.\u001b[39mcreate_connection(\n\u001b[1;32m    175\u001b[0m         (\u001b[38;5;28mself\u001b[39m\u001b[38;5;241m.\u001b[39m_dns_host, \u001b[38;5;28mself\u001b[39m\u001b[38;5;241m.\u001b[39mport), \u001b[38;5;28mself\u001b[39m\u001b[38;5;241m.\u001b[39mtimeout, \u001b[38;5;241m*\u001b[39m\u001b[38;5;241m*\u001b[39mextra_kw\n\u001b[1;32m    176\u001b[0m     )\n\u001b[1;32m    178\u001b[0m \u001b[38;5;28;01mexcept\u001b[39;00m SocketTimeout:\n",
      "File \u001b[0;32m~/anaconda3/lib/python3.11/site-packages/urllib3/util/connection.py:72\u001b[0m, in \u001b[0;36mcreate_connection\u001b[0;34m(address, timeout, source_address, socket_options)\u001b[0m\n\u001b[1;32m     68\u001b[0m     \u001b[38;5;28;01mreturn\u001b[39;00m six\u001b[38;5;241m.\u001b[39mraise_from(\n\u001b[1;32m     69\u001b[0m         LocationParseError(\u001b[38;5;124mu\u001b[39m\u001b[38;5;124m\"\u001b[39m\u001b[38;5;124m'\u001b[39m\u001b[38;5;132;01m%s\u001b[39;00m\u001b[38;5;124m'\u001b[39m\u001b[38;5;124m, label empty or too long\u001b[39m\u001b[38;5;124m\"\u001b[39m \u001b[38;5;241m%\u001b[39m host), \u001b[38;5;28;01mNone\u001b[39;00m\n\u001b[1;32m     70\u001b[0m     )\n\u001b[0;32m---> 72\u001b[0m \u001b[38;5;28;01mfor\u001b[39;00m res \u001b[38;5;129;01min\u001b[39;00m socket\u001b[38;5;241m.\u001b[39mgetaddrinfo(host, port, family, socket\u001b[38;5;241m.\u001b[39mSOCK_STREAM):\n\u001b[1;32m     73\u001b[0m     af, socktype, proto, canonname, sa \u001b[38;5;241m=\u001b[39m res\n",
      "File \u001b[0;32m~/anaconda3/lib/python3.11/socket.py:962\u001b[0m, in \u001b[0;36mgetaddrinfo\u001b[0;34m(host, port, family, type, proto, flags)\u001b[0m\n\u001b[1;32m    961\u001b[0m addrlist \u001b[38;5;241m=\u001b[39m []\n\u001b[0;32m--> 962\u001b[0m \u001b[38;5;28;01mfor\u001b[39;00m res \u001b[38;5;129;01min\u001b[39;00m _socket\u001b[38;5;241m.\u001b[39mgetaddrinfo(host, port, family, \u001b[38;5;28mtype\u001b[39m, proto, flags):\n\u001b[1;32m    963\u001b[0m     af, socktype, proto, canonname, sa \u001b[38;5;241m=\u001b[39m res\n",
      "\u001b[0;31mgaierror\u001b[0m: [Errno 8] nodename nor servname provided, or not known",
      "\nDuring handling of the above exception, another exception occurred:\n",
      "\u001b[0;31mNewConnectionError\u001b[0m                        Traceback (most recent call last)",
      "File \u001b[0;32m~/anaconda3/lib/python3.11/site-packages/urllib3/connectionpool.py:714\u001b[0m, in \u001b[0;36mHTTPConnectionPool.urlopen\u001b[0;34m(self, method, url, body, headers, retries, redirect, assert_same_host, timeout, pool_timeout, release_conn, chunked, body_pos, **response_kw)\u001b[0m\n\u001b[1;32m    713\u001b[0m \u001b[38;5;66;03m# Make the request on the httplib connection object.\u001b[39;00m\n\u001b[0;32m--> 714\u001b[0m httplib_response \u001b[38;5;241m=\u001b[39m \u001b[38;5;28mself\u001b[39m\u001b[38;5;241m.\u001b[39m_make_request(\n\u001b[1;32m    715\u001b[0m     conn,\n\u001b[1;32m    716\u001b[0m     method,\n\u001b[1;32m    717\u001b[0m     url,\n\u001b[1;32m    718\u001b[0m     timeout\u001b[38;5;241m=\u001b[39mtimeout_obj,\n\u001b[1;32m    719\u001b[0m     body\u001b[38;5;241m=\u001b[39mbody,\n\u001b[1;32m    720\u001b[0m     headers\u001b[38;5;241m=\u001b[39mheaders,\n\u001b[1;32m    721\u001b[0m     chunked\u001b[38;5;241m=\u001b[39mchunked,\n\u001b[1;32m    722\u001b[0m )\n\u001b[1;32m    724\u001b[0m \u001b[38;5;66;03m# If we're going to release the connection in ``finally:``, then\u001b[39;00m\n\u001b[1;32m    725\u001b[0m \u001b[38;5;66;03m# the response doesn't need to know about the connection. Otherwise\u001b[39;00m\n\u001b[1;32m    726\u001b[0m \u001b[38;5;66;03m# it will also try to release it and we'll have a double-release\u001b[39;00m\n\u001b[1;32m    727\u001b[0m \u001b[38;5;66;03m# mess.\u001b[39;00m\n",
      "File \u001b[0;32m~/anaconda3/lib/python3.11/site-packages/urllib3/connectionpool.py:403\u001b[0m, in \u001b[0;36mHTTPConnectionPool._make_request\u001b[0;34m(self, conn, method, url, timeout, chunked, **httplib_request_kw)\u001b[0m\n\u001b[1;32m    402\u001b[0m \u001b[38;5;28;01mtry\u001b[39;00m:\n\u001b[0;32m--> 403\u001b[0m     \u001b[38;5;28mself\u001b[39m\u001b[38;5;241m.\u001b[39m_validate_conn(conn)\n\u001b[1;32m    404\u001b[0m \u001b[38;5;28;01mexcept\u001b[39;00m (SocketTimeout, BaseSSLError) \u001b[38;5;28;01mas\u001b[39;00m e:\n\u001b[1;32m    405\u001b[0m     \u001b[38;5;66;03m# Py2 raises this as a BaseSSLError, Py3 raises it as socket timeout.\u001b[39;00m\n",
      "File \u001b[0;32m~/anaconda3/lib/python3.11/site-packages/urllib3/connectionpool.py:1053\u001b[0m, in \u001b[0;36mHTTPSConnectionPool._validate_conn\u001b[0;34m(self, conn)\u001b[0m\n\u001b[1;32m   1052\u001b[0m \u001b[38;5;28;01mif\u001b[39;00m \u001b[38;5;129;01mnot\u001b[39;00m \u001b[38;5;28mgetattr\u001b[39m(conn, \u001b[38;5;124m\"\u001b[39m\u001b[38;5;124msock\u001b[39m\u001b[38;5;124m\"\u001b[39m, \u001b[38;5;28;01mNone\u001b[39;00m):  \u001b[38;5;66;03m# AppEngine might not have  `.sock`\u001b[39;00m\n\u001b[0;32m-> 1053\u001b[0m     conn\u001b[38;5;241m.\u001b[39mconnect()\n\u001b[1;32m   1055\u001b[0m \u001b[38;5;28;01mif\u001b[39;00m \u001b[38;5;129;01mnot\u001b[39;00m conn\u001b[38;5;241m.\u001b[39mis_verified:\n",
      "File \u001b[0;32m~/anaconda3/lib/python3.11/site-packages/urllib3/connection.py:363\u001b[0m, in \u001b[0;36mHTTPSConnection.connect\u001b[0;34m(self)\u001b[0m\n\u001b[1;32m    361\u001b[0m \u001b[38;5;28;01mdef\u001b[39;00m \u001b[38;5;21mconnect\u001b[39m(\u001b[38;5;28mself\u001b[39m):\n\u001b[1;32m    362\u001b[0m     \u001b[38;5;66;03m# Add certificate verification\u001b[39;00m\n\u001b[0;32m--> 363\u001b[0m     \u001b[38;5;28mself\u001b[39m\u001b[38;5;241m.\u001b[39msock \u001b[38;5;241m=\u001b[39m conn \u001b[38;5;241m=\u001b[39m \u001b[38;5;28mself\u001b[39m\u001b[38;5;241m.\u001b[39m_new_conn()\n\u001b[1;32m    364\u001b[0m     hostname \u001b[38;5;241m=\u001b[39m \u001b[38;5;28mself\u001b[39m\u001b[38;5;241m.\u001b[39mhost\n",
      "File \u001b[0;32m~/anaconda3/lib/python3.11/site-packages/urllib3/connection.py:186\u001b[0m, in \u001b[0;36mHTTPConnection._new_conn\u001b[0;34m(self)\u001b[0m\n\u001b[1;32m    185\u001b[0m \u001b[38;5;28;01mexcept\u001b[39;00m SocketError \u001b[38;5;28;01mas\u001b[39;00m e:\n\u001b[0;32m--> 186\u001b[0m     \u001b[38;5;28;01mraise\u001b[39;00m NewConnectionError(\n\u001b[1;32m    187\u001b[0m         \u001b[38;5;28mself\u001b[39m, \u001b[38;5;124m\"\u001b[39m\u001b[38;5;124mFailed to establish a new connection: \u001b[39m\u001b[38;5;132;01m%s\u001b[39;00m\u001b[38;5;124m\"\u001b[39m \u001b[38;5;241m%\u001b[39m e\n\u001b[1;32m    188\u001b[0m     )\n\u001b[1;32m    190\u001b[0m \u001b[38;5;28;01mreturn\u001b[39;00m conn\n",
      "\u001b[0;31mNewConnectionError\u001b[0m: <urllib3.connection.HTTPSConnection object at 0x10e06ff90>: Failed to establish a new connection: [Errno 8] nodename nor servname provided, or not known",
      "\nDuring handling of the above exception, another exception occurred:\n",
      "\u001b[0;31mMaxRetryError\u001b[0m                             Traceback (most recent call last)",
      "File \u001b[0;32m~/anaconda3/lib/python3.11/site-packages/requests/adapters.py:486\u001b[0m, in \u001b[0;36mHTTPAdapter.send\u001b[0;34m(self, request, stream, timeout, verify, cert, proxies)\u001b[0m\n\u001b[1;32m    485\u001b[0m \u001b[38;5;28;01mtry\u001b[39;00m:\n\u001b[0;32m--> 486\u001b[0m     resp \u001b[38;5;241m=\u001b[39m conn\u001b[38;5;241m.\u001b[39murlopen(\n\u001b[1;32m    487\u001b[0m         method\u001b[38;5;241m=\u001b[39mrequest\u001b[38;5;241m.\u001b[39mmethod,\n\u001b[1;32m    488\u001b[0m         url\u001b[38;5;241m=\u001b[39murl,\n\u001b[1;32m    489\u001b[0m         body\u001b[38;5;241m=\u001b[39mrequest\u001b[38;5;241m.\u001b[39mbody,\n\u001b[1;32m    490\u001b[0m         headers\u001b[38;5;241m=\u001b[39mrequest\u001b[38;5;241m.\u001b[39mheaders,\n\u001b[1;32m    491\u001b[0m         redirect\u001b[38;5;241m=\u001b[39m\u001b[38;5;28;01mFalse\u001b[39;00m,\n\u001b[1;32m    492\u001b[0m         assert_same_host\u001b[38;5;241m=\u001b[39m\u001b[38;5;28;01mFalse\u001b[39;00m,\n\u001b[1;32m    493\u001b[0m         preload_content\u001b[38;5;241m=\u001b[39m\u001b[38;5;28;01mFalse\u001b[39;00m,\n\u001b[1;32m    494\u001b[0m         decode_content\u001b[38;5;241m=\u001b[39m\u001b[38;5;28;01mFalse\u001b[39;00m,\n\u001b[1;32m    495\u001b[0m         retries\u001b[38;5;241m=\u001b[39m\u001b[38;5;28mself\u001b[39m\u001b[38;5;241m.\u001b[39mmax_retries,\n\u001b[1;32m    496\u001b[0m         timeout\u001b[38;5;241m=\u001b[39mtimeout,\n\u001b[1;32m    497\u001b[0m         chunked\u001b[38;5;241m=\u001b[39mchunked,\n\u001b[1;32m    498\u001b[0m     )\n\u001b[1;32m    500\u001b[0m \u001b[38;5;28;01mexcept\u001b[39;00m (ProtocolError, \u001b[38;5;167;01mOSError\u001b[39;00m) \u001b[38;5;28;01mas\u001b[39;00m err:\n",
      "File \u001b[0;32m~/anaconda3/lib/python3.11/site-packages/urllib3/connectionpool.py:798\u001b[0m, in \u001b[0;36mHTTPConnectionPool.urlopen\u001b[0;34m(self, method, url, body, headers, retries, redirect, assert_same_host, timeout, pool_timeout, release_conn, chunked, body_pos, **response_kw)\u001b[0m\n\u001b[1;32m    796\u001b[0m     e \u001b[38;5;241m=\u001b[39m ProtocolError(\u001b[38;5;124m\"\u001b[39m\u001b[38;5;124mConnection aborted.\u001b[39m\u001b[38;5;124m\"\u001b[39m, e)\n\u001b[0;32m--> 798\u001b[0m retries \u001b[38;5;241m=\u001b[39m retries\u001b[38;5;241m.\u001b[39mincrement(\n\u001b[1;32m    799\u001b[0m     method, url, error\u001b[38;5;241m=\u001b[39me, _pool\u001b[38;5;241m=\u001b[39m\u001b[38;5;28mself\u001b[39m, _stacktrace\u001b[38;5;241m=\u001b[39msys\u001b[38;5;241m.\u001b[39mexc_info()[\u001b[38;5;241m2\u001b[39m]\n\u001b[1;32m    800\u001b[0m )\n\u001b[1;32m    801\u001b[0m retries\u001b[38;5;241m.\u001b[39msleep()\n",
      "File \u001b[0;32m~/anaconda3/lib/python3.11/site-packages/urllib3/util/retry.py:592\u001b[0m, in \u001b[0;36mRetry.increment\u001b[0;34m(self, method, url, response, error, _pool, _stacktrace)\u001b[0m\n\u001b[1;32m    591\u001b[0m \u001b[38;5;28;01mif\u001b[39;00m new_retry\u001b[38;5;241m.\u001b[39mis_exhausted():\n\u001b[0;32m--> 592\u001b[0m     \u001b[38;5;28;01mraise\u001b[39;00m MaxRetryError(_pool, url, error \u001b[38;5;129;01mor\u001b[39;00m ResponseError(cause))\n\u001b[1;32m    594\u001b[0m log\u001b[38;5;241m.\u001b[39mdebug(\u001b[38;5;124m\"\u001b[39m\u001b[38;5;124mIncremented Retry for (url=\u001b[39m\u001b[38;5;124m'\u001b[39m\u001b[38;5;132;01m%s\u001b[39;00m\u001b[38;5;124m'\u001b[39m\u001b[38;5;124m): \u001b[39m\u001b[38;5;132;01m%r\u001b[39;00m\u001b[38;5;124m\"\u001b[39m, url, new_retry)\n",
      "\u001b[0;31mMaxRetryError\u001b[0m: HTTPSConnectionPool(host='imslp.orgb', port=443): Max retries exceeded with url: / (Caused by NewConnectionError('<urllib3.connection.HTTPSConnection object at 0x10e06ff90>: Failed to establish a new connection: [Errno 8] nodename nor servname provided, or not known'))",
      "\nDuring handling of the above exception, another exception occurred:\n",
      "\u001b[0;31mConnectionError\u001b[0m                           Traceback (most recent call last)",
      "Cell \u001b[0;32mIn[35], line 2\u001b[0m\n\u001b[1;32m      1\u001b[0m \u001b[38;5;66;03m# get all the pdf ids from the urls\u001b[39;00m\n\u001b[0;32m----> 2\u001b[0m pdf_dict \u001b[38;5;241m=\u001b[39m get_multiple_ids(urls)\n",
      "Cell \u001b[0;32mIn[24], line 25\u001b[0m, in \u001b[0;36mget_multiple_ids\u001b[0;34m(urls)\u001b[0m\n\u001b[1;32m     23\u001b[0m pdf_dict \u001b[38;5;241m=\u001b[39m {}\n\u001b[1;32m     24\u001b[0m \u001b[38;5;28;01mfor\u001b[39;00m url \u001b[38;5;129;01min\u001b[39;00m urls:\n\u001b[0;32m---> 25\u001b[0m     pdf_dict\u001b[38;5;241m.\u001b[39mupdate(get_ids(url))\n\u001b[1;32m     26\u001b[0m \u001b[38;5;28;01mreturn\u001b[39;00m pdf_dict\n",
      "Cell \u001b[0;32mIn[24], line 5\u001b[0m, in \u001b[0;36mget_ids\u001b[0;34m(url)\u001b[0m\n\u001b[1;32m      1\u001b[0m \u001b[38;5;28;01mdef\u001b[39;00m \u001b[38;5;21mget_ids\u001b[39m(url):\n\u001b[1;32m      2\u001b[0m \u001b[38;5;250m    \u001b[39m\u001b[38;5;124;03m'''\u001b[39;00m\n\u001b[1;32m      3\u001b[0m \u001b[38;5;124;03m    Given a url, returns a dictionary of pdf ids and their corresponding urls.\u001b[39;00m\n\u001b[1;32m      4\u001b[0m \u001b[38;5;124;03m    '''\u001b[39;00m\n\u001b[0;32m----> 5\u001b[0m     response \u001b[38;5;241m=\u001b[39m requests\u001b[38;5;241m.\u001b[39mget(url)\n\u001b[1;32m      6\u001b[0m     html \u001b[38;5;241m=\u001b[39m response\u001b[38;5;241m.\u001b[39mtext\n\u001b[1;32m      8\u001b[0m     \u001b[38;5;66;03m# find all strings of the form \"id='num-of-ratings-[0-9]+'\" under the \"Scores\" section and extract the number\u001b[39;00m\n",
      "File \u001b[0;32m~/anaconda3/lib/python3.11/site-packages/requests/api.py:73\u001b[0m, in \u001b[0;36mget\u001b[0;34m(url, params, **kwargs)\u001b[0m\n\u001b[1;32m     62\u001b[0m \u001b[38;5;28;01mdef\u001b[39;00m \u001b[38;5;21mget\u001b[39m(url, params\u001b[38;5;241m=\u001b[39m\u001b[38;5;28;01mNone\u001b[39;00m, \u001b[38;5;241m*\u001b[39m\u001b[38;5;241m*\u001b[39mkwargs):\n\u001b[1;32m     63\u001b[0m \u001b[38;5;250m    \u001b[39m\u001b[38;5;124mr\u001b[39m\u001b[38;5;124;03m\"\"\"Sends a GET request.\u001b[39;00m\n\u001b[1;32m     64\u001b[0m \n\u001b[1;32m     65\u001b[0m \u001b[38;5;124;03m    :param url: URL for the new :class:`Request` object.\u001b[39;00m\n\u001b[0;32m   (...)\u001b[0m\n\u001b[1;32m     70\u001b[0m \u001b[38;5;124;03m    :rtype: requests.Response\u001b[39;00m\n\u001b[1;32m     71\u001b[0m \u001b[38;5;124;03m    \"\"\"\u001b[39;00m\n\u001b[0;32m---> 73\u001b[0m     \u001b[38;5;28;01mreturn\u001b[39;00m request(\u001b[38;5;124m\"\u001b[39m\u001b[38;5;124mget\u001b[39m\u001b[38;5;124m\"\u001b[39m, url, params\u001b[38;5;241m=\u001b[39mparams, \u001b[38;5;241m*\u001b[39m\u001b[38;5;241m*\u001b[39mkwargs)\n",
      "File \u001b[0;32m~/anaconda3/lib/python3.11/site-packages/requests/api.py:59\u001b[0m, in \u001b[0;36mrequest\u001b[0;34m(method, url, **kwargs)\u001b[0m\n\u001b[1;32m     55\u001b[0m \u001b[38;5;66;03m# By using the 'with' statement we are sure the session is closed, thus we\u001b[39;00m\n\u001b[1;32m     56\u001b[0m \u001b[38;5;66;03m# avoid leaving sockets open which can trigger a ResourceWarning in some\u001b[39;00m\n\u001b[1;32m     57\u001b[0m \u001b[38;5;66;03m# cases, and look like a memory leak in others.\u001b[39;00m\n\u001b[1;32m     58\u001b[0m \u001b[38;5;28;01mwith\u001b[39;00m sessions\u001b[38;5;241m.\u001b[39mSession() \u001b[38;5;28;01mas\u001b[39;00m session:\n\u001b[0;32m---> 59\u001b[0m     \u001b[38;5;28;01mreturn\u001b[39;00m session\u001b[38;5;241m.\u001b[39mrequest(method\u001b[38;5;241m=\u001b[39mmethod, url\u001b[38;5;241m=\u001b[39murl, \u001b[38;5;241m*\u001b[39m\u001b[38;5;241m*\u001b[39mkwargs)\n",
      "File \u001b[0;32m~/anaconda3/lib/python3.11/site-packages/requests/sessions.py:589\u001b[0m, in \u001b[0;36mSession.request\u001b[0;34m(self, method, url, params, data, headers, cookies, files, auth, timeout, allow_redirects, proxies, hooks, stream, verify, cert, json)\u001b[0m\n\u001b[1;32m    584\u001b[0m send_kwargs \u001b[38;5;241m=\u001b[39m {\n\u001b[1;32m    585\u001b[0m     \u001b[38;5;124m\"\u001b[39m\u001b[38;5;124mtimeout\u001b[39m\u001b[38;5;124m\"\u001b[39m: timeout,\n\u001b[1;32m    586\u001b[0m     \u001b[38;5;124m\"\u001b[39m\u001b[38;5;124mallow_redirects\u001b[39m\u001b[38;5;124m\"\u001b[39m: allow_redirects,\n\u001b[1;32m    587\u001b[0m }\n\u001b[1;32m    588\u001b[0m send_kwargs\u001b[38;5;241m.\u001b[39mupdate(settings)\n\u001b[0;32m--> 589\u001b[0m resp \u001b[38;5;241m=\u001b[39m \u001b[38;5;28mself\u001b[39m\u001b[38;5;241m.\u001b[39msend(prep, \u001b[38;5;241m*\u001b[39m\u001b[38;5;241m*\u001b[39msend_kwargs)\n\u001b[1;32m    591\u001b[0m \u001b[38;5;28;01mreturn\u001b[39;00m resp\n",
      "File \u001b[0;32m~/anaconda3/lib/python3.11/site-packages/requests/sessions.py:703\u001b[0m, in \u001b[0;36mSession.send\u001b[0;34m(self, request, **kwargs)\u001b[0m\n\u001b[1;32m    700\u001b[0m start \u001b[38;5;241m=\u001b[39m preferred_clock()\n\u001b[1;32m    702\u001b[0m \u001b[38;5;66;03m# Send the request\u001b[39;00m\n\u001b[0;32m--> 703\u001b[0m r \u001b[38;5;241m=\u001b[39m adapter\u001b[38;5;241m.\u001b[39msend(request, \u001b[38;5;241m*\u001b[39m\u001b[38;5;241m*\u001b[39mkwargs)\n\u001b[1;32m    705\u001b[0m \u001b[38;5;66;03m# Total elapsed time of the request (approximately)\u001b[39;00m\n\u001b[1;32m    706\u001b[0m elapsed \u001b[38;5;241m=\u001b[39m preferred_clock() \u001b[38;5;241m-\u001b[39m start\n",
      "File \u001b[0;32m~/anaconda3/lib/python3.11/site-packages/requests/adapters.py:519\u001b[0m, in \u001b[0;36mHTTPAdapter.send\u001b[0;34m(self, request, stream, timeout, verify, cert, proxies)\u001b[0m\n\u001b[1;32m    515\u001b[0m     \u001b[38;5;28;01mif\u001b[39;00m \u001b[38;5;28misinstance\u001b[39m(e\u001b[38;5;241m.\u001b[39mreason, _SSLError):\n\u001b[1;32m    516\u001b[0m         \u001b[38;5;66;03m# This branch is for urllib3 v1.22 and later.\u001b[39;00m\n\u001b[1;32m    517\u001b[0m         \u001b[38;5;28;01mraise\u001b[39;00m SSLError(e, request\u001b[38;5;241m=\u001b[39mrequest)\n\u001b[0;32m--> 519\u001b[0m     \u001b[38;5;28;01mraise\u001b[39;00m \u001b[38;5;167;01mConnectionError\u001b[39;00m(e, request\u001b[38;5;241m=\u001b[39mrequest)\n\u001b[1;32m    521\u001b[0m \u001b[38;5;28;01mexcept\u001b[39;00m ClosedPoolError \u001b[38;5;28;01mas\u001b[39;00m e:\n\u001b[1;32m    522\u001b[0m     \u001b[38;5;28;01mraise\u001b[39;00m \u001b[38;5;167;01mConnectionError\u001b[39;00m(e, request\u001b[38;5;241m=\u001b[39mrequest)\n",
      "\u001b[0;31mConnectionError\u001b[0m: HTTPSConnectionPool(host='imslp.orgb', port=443): Max retries exceeded with url: / (Caused by NewConnectionError('<urllib3.connection.HTTPSConnection object at 0x10e06ff90>: Failed to establish a new connection: [Errno 8] nodename nor servname provided, or not known'))"
     ]
    }
   ],
   "source": [
    "# get all the pdf ids from the urls\n",
    "pdf_dict = get_multiple_ids(urls)"
   ]
  },
  {
   "cell_type": "code",
   "execution_count": 34,
   "metadata": {},
   "outputs": [
    {
     "name": "stdout",
     "output_type": "stream",
     "text": [
      "dict_keys([466135, 466136, 466137, 772069, 772070, 772071, 772072, 837835, 772065, 772066, 772067, 772068, 772076, 772077, 772078, 772079, 837837, 837836, 466138, 466139, 466140, 461082, 461083, 461084, 461085, 311373, 772456, 772457, 772458, 772459, 772462, 772463, 772464, 772465, 837949, 772473, 772474, 772475, 772476, 837951, 837950, 466141, 466142, 466143, 461055, 461056, 461057, 461058, 461047, 773072, 773073, 773074, 773075, 773076, 773077, 773078, 773079, 838101, 259803, 259804, 259805, 259806, 773080, 773081, 773082, 773083, 838103, 838102, 466144, 466145, 466146, 773561, 773562, 773563, 773564, 773567, 773568, 773569, 773570, 838118, 773574, 773575, 773576, 773577, 838120, 838119, 466147, 466148, 466149, 774313, 774314, 774315, 774316, 774317, 774318, 774319, 774320, 774321, 774322, 774323, 774324, 838185, 838186, 838187, 466150, 466151, 466152, 461095, 461096, 461097, 461098, 461090, 774861, 774862, 774863, 774864, 774865, 774866, 774867, 774868, 774869, 774870, 774871, 774872, 838410, 838411, 838412, 466518, 466519, 466520, 661098, 661099, 661100, 661101, 775231, 775232, 775233, 775234, 838786, 775235, 775236, 775237, 775238, 838788, 838787, 466522, 466523, 466524, 775719, 775720, 775721, 775722, 775723, 775724, 775725, 775726, 838789, 775727, 775728, 775729, 775730, 838791, 838790, 466526, 466527, 466528, 775827, 775828, 775829, 775830, 775831, 775832, 775833, 775834, 838852, 775835, 775836, 775837, 775838, 838854, 838853, 466529, 466530, 466531, 776110, 776111, 776112, 776113, 776114, 776115, 776116, 776117, 838994, 776120, 776121, 776122, 776123, 838997, 838995, 466532, 466533, 466534, 466535, 466536, 466537, 776647, 776648, 776649, 776650, 776651, 776652, 776653, 776654, 838998, 776657, 776658, 776659, 776660, 839001, 839000, 466538, 466539, 466540, 776819, 776820, 776821, 776822, 776824, 776825, 776826, 776827, 839018, 776834, 776835, 776836, 776837, 839021, 839019, 466542, 466543, 466544, 777246, 777247, 777248, 777249, 777250, 777251, 777252, 777253, 839197, 777254, 777255, 777256, 777257, 839199, 839198, 461157, 466546, 466547, 466548, 777460, 777461, 777462, 777463, 777464, 777465, 777466, 777467, 839200, 777468, 777469, 777470, 777471, 839202, 839201, 466549, 466550, 466551, 777907, 777908, 777909, 777910, 777903, 777904, 777905, 777906, 839203, 777911, 777912, 777913, 777914, 839206, 839205, 466552, 466553, 466554, 778290, 778291, 778292, 778293, 778295, 778296, 778297, 778298, 839391, 778299, 778300, 778301, 778302, 839394, 839392, 466556, 466557, 466558, 778414, 778415, 778416, 778417, 778418, 778419, 778420, 778421, 839501, 778422, 778423, 778424, 778425, 839504, 839502, 466564, 466565, 466566, 778784, 778785, 778786, 778787, 778788, 778789, 778790, 778791, 840135, 778792, 778793, 778794, 778795, 840138, 840137, 466567, 466568, 466569, 779265, 779266, 779267, 779268, 779269, 779270, 779271, 779272, 840366, 779273, 779274, 779275, 779276, 840367, 466570, 466571, 466572, 780041, 780042, 780043, 780044, 780045, 780046, 780047, 780048, 840503, 780049, 780050, 780051, 780052, 840505, 840504, 466573, 466574, 466575, 781987, 781988, 781989, 781990, 781991, 781992, 781993, 781994, 840634, 781995, 781996, 781997, 781998, 840637, 840635, 466577, 466578, 466579, 782424, 782425, 782426, 782427, 782428, 782429, 782430, 782431, 840787, 782432, 782433, 782434, 782435, 840789, 840788, 466581, 466582, 466583, 786414, 786415, 786416, 786417, 786418, 786419, 786420, 786421, 840895, 786422, 786423, 786424, 786425, 840897, 840896, 466584, 466585, 466586, 786838, 786839, 786840, 786841, 786842, 786843, 786844, 786845, 786846, 786847, 786848, 786849, 841146, 841148, 841149, 466587, 466588, 466589, 787336, 787337, 787338, 787339, 787340, 787341, 787342, 787343, 841279, 787344, 787345, 787346, 787347, 841282, 841280, 466590, 466591, 466592, 787808, 787809, 787810, 787811, 787812, 787813, 787814, 787815, 841392, 787816, 787817, 787818, 787819, 841395, 841394, 466593, 466594, 466595, 788203, 788204, 788205, 788206, 788207, 788208, 788209, 788210, 841582, 788211, 788212, 788213, 788214, 841584, 841583, 461167, 466597, 466598, 466599, 788702, 788703, 788704, 788705, 788706, 788707, 788708, 788709, 841752, 788710, 788711, 788712, 788713, 841754, 841753, 466600, 466601, 466602, 795314, 795315, 795316, 795317, 795319, 795320, 795321, 795322, 841919, 795323, 795324, 795325, 795326, 841921, 841920, 461168, 466758, 466759, 466760, 796358, 796359, 796360, 796361, 796362, 796363, 796364, 796365, 796366, 796367, 796368, 796369, 842060, 842061, 842062, 466761, 466762, 466763, 301120, 301121, 301122, 301123, 802703, 802704, 802705, 802706, 802707, 802708, 802709, 802710, 301124, 301125, 301126, 301127, 842066, 842068, 842069, 466766, 466767, 466768, 301538, 301539, 301540, 301541, 805516, 805517, 805518, 805519, 842551, 301548, 301549, 301550, 301551, 805521, 805522, 805523, 805524, 842553, 842552, 301564, 301565, 301566, 301567, 461169, 466769, 466770, 466771, 301583, 301584, 301585, 301586, 456674, 456675, 456676, 456677, 842557, 722507, 722508, 722509, 722510, 842559, 842558, 301587, 301588, 301589, 301590, 466772, 466773, 466774, 301999, 302000, 302001, 302002, 805720, 805721, 805722, 805723, 842845, 805724, 805725, 805726, 805727, 842849, 842851, 302112, 302113, 302114, 302115, 466775, 466776, 466777, 805830, 805831, 805832, 805833, 805834, 805835, 805836, 805837, 805838, 805839, 805840, 805841, 847372, 847376, 847377, 466778, 466779, 466780, 810210, 810215, 810216, 810217, 810218, 810219, 810220, 810221, 810222, 810223, 810224, 810225, 810226, 847391, 847392, 847393, 466781, 466782, 466783, 810209, 849192, 811865, 811866, 811867, 811868, 849193, 811869, 811870, 811871, 811872, 461020, 461021, 461022, 461023, 466784, 466785, 466786, 810067, 814645, 814646, 814647, 814648, 814649, 814650, 814651, 814652, 849313, 849320, 849321, 466787, 466788, 466789, 805827, 814932, 814933, 814934, 814935, 461215, 461216, 461217, 461218, 461219, 461220, 461201, 814940, 814941, 814942, 814943, 814944, 814945, 814946, 814947, 849367, 849368, 849369, 466790, 466791, 466792, 810031, 815812, 815813, 815814, 815815, 815816, 815817, 815818, 815819, 850027, 815820, 815821, 815822, 815823, 850029, 850028, 466793, 466794, 466795, 809999, 819485, 819486, 819487, 819488, 819489, 819490, 819491, 819492, 850089, 819493, 819494, 819495, 819496, 850092, 850090, 466800, 466801, 466802, 809943, 820096, 820097, 820098, 820099, 820106, 820107, 820108, 820109, 850138, 820110, 820111, 820112, 820113, 850141, 850140, 466803, 466804, 466805, 809939, 821089, 821090, 821091, 821092, 821094, 821095, 821096, 821097, 850290, 821099, 821100, 821101, 821102, 850292, 850291, 466806, 466807, 466808, 808323, 821384, 821385, 821386, 821387, 821388, 821389, 821390, 821391, 850321, 821392, 821393, 821394, 821395, 850323, 850322, 225702, 652574, 466809, 466810, 466811, 809645, 822014, 822015, 822016, 822017, 822018, 822019, 822020, 822021, 850355, 822022, 822023, 822024, 822025, 850357, 850356, 466812, 466813, 466814, 811650, 822210, 822211, 822212, 822213, 822214, 822215, 822216, 822217, 822218, 822219, 822220, 822221, 850444, 850445, 850446, 466815, 466816, 466817, 822887, 822888, 822889, 822890, 822892, 822893, 822894, 822895, 822896, 822897, 822898, 822899, 850453, 850454, 850455, 466823, 466824, 466825, 810701, 823553, 823554, 823555, 823556, 823557, 823558, 823559, 823560, 823561, 823562, 823563, 823564, 823566, 823567, 823568, 823569, 466826, 466827, 466828, 809643, 823663, 823664, 823665, 823666, 823667, 823668, 823669, 823670, 823671, 823672, 823673, 823674, 823675, 823676, 823677, 823678, 823679, 823680, 823681, 823682, 823683, 823684, 823685, 823686, 466829, 466830, 466831, 809360, 823968, 823969, 823970, 823971, 823972, 823973, 823974, 823975, 823976, 823977, 823978, 823979, 823984, 823985, 823986, 823987, 823980, 823981, 823982, 823983, 823989, 823990, 823991, 823992, 466832, 466833, 466834, 807608, 824461, 824462, 824463, 824464, 824465, 824466, 824467, 824468, 824470, 824471, 824472, 824473, 824474, 824475, 824476, 824477, 824478, 824479, 824480, 824481, 824483, 824484, 824485, 824486, 467004, 467005, 467006, 809912, 824825, 824826, 824827, 824828, 824830, 824831, 824838, 824839, 467007, 467008, 467009, 806765, 825147, 825148, 825149, 825150, 825151, 825152, 825153, 825154, 825155, 825156, 825157, 825162, 825163, 825164, 825165, 825158, 825159, 825160, 825161, 825166, 825167, 825168, 825169, 826642, 826643, 826644, 826645, 461209, 461210, 461211, 461212, 461213, 461214, 826646, 826647, 826648, 826649, 826651, 826652, 826653, 826654, 826661, 826662, 826663, 826664, 826657, 826658, 826659, 826660, 826665, 826666, 826667, 826668, 826906, 826907, 826908, 826909, 826910, 826911, 826912, 826913, 826914, 826915, 826916, 826917, 695738, 826924, 826925, 826926, 826927, 826918, 826919, 826920, 826921, 461180, 461181, 461182, 461176, 826934, 826935, 826936, 826937, 827671, 827672, 827673, 827674, 461221, 461222, 461223, 461224, 461225, 461226, 827675, 827676, 827677, 827678, 827679, 827680, 827681, 827682, 827687, 827688, 827689, 827690, 827683, 827684, 827685, 827686, 461177, 461178, 461179, 268627, 358025, 358026, 828014, 828015, 828016, 828017, 828018, 828019, 828020, 828021, 828022, 828023, 828024, 828025, 828030, 828031, 828032, 828033, 828026, 828027, 828028, 828029, 461189, 461190, 461191, 828034, 828035, 828036, 828037, 268523, 268524, 268525, 268526, 867282, 828235, 828236, 828237, 828238, 860232, 860229, 860231, 860228, 461195, 461196, 461197, 461198, 461199, 461200, 828243, 828244, 828245, 828246, 828239, 828240, 828241, 828242, 828251, 828252, 828253, 828254, 828247, 828248, 828249, 828250, 828255, 828256, 828257, 828258, 860230, 828594, 828595, 828596, 828597, 461228, 461229, 461230, 461231, 461232, 461233, 828698, 828699, 828700, 828701, 828702, 828703, 828704, 828705, 828709, 828710, 828711, 828712, 828713, 828714, 828715, 828816, 828817, 828818, 828819, 268527, 64752, 64753, 64754, 829208, 829209, 829210, 829211, 649015, 461183, 461184, 461185, 829212, 829213, 829214, 829215, 829216, 829217, 829218, 829219, 829220, 829221, 829222, 829223, 829224, 829225, 829226, 829227, 829228, 829229, 268629, 830507, 830508, 830509, 830510, 461202, 461203, 461204, 461205, 461206, 461207, 830511, 830512, 830513, 830514, 830515, 830516, 830517, 830518, 830519, 830520, 830521, 830522, 830523, 830524, 830525, 830526, 830527, 830528, 830529, 830530, 269128, 269129, 269130, 269131, 456562, 456563, 456564, 456565, 830840, 830841, 830842, 830843, 830844, 830845, 830846, 830847, 830852, 830853, 830854, 830855, 830866, 830867, 830868, 830869, 830856, 830857, 830858, 830859, 461173, 461174, 461175, 830862, 830863, 830864, 830865, 831264, 831265, 831266, 831267, 831268, 831269, 831270, 831271, 831272, 831273, 831274, 831275, 831280, 831281, 831282, 831283, 831276, 831277, 831278, 831279, 461186, 461187, 461188, 831284, 831285, 831286, 831287, 104775, 464588, 464589, 464590, 464591, 853632, 772243, 861048, 772245, 772246, 772247, 772248, 772249, 772250, 772251, 772252, 772253, 861049, 861050, 861051, 861052, 861053, 861054, 861055, 861056, 861057, 861058, 467065, 473088, 473089, 473050, 474131, 474132, 474106, 782082, 782083, 782084, 782085, 782086, 782087, 782088, 475071, 475072, 475055, 851160, 493808, 772372, 260444, 382427, 772373, 772374, 772375, 772376, 772377, 772378, 772379, 82078, 51042, 51044, 51046, 51048, 51050, 51051, 51052, 51053, 382429, 382430, 382431, 382432, 382433, 382434, 382435, 382436, 382437, 382445, 382446, 428613, 696688, 451343, 558358, 375633, 649263, 93598, 93608, 23555, 318335, 95368, 95369, 263294, 263350, 172427, 172428, 172429, 172430, 172431, 172432, 172433, 172434, 172435, 172436, 172437, 172438, 172439, 172440, 172441, 172442, 23597, 23598, 23599, 23593, 23594, 23595, 23596, 318536, 318537, 318532, 318533, 318534, 318535, 772412, 772413, 772414, 772415, 772416, 772417, 772418, 772419, 772420, 772421, 772422, 772423, 655397, 655398, 451347, 327151, 70937, 70938, 70939, 79707, 79708, 79709, 23592, 23591, 318336, 23624, 404241, 23623, 23621, 7688, 23617, 375634, 380606, 442074, 412237, 23618, 701539, 23622, 390613, 263438, 390628, 514595, 514596, 23625, 23620, 23619, 400217, 385602, 23626, 772268, 23741, 772269, 55338, 772270, 772271, 772272, 772273, 772274, 772275, 772276, 772277, 772278, 772279, 233799, 233800, 233801, 553476, 68877, 68878, 68879, 272427, 281224, 55340, 846297, 852834, 772234, 772235, 772236, 772237, 772238, 772239, 772240, 772241, 772242, 464274, 464259, 464275, 464276, 130597, 464007, 464006, 523907, 523908, 523909, 523910, 113412, 304561, 464249, 464240, 464772, 464773, 464250, 464251, 837562, 459720, 459721, 459722, 459723, 459707, 819484, 819483, 772042, 772044, 772045, 772046, 772047, 772048, 772049, 99498, 99499, 100239, 784747, 475153, 475154, 475155, 475156, 475157, 246920, 456973, 456974, 456975, 456972, 100346, 100347, 100348, 100349, 778010, 789091, 86388, 86389, 335850, 816051, 816052, 18442, 228187, 228188, 228189, 697228, 697229, 697230, 697231, 460998, 460999, 461000, 461001, 461002, 461003, 204083, 204084, 204085, 204086, 294396, 294397, 294395, 459724, 459725, 459726, 459727, 479537, 479538, 479526, 479560, 479561, 344939, 11702, 479610, 479611, 141298, 141299, 141287, 228205, 228206])\n"
     ]
    }
   ],
   "source": [
    "print(pdf_dict)"
   ]
  },
  {
   "cell_type": "code",
   "execution_count": 30,
   "metadata": {},
   "outputs": [],
   "source": [
    "def save_list_to_file(lst, filename):\n",
    "    with open(filename, 'w') as f:\n",
    "        for item in lst:\n",
    "            f.write(str(item) + '\\n')\n",
    "            \n",
    "def save_dict_to_pickle(dictionary, filename):\n",
    "    with open(filename, 'wb') as f:\n",
    "        pickle.dump(dictionary, f)\n",
    "        \n",
    "# create file for all urls from 9-way composers\n",
    "save_list_to_file(urls, '9_way_urls_for_all_scores.txt')\n",
    "save_dict_to_pickle(pdf_dict, '9_way_pdf_dict.pkl')"
   ]
  },
  {
   "cell_type": "code",
   "execution_count": 31,
   "metadata": {},
   "outputs": [],
   "source": []
  }
 ],
 "metadata": {
  "kernelspec": {
   "display_name": "base",
   "language": "python",
   "name": "python3"
  },
  "language_info": {
   "codemirror_mode": {
    "name": "ipython",
    "version": 3
   },
   "file_extension": ".py",
   "mimetype": "text/x-python",
   "name": "python",
   "nbconvert_exporter": "python",
   "pygments_lexer": "ipython3",
   "version": "3.11.5"
  }
 },
 "nbformat": 4,
 "nbformat_minor": 2
}
