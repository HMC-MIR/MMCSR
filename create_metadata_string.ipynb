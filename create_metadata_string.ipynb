{
 "cells": [
  {
   "cell_type": "code",
   "execution_count": 2,
   "metadata": {},
   "outputs": [],
   "source": [
    "import numpy as np\n",
    "import pickle"
   ]
  },
  {
   "cell_type": "code",
   "execution_count": 3,
   "metadata": {},
   "outputs": [],
   "source": [
    "with open('/home/ctang/ttmp/MMCSR/dataset_metadata/100_way_metadata.pkl', 'rb') as f:\n",
    "    data = pickle.load(f)"
   ]
  },
  {
   "cell_type": "code",
   "execution_count": 10,
   "metadata": {},
   "outputs": [],
   "source": [
    "data = list(data.values())"
   ]
  },
  {
   "cell_type": "code",
   "execution_count": 19,
   "metadata": {},
   "outputs": [],
   "source": [
    "metadata_strings = []\n",
    "for piece in data:\n",
    "    title = piece['Work Title'] if 'Work Title' in piece else 'an unknown name'\n",
    "    composer = piece['Composer'] if 'Composer' in piece else 'an unknown composer'\n",
    "    if ',' in composer:\n",
    "        composer = composer.split(',')\n",
    "        composer = composer[1].strip() + ' ' + composer[0].strip()\n",
    "    if 'Year/Date of Composition' in piece:\n",
    "        year = piece['Year/Date of Composition']\n",
    "    elif 'First Publication' in piece:\n",
    "        year = piece['First Publication']\n",
    "        year = year.replace('\\n', '').replace('\\t', '').replace('.', '')\n",
    "    elif 'Composer Time Period' in piece:\n",
    "        year = piece['Composer Time Period']\n",
    "    else:\n",
    "        year = 'an unknown year'\n",
    "    string = f'This piece of music is called “{title}”. It was composed by {composer} and first published in {year}.'\n",
    "    metadata_strings.append(string)"
   ]
  },
  {
   "cell_type": "code",
   "execution_count": 20,
   "metadata": {},
   "outputs": [],
   "source": [
    "# store the metadata strings into txt file\n",
    "with open('/home/ctang/ttmp/MMCSR/dataset_metadata/100_way_metadata.txt', 'w') as f:\n",
    "    for string in metadata_strings:\n",
    "        f.write(string + '\\n')"
   ]
  }
 ],
 "metadata": {
  "kernelspec": {
   "display_name": "baselines",
   "language": "python",
   "name": "python3"
  },
  "language_info": {
   "codemirror_mode": {
    "name": "ipython",
    "version": 3
   },
   "file_extension": ".py",
   "mimetype": "text/x-python",
   "name": "python",
   "nbconvert_exporter": "python",
   "pygments_lexer": "ipython3",
   "version": "3.11.5"
  }
 },
 "nbformat": 4,
 "nbformat_minor": 2
}
